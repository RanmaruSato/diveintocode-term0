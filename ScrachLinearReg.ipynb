{
 "cells": [
  {
   "cell_type": "code",
   "execution_count": 5,
   "metadata": {},
   "outputs": [
    {
     "name": "stderr",
     "output_type": "stream",
     "text": [
      "/Users/ranmarusato/anaconda/lib/python3.6/site-packages/matplotlib/__init__.py:1067: UserWarning: Duplicate key in file \"/Users/ranmarusato/.matplotlib/matplotlibrc\", line #629\n",
      "  (fname, cnt))\n"
     ]
    }
   ],
   "source": [
    "import numpy as np\n",
    "import pandas as pd"
   ]
  },
  {
   "cell_type": "code",
   "execution_count": 131,
   "metadata": {},
   "outputs": [],
   "source": [
    "class ScratchLinearRegression():\n",
    "    \"\"\"\n",
    "    線形回帰\n",
    "    ＊コンストラクタ（__init__）のパラメータはここに書いておくと分かりやすい\n",
    "\n",
    "    Parameters\n",
    "    ----------\n",
    "    num_iter : int\n",
    "      イテレーション数\n",
    "    lr : float\n",
    "      学習率\n",
    "    no_bias : bool\n",
    "      バイアス項を入れない場合はTrue\n",
    "    verbose : bool\n",
    "      学習過程を出力する場合はTrue\n",
    "\n",
    "    Attributes\n",
    "    ----------\n",
    "    self.coef_ : 次の形のndarray, shape (n_features,)\n",
    "      パラメータ\n",
    "    self.loss : 次の形のndarray, shape (self.iter,)\n",
    "      学習用データに対する損失の記録\n",
    "    self.val_loss : 次の形のndarray, shape (self.iter,)\n",
    "      検証用データに対する損失の記録\n",
    "\n",
    "    \"\"\"\n",
    "#     num_iter = 3000\n",
    "#     lr= 0.01\n",
    "\n",
    "    def __init__(self, num_iter, lr):\n",
    "        #メソッド内で共有したい変数をおlく\n",
    "        # ハイパーパラメータを属性として記録\n",
    "        self.iter = num_iter\n",
    "        self.lr = lr\n",
    "#         self.bias = bias\n",
    "#         self.verbose = verbose\n",
    "        # 損失を記録する配列を用意\n",
    "        self.loss = np.zeros(self.iter)\n",
    "        self.val_loss = np.zeros(self.iter)\n",
    "        #predictで使う重み\n",
    "        self.theta =  np.random.rand(2)\n",
    "\n",
    "\n",
    "    def compute_cost(self,X,y):\n",
    "        y_hat= np.dot(self.theta,X.T)\n",
    "        loss = np.sum((y_hat - 2)**2)/(len(X)*2)\n",
    "        return loss\n",
    "    \n",
    "    def  _gradient_descent(self,X,y):\n",
    "            theta = np.random.rand(X.shape[1])\n",
    "           #訓練データの誤差\n",
    "            past_costs = []\n",
    "            #バリデーションデータの誤差\n",
    "#             val_past_costs =[]\n",
    "            #重み\n",
    "            past_thetas = []\n",
    "            #平均二乗和誤差を計算する\n",
    "            loss = self.compute_cost(X,y)\n",
    "            #バリデーションデータの平均２乗和誤差\n",
    "#             val_loss = compute_cost(x_val,y_val,theta)\n",
    "            #追加\n",
    "            past_costs.append(loss)\n",
    "#             val_past_costs.append(val_loss)\n",
    "            #追加\n",
    "            past_thetas.append(self.theta)\n",
    "\n",
    "            for i in range(self.iter):\n",
    "                #仮定関数\n",
    "                y_hat = np.dot(X, self.theta)\n",
    "#                 val_y_hat =  np.dot(x_val, theta)\n",
    "                #パラメータの更新式\n",
    "                self.theta =self. theta - (self.lr/len(y)) * np.dot(X.T, y_hat - y)\n",
    "                # 訓練データの誤差を計算する\n",
    "                self.loss = self.compute_cost(X,y)\n",
    "                #訓練データの誤差を格納する\n",
    "                past_costs.append(loss)\n",
    "                #バリデーションデータの誤差を計算する\n",
    "#                 val_loss = compute_cost(x_val,y_val,theta)\n",
    "                #バリデーションデータの誤差を格納する\n",
    "#                 val_past_costs.append(val_loss)\n",
    "                past_thetas.append(theta)\n",
    "\n",
    "            self.loss = past_costs\n",
    "            self.theta = past_thetas\n",
    "\n",
    "\n",
    "    \n",
    "    def fit(self, X, y, X_val=None, y_val=None):\n",
    "        \"\"\"\n",
    "        線形回帰を学習する。検証用データが入力された場合はそれに対する損失と精度もイテレーションごとに計算する。\n",
    "\n",
    "        Parameters\n",
    "        ----------\n",
    "        X : 次の形のndarray, shape (n_samples, n_features)\n",
    "            学習用データの特徴量\n",
    "        y : 次の形のndarray, shape (n_samples, )\n",
    "            学習用データの正解値\n",
    "        X_val : 次の形のndarray, shape (n_samples, n_features)\n",
    "            検証用データの特徴量\n",
    "        y_val : 次の形のndarray, shape (n_samples, )\n",
    "            検証用データの正解値\n",
    "        \"\"\"\n",
    "        \n",
    "        self._gradient_descent(X,y)\n",
    "#         if self.verbose:\n",
    "#             #verboseをTrueにした際は学習過程を出力\n",
    "#             print()\n",
    "        \n",
    "        \n",
    "    #返す値は他で使わないのでリターンで返す\n",
    "    def predict(self, X):\n",
    "        \"\"\"\n",
    "        線形回帰を使い推定する。\n",
    "\n",
    "        Parameters\n",
    "        ----------\n",
    "        X : 次の形のndarray, shape (n_samples, n_features)\n",
    "            サンプル\n",
    "\n",
    "        Returns\n",
    "        -------\n",
    "            次の形のndarray, shape (n_samples, 1)\n",
    "            線形回帰による推定結果\n",
    "        \"\"\"\n",
    "    \n",
    "        \n",
    "        return np.dot(self.theta,np.array(X).T)"
   ]
  },
  {
   "cell_type": "code",
   "execution_count": 132,
   "metadata": {},
   "outputs": [],
   "source": [
    "model = ScratchLinearRegression(num_iter=2000, lr=0.001)"
   ]
  },
  {
   "cell_type": "code",
   "execution_count": 133,
   "metadata": {
    "collapsed": true
   },
   "outputs": [],
   "source": [
    "train = pd.read_csv('../train.csv')"
   ]
  },
  {
   "cell_type": "code",
   "execution_count": 134,
   "metadata": {
    "collapsed": true
   },
   "outputs": [],
   "source": [
    "X = train.loc[:,['GrLivArea','YearBuilt']]"
   ]
  },
  {
   "cell_type": "code",
   "execution_count": 135,
   "metadata": {
    "collapsed": true
   },
   "outputs": [],
   "source": [
    "y = train['SalePrice']"
   ]
  },
  {
   "cell_type": "code",
   "execution_count": 136,
   "metadata": {},
   "outputs": [
    {
     "name": "stderr",
     "output_type": "stream",
     "text": [
      "/Users/ranmarusato/.local/lib/python3.6/site-packages/numpy/core/fromnumeric.py:83: RuntimeWarning: overflow encountered in reduce\n",
      "  return ufunc.reduce(obj, axis, dtype, out, **passkwargs)\n",
      "/Users/ranmarusato/anaconda/lib/python3.6/site-packages/ipykernel_launcher.py:46: RuntimeWarning: overflow encountered in square\n",
      "/Users/ranmarusato/anaconda/lib/python3.6/site-packages/ipykernel_launcher.py:72: RuntimeWarning: invalid value encountered in subtract\n"
     ]
    }
   ],
   "source": [
    "model.fit(X,y)"
   ]
  },
  {
   "cell_type": "code",
   "execution_count": 78,
   "metadata": {},
   "outputs": [],
   "source": [
    "test = pd.read_csv('../test.csv')\n",
    "test = test.loc[:,['GrLivArea','YearBuilt']]"
   ]
  },
  {
   "cell_type": "code",
   "execution_count": 137,
   "metadata": {},
   "outputs": [
    {
     "data": {
      "text/plain": [
       "array([[ 919.41357437, 1035.3387365 , 1129.84613114, ..., 1007.66711892,\n",
       "         950.11067956, 1228.6784968 ],\n",
       "       [1631.06203142, 1923.0096769 , 2146.72704947, ..., 1852.87834935,\n",
       "        1697.40662863, 2396.12529557],\n",
       "       [1631.06203142, 1923.0096769 , 2146.72704947, ..., 1852.87834935,\n",
       "        1697.40662863, 2396.12529557],\n",
       "       ...,\n",
       "       [1631.06203142, 1923.0096769 , 2146.72704947, ..., 1852.87834935,\n",
       "        1697.40662863, 2396.12529557],\n",
       "       [1631.06203142, 1923.0096769 , 2146.72704947, ..., 1852.87834935,\n",
       "        1697.40662863, 2396.12529557],\n",
       "       [1631.06203142, 1923.0096769 , 2146.72704947, ..., 1852.87834935,\n",
       "        1697.40662863, 2396.12529557]])"
      ]
     },
     "execution_count": 137,
     "metadata": {},
     "output_type": "execute_result"
    }
   ],
   "source": [
    "model.predict(test)\n"
   ]
  }
 ],
 "metadata": {
  "kernelspec": {
   "display_name": "Python 3",
   "language": "python",
   "name": "python3"
  },
  "language_info": {
   "codemirror_mode": {
    "name": "ipython",
    "version": 3
   },
   "file_extension": ".py",
   "mimetype": "text/x-python",
   "name": "python",
   "nbconvert_exporter": "python",
   "pygments_lexer": "ipython3",
   "version": "3.6.1"
  }
 },
 "nbformat": 4,
 "nbformat_minor": 2
}
