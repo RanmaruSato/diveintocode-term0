{
 "cells": [
  {
   "cell_type": "code",
   "execution_count": 5,
   "metadata": {},
   "outputs": [
    {
     "name": "stderr",
     "output_type": "stream",
     "text": [
      "/Users/ranmarusato/anaconda/lib/python3.6/site-packages/matplotlib/__init__.py:1067: UserWarning: Duplicate key in file \"/Users/ranmarusato/.matplotlib/matplotlibrc\", line #629\n",
      "  (fname, cnt))\n"
     ]
    }
   ],
   "source": [
    "import numpy as np\n",
    "import pandas as pd"
   ]
  },
  {
   "cell_type": "code",
   "execution_count": 131,
   "metadata": {
    "collapsed": true
   },
   "outputs": [],
   "source": [
    "class ScratchLinearRegression():\n",
    "    \"\"\"\n",
    "    線形回帰\n",
    "    ＊コンストラクタ（__init__）のパラメータはここに書いておくと分かりやすい\n",
    "\n",
    "    Parameters\n",
    "    ----------\n",
    "    num_iter : int\n",
    "      イテレーション数\n",
    "    lr : float\n",
    "      学習率\n",
    "    no_bias : bool\n",
    "      バイアス項を入れない場合はTrue\n",
    "    verbose : bool\n",
    "      学習過程を出力する場合はTrue\n",
    "\n",
    "    Attributes\n",
    "    ----------\n",
    "    self.coef_ : 次の形のndarray, shape (n_features,)\n",
    "      パラメータ\n",
    "    self.loss : 次の形のndarray, shape (self.iter,)\n",
    "      学習用データに対する損失の記録\n",
    "    self.val_loss : 次の形のndarray, shape (self.iter,)\n",
    "      検証用データに対する損失の記録\n",
    "\n",
    "    \"\"\"\n",
    "#     num_iter = 3000\n",
    "#     lr= 0.01\n",
    "\n",
    "    def __init__(self, num_iter, lr):\n",
    "        #メソッド内で共有したい変数をおlく\n",
    "        # ハイパーパラメータを属性として記録\n",
    "        self.iter = num_iter\n",
    "        self.lr = lr\n",
    "#         self.bias = bias\n",
    "#         self.verbose = verbose\n",
    "        # 損失を記録する配列を用意\n",
    "        self.loss = np.zeros(self.iter)\n",
    "        self.val_loss = np.zeros(self.iter)\n",
    "        #predictで使う重み\n",
    "        self.theta =  np.random.rand(2)\n",
    "\n",
    "\n",
    "    def compute_cost(self,X,y):\n",
    "        y_hat= np.dot(self.theta,X.T)\n",
    "        loss = np.sum((y_hat - 2)**2)/(len(X)*2)\n",
    "        return loss\n",
    "    \n",
    "    def  _gradient_descent(self,X,y):\n",
    "            theta = np.random.rand(X.shape[1])\n",
    "           #訓練データの誤差\n",
    "            past_costs = []\n",
    "            #バリデーションデータの誤差\n",
    "#             val_past_costs =[]\n",
    "            #重み\n",
    "            past_thetas = []\n",
    "            #平均二乗和誤差を計算する\n",
    "            loss = self.compute_cost(X,y)\n",
    "            #バリデーションデータの平均２乗和誤差\n",
    "#             val_loss = compute_cost(x_val,y_val,theta)\n",
    "            #追加\n",
    "            past_costs.append(loss)\n",
    "#             val_past_costs.append(val_loss)\n",
    "            #追加\n",
    "            past_thetas.append(self.theta)\n",
    "\n",
    "            for i in range(self.iter):\n",
    "                #仮定関数\n",
    "                y_hat = np.dot(X, self.theta)\n",
    "#                 val_y_hat =  np.dot(x_val, theta)\n",
    "                #パラメータの更新式\n",
    "                self.theta =self. theta - (self.lr/len(y)) * np.dot(X.T, y_hat - y)\n",
    "                # 訓練データの誤差を計算する\n",
    "                self.loss = self.compute_cost(X,y)\n",
    "                #訓練データの誤差を格納する\n",
    "                past_costs.append(loss)\n",
    "                #バリデーションデータの誤差を計算する\n",
    "#                 val_loss = compute_cost(x_val,y_val,theta)\n",
    "                #バリデーションデータの誤差を格納する\n",
    "#                 val_past_costs.append(val_loss)\n",
    "                past_thetas.append(theta)\n",
    "\n",
    "            self.loss = past_costs\n",
    "            self.theta = past_thetas\n",
    "\n",
    "\n",
    "    \n",
    "    def fit(self, X, y, X_val=None, y_val=None):\n",
    "        \"\"\"\n",
    "        線形回帰を学習する。検証用データが入力された場合はそれに対する損失と精度もイテレーションごとに計算する。\n",
    "\n",
    "        Parameters\n",
    "        ----------\n",
    "        X : 次の形のndarray, shape (n_samples, n_features)\n",
    "            学習用データの特徴量\n",
    "        y : 次の形のndarray, shape (n_samples, )\n",
    "            学習用データの正解値\n",
    "        X_val : 次の形のndarray, shape (n_samples, n_features)\n",
    "            検証用データの特徴量\n",
    "        y_val : 次の形のndarray, shape (n_samples, )\n",
    "            検証用データの正解値\n",
    "        \"\"\"\n",
    "        \n",
    "        self._gradient_descent(X,y)\n",
    "#         if self.verbose:\n",
    "#             #verboseをTrueにした際は学習過程を出力\n",
    "#             print()\n",
    "        \n",
    "        \n",
    "    #返す値は他で使わないのでリターンで返す\n",
    "    def predict(self, X):\n",
    "        \"\"\"\n",
    "        線形回帰を使い推定する。\n",
    "\n",
    "        Parameters\n",
    "        ----------\n",
    "        X : 次の形のndarray, shape (n_samples, n_features)\n",
    "            サンプル\n",
    "\n",
    "        Returns\n",
    "        -------\n",
    "            次の形のndarray, shape (n_samples, 1)\n",
    "            線形回帰による推定結果\n",
    "        \"\"\"\n",
    "    \n",
    "        \n",
    "        return np.dot(self.theta,np.array(X).T)"
   ]
  },
  {
   "cell_type": "code",
   "execution_count": 132,
   "metadata": {
    "collapsed": true
   },
   "outputs": [],
   "source": [
    "model = ScratchLinearRegression(num_iter=2000, lr=0.001)"
   ]
  },
  {
   "cell_type": "code",
   "execution_count": 133,
   "metadata": {
    "collapsed": true
   },
   "outputs": [],
   "source": [
    "train = pd.read_csv('../train.csv')"
   ]
  },
  {
   "cell_type": "code",
   "execution_count": 134,
   "metadata": {
    "collapsed": true
   },
   "outputs": [],
   "source": [
    "X = train.loc[:,['GrLivArea','YearBuilt']]"
   ]
  },
  {
   "cell_type": "code",
   "execution_count": 135,
   "metadata": {
    "collapsed": true
   },
   "outputs": [],
   "source": [
    "y = train['SalePrice']"
   ]
  },
  {
   "cell_type": "code",
   "execution_count": 136,
   "metadata": {},
   "outputs": [
    {
     "name": "stderr",
     "output_type": "stream",
     "text": [
      "/Users/ranmarusato/.local/lib/python3.6/site-packages/numpy/core/fromnumeric.py:83: RuntimeWarning: overflow encountered in reduce\n",
      "  return ufunc.reduce(obj, axis, dtype, out, **passkwargs)\n",
      "/Users/ranmarusato/anaconda/lib/python3.6/site-packages/ipykernel_launcher.py:46: RuntimeWarning: overflow encountered in square\n",
      "/Users/ranmarusato/anaconda/lib/python3.6/site-packages/ipykernel_launcher.py:72: RuntimeWarning: invalid value encountered in subtract\n"
     ]
    }
   ],
   "source": [
    "model.fit(X,y)"
   ]
  },
  {
   "cell_type": "code",
   "execution_count": 78,
   "metadata": {
    "collapsed": true
   },
   "outputs": [],
   "source": [
    "test = pd.read_csv('../test.csv')\n",
    "test = test.loc[:,['GrLivArea','YearBuilt']]"
   ]
  },
  {
   "cell_type": "code",
   "execution_count": null,
   "metadata": {},
   "outputs": [],
   "source": [
    "\n"
   ]
  },
  {
   "cell_type": "code",
   "execution_count": null,
   "metadata": {
    "collapsed": true
   },
   "outputs": [],
   "source": []
  },
  {
   "cell_type": "code",
   "execution_count": null,
   "metadata": {
    "collapsed": true
   },
   "outputs": [],
   "source": []
  },
  {
   "cell_type": "code",
   "execution_count": 143,
   "metadata": {},
   "outputs": [],
   "source": [
    "iris = pd.read_csv('../iris.csv')"
   ]
  },
  {
   "cell_type": "code",
   "execution_count": 179,
   "metadata": {},
   "outputs": [
    {
     "ename": "IndexError",
     "evalue": "positional indexers are out-of-bounds",
     "output_type": "error",
     "traceback": [
      "\u001b[0;31m---------------------------------------------------------------------------\u001b[0m",
      "\u001b[0;31mIndexError\u001b[0m                                Traceback (most recent call last)",
      "\u001b[0;32m/Users/ranmarusato/anaconda/lib/python3.6/site-packages/pandas/core/indexing.py\u001b[0m in \u001b[0;36m_get_list_axis\u001b[0;34m(self, key, axis)\u001b[0m\n\u001b[1;32m   1714\u001b[0m         \u001b[0;32mtry\u001b[0m\u001b[0;34m:\u001b[0m\u001b[0;34m\u001b[0m\u001b[0m\n\u001b[0;32m-> 1715\u001b[0;31m             \u001b[0;32mreturn\u001b[0m \u001b[0mself\u001b[0m\u001b[0;34m.\u001b[0m\u001b[0mobj\u001b[0m\u001b[0;34m.\u001b[0m\u001b[0mtake\u001b[0m\u001b[0;34m(\u001b[0m\u001b[0mkey\u001b[0m\u001b[0;34m,\u001b[0m \u001b[0maxis\u001b[0m\u001b[0;34m=\u001b[0m\u001b[0maxis\u001b[0m\u001b[0;34m,\u001b[0m \u001b[0mconvert\u001b[0m\u001b[0;34m=\u001b[0m\u001b[0;32mFalse\u001b[0m\u001b[0;34m)\u001b[0m\u001b[0;34m\u001b[0m\u001b[0m\n\u001b[0m\u001b[1;32m   1716\u001b[0m         \u001b[0;32mexcept\u001b[0m \u001b[0mIndexError\u001b[0m\u001b[0;34m:\u001b[0m\u001b[0;34m\u001b[0m\u001b[0m\n",
      "\u001b[0;32m/Users/ranmarusato/anaconda/lib/python3.6/site-packages/pandas/core/generic.py\u001b[0m in \u001b[0;36mtake\u001b[0;34m(self, indices, axis, convert, is_copy, **kwargs)\u001b[0m\n\u001b[1;32m   1816\u001b[0m                                    \u001b[0maxis\u001b[0m\u001b[0;34m=\u001b[0m\u001b[0mself\u001b[0m\u001b[0;34m.\u001b[0m\u001b[0m_get_block_manager_axis\u001b[0m\u001b[0;34m(\u001b[0m\u001b[0maxis\u001b[0m\u001b[0;34m)\u001b[0m\u001b[0;34m,\u001b[0m\u001b[0;34m\u001b[0m\u001b[0m\n\u001b[0;32m-> 1817\u001b[0;31m                                    convert=True, verify=True)\n\u001b[0m\u001b[1;32m   1818\u001b[0m         \u001b[0mresult\u001b[0m \u001b[0;34m=\u001b[0m \u001b[0mself\u001b[0m\u001b[0;34m.\u001b[0m\u001b[0m_constructor\u001b[0m\u001b[0;34m(\u001b[0m\u001b[0mnew_data\u001b[0m\u001b[0;34m)\u001b[0m\u001b[0;34m.\u001b[0m\u001b[0m__finalize__\u001b[0m\u001b[0;34m(\u001b[0m\u001b[0mself\u001b[0m\u001b[0;34m)\u001b[0m\u001b[0;34m\u001b[0m\u001b[0m\n",
      "\u001b[0;32m/Users/ranmarusato/anaconda/lib/python3.6/site-packages/pandas/core/internals.py\u001b[0m in \u001b[0;36mtake\u001b[0;34m(self, indexer, axis, verify, convert)\u001b[0m\n\u001b[1;32m   4001\u001b[0m         \u001b[0;32mif\u001b[0m \u001b[0mconvert\u001b[0m\u001b[0;34m:\u001b[0m\u001b[0;34m\u001b[0m\u001b[0m\n\u001b[0;32m-> 4002\u001b[0;31m             \u001b[0mindexer\u001b[0m \u001b[0;34m=\u001b[0m \u001b[0mmaybe_convert_indices\u001b[0m\u001b[0;34m(\u001b[0m\u001b[0mindexer\u001b[0m\u001b[0;34m,\u001b[0m \u001b[0mn\u001b[0m\u001b[0;34m)\u001b[0m\u001b[0;34m\u001b[0m\u001b[0m\n\u001b[0m\u001b[1;32m   4003\u001b[0m \u001b[0;34m\u001b[0m\u001b[0m\n",
      "\u001b[0;32m/Users/ranmarusato/anaconda/lib/python3.6/site-packages/pandas/core/indexing.py\u001b[0m in \u001b[0;36mmaybe_convert_indices\u001b[0;34m(indices, n)\u001b[0m\n\u001b[1;32m   1996\u001b[0m     \u001b[0;32mif\u001b[0m \u001b[0mmask\u001b[0m\u001b[0;34m.\u001b[0m\u001b[0many\u001b[0m\u001b[0;34m(\u001b[0m\u001b[0;34m)\u001b[0m\u001b[0;34m:\u001b[0m\u001b[0;34m\u001b[0m\u001b[0m\n\u001b[0;32m-> 1997\u001b[0;31m         \u001b[0;32mraise\u001b[0m \u001b[0mIndexError\u001b[0m\u001b[0;34m(\u001b[0m\u001b[0;34m\"indices are out-of-bounds\"\u001b[0m\u001b[0;34m)\u001b[0m\u001b[0;34m\u001b[0m\u001b[0m\n\u001b[0m\u001b[1;32m   1998\u001b[0m     \u001b[0;32mreturn\u001b[0m \u001b[0mindices\u001b[0m\u001b[0;34m\u001b[0m\u001b[0m\n",
      "\u001b[0;31mIndexError\u001b[0m: indices are out-of-bounds",
      "\nDuring handling of the above exception, another exception occurred:\n",
      "\u001b[0;31mIndexError\u001b[0m                                Traceback (most recent call last)",
      "\u001b[0;32m<ipython-input-179-9beffd02fdca>\u001b[0m in \u001b[0;36m<module>\u001b[0;34m()\u001b[0m\n\u001b[1;32m      1\u001b[0m \u001b[0mindex\u001b[0m \u001b[0;34m=\u001b[0m \u001b[0;34m(\u001b[0m\u001b[0miris\u001b[0m\u001b[0;34m[\u001b[0m\u001b[0;34m'Species'\u001b[0m\u001b[0;34m]\u001b[0m\u001b[0;34m[\u001b[0m\u001b[0miris\u001b[0m\u001b[0;34m[\u001b[0m\u001b[0;34m'Species'\u001b[0m\u001b[0;34m]\u001b[0m\u001b[0;34m==\u001b[0m\u001b[0;34m'Iris-versicolor'\u001b[0m\u001b[0;34m]\u001b[0m\u001b[0;34m.\u001b[0m\u001b[0mindex\u001b[0m\u001b[0;34m)\u001b[0m\u001b[0;34m\u001b[0m\u001b[0m\n\u001b[1;32m      2\u001b[0m \u001b[0mindex\u001b[0m \u001b[0;34m=\u001b[0m \u001b[0mindex\u001b[0m\u001b[0;34m.\u001b[0m\u001b[0mappend\u001b[0m\u001b[0;34m(\u001b[0m \u001b[0miris\u001b[0m\u001b[0;34m[\u001b[0m\u001b[0;34m'Species'\u001b[0m\u001b[0;34m]\u001b[0m\u001b[0;34m[\u001b[0m\u001b[0miris\u001b[0m\u001b[0;34m[\u001b[0m\u001b[0;34m'Species'\u001b[0m\u001b[0;34m]\u001b[0m\u001b[0;34m==\u001b[0m\u001b[0;34m'Iris-virginica'\u001b[0m\u001b[0;34m]\u001b[0m\u001b[0;34m.\u001b[0m\u001b[0mindex\u001b[0m\u001b[0;34m)\u001b[0m\u001b[0;34m\u001b[0m\u001b[0m\n\u001b[0;32m----> 3\u001b[0;31m \u001b[0miris\u001b[0m \u001b[0;34m=\u001b[0m \u001b[0miris\u001b[0m\u001b[0;34m.\u001b[0m\u001b[0miloc\u001b[0m\u001b[0;34m[\u001b[0m\u001b[0mindex\u001b[0m\u001b[0;34m]\u001b[0m\u001b[0;34m\u001b[0m\u001b[0m\n\u001b[0m",
      "\u001b[0;32m/Users/ranmarusato/anaconda/lib/python3.6/site-packages/pandas/core/indexing.py\u001b[0m in \u001b[0;36m__getitem__\u001b[0;34m(self, key)\u001b[0m\n\u001b[1;32m   1326\u001b[0m         \u001b[0;32melse\u001b[0m\u001b[0;34m:\u001b[0m\u001b[0;34m\u001b[0m\u001b[0m\n\u001b[1;32m   1327\u001b[0m             \u001b[0mkey\u001b[0m \u001b[0;34m=\u001b[0m \u001b[0mcom\u001b[0m\u001b[0;34m.\u001b[0m\u001b[0m_apply_if_callable\u001b[0m\u001b[0;34m(\u001b[0m\u001b[0mkey\u001b[0m\u001b[0;34m,\u001b[0m \u001b[0mself\u001b[0m\u001b[0;34m.\u001b[0m\u001b[0mobj\u001b[0m\u001b[0;34m)\u001b[0m\u001b[0;34m\u001b[0m\u001b[0m\n\u001b[0;32m-> 1328\u001b[0;31m             \u001b[0;32mreturn\u001b[0m \u001b[0mself\u001b[0m\u001b[0;34m.\u001b[0m\u001b[0m_getitem_axis\u001b[0m\u001b[0;34m(\u001b[0m\u001b[0mkey\u001b[0m\u001b[0;34m,\u001b[0m \u001b[0maxis\u001b[0m\u001b[0;34m=\u001b[0m\u001b[0;36m0\u001b[0m\u001b[0;34m)\u001b[0m\u001b[0;34m\u001b[0m\u001b[0m\n\u001b[0m\u001b[1;32m   1329\u001b[0m \u001b[0;34m\u001b[0m\u001b[0m\n\u001b[1;32m   1330\u001b[0m     \u001b[0;32mdef\u001b[0m \u001b[0m_is_scalar_access\u001b[0m\u001b[0;34m(\u001b[0m\u001b[0mself\u001b[0m\u001b[0;34m,\u001b[0m \u001b[0mkey\u001b[0m\u001b[0;34m)\u001b[0m\u001b[0;34m:\u001b[0m\u001b[0;34m\u001b[0m\u001b[0m\n",
      "\u001b[0;32m/Users/ranmarusato/anaconda/lib/python3.6/site-packages/pandas/core/indexing.py\u001b[0m in \u001b[0;36m_getitem_axis\u001b[0;34m(self, key, axis)\u001b[0m\n\u001b[1;32m   1736\u001b[0m         \u001b[0;31m# a list of integers\u001b[0m\u001b[0;34m\u001b[0m\u001b[0;34m\u001b[0m\u001b[0m\n\u001b[1;32m   1737\u001b[0m         \u001b[0;32melif\u001b[0m \u001b[0mis_list_like_indexer\u001b[0m\u001b[0;34m(\u001b[0m\u001b[0mkey\u001b[0m\u001b[0;34m)\u001b[0m\u001b[0;34m:\u001b[0m\u001b[0;34m\u001b[0m\u001b[0m\n\u001b[0;32m-> 1738\u001b[0;31m             \u001b[0;32mreturn\u001b[0m \u001b[0mself\u001b[0m\u001b[0;34m.\u001b[0m\u001b[0m_get_list_axis\u001b[0m\u001b[0;34m(\u001b[0m\u001b[0mkey\u001b[0m\u001b[0;34m,\u001b[0m \u001b[0maxis\u001b[0m\u001b[0;34m=\u001b[0m\u001b[0maxis\u001b[0m\u001b[0;34m)\u001b[0m\u001b[0;34m\u001b[0m\u001b[0m\n\u001b[0m\u001b[1;32m   1739\u001b[0m \u001b[0;34m\u001b[0m\u001b[0m\n\u001b[1;32m   1740\u001b[0m         \u001b[0;31m# a single integer\u001b[0m\u001b[0;34m\u001b[0m\u001b[0;34m\u001b[0m\u001b[0m\n",
      "\u001b[0;32m/Users/ranmarusato/anaconda/lib/python3.6/site-packages/pandas/core/indexing.py\u001b[0m in \u001b[0;36m_get_list_axis\u001b[0;34m(self, key, axis)\u001b[0m\n\u001b[1;32m   1716\u001b[0m         \u001b[0;32mexcept\u001b[0m \u001b[0mIndexError\u001b[0m\u001b[0;34m:\u001b[0m\u001b[0;34m\u001b[0m\u001b[0m\n\u001b[1;32m   1717\u001b[0m             \u001b[0;31m# re-raise with different error message\u001b[0m\u001b[0;34m\u001b[0m\u001b[0;34m\u001b[0m\u001b[0m\n\u001b[0;32m-> 1718\u001b[0;31m             \u001b[0;32mraise\u001b[0m \u001b[0mIndexError\u001b[0m\u001b[0;34m(\u001b[0m\u001b[0;34m\"positional indexers are out-of-bounds\"\u001b[0m\u001b[0;34m)\u001b[0m\u001b[0;34m\u001b[0m\u001b[0m\n\u001b[0m\u001b[1;32m   1719\u001b[0m \u001b[0;34m\u001b[0m\u001b[0m\n\u001b[1;32m   1720\u001b[0m     \u001b[0;32mdef\u001b[0m \u001b[0m_getitem_axis\u001b[0m\u001b[0;34m(\u001b[0m\u001b[0mself\u001b[0m\u001b[0;34m,\u001b[0m \u001b[0mkey\u001b[0m\u001b[0;34m,\u001b[0m \u001b[0maxis\u001b[0m\u001b[0;34m=\u001b[0m\u001b[0;36m0\u001b[0m\u001b[0;34m)\u001b[0m\u001b[0;34m:\u001b[0m\u001b[0;34m\u001b[0m\u001b[0m\n",
      "\u001b[0;31mIndexError\u001b[0m: positional indexers are out-of-bounds"
     ]
    }
   ],
   "source": [
    "index = (iris['Species'][iris['Species']=='Iris-versicolor'].index)\n",
    "index = index.append( iris['Species'][iris['Species']=='Iris-virginica'].index)\n",
    "iris = iris.iloc[index]"
   ]
  },
  {
   "cell_type": "code",
   "execution_count": null,
   "metadata": {
    "collapsed": true
   },
   "outputs": [],
   "source": [
    "class ScratchLogisticRegression():\n",
    "\n",
    "\n",
    "    def __init__(self, num_iter, lr):\n",
    "        #メソッド内で共有したい変数をおlく\n",
    "        # ハイパーパラメータを属性として記録\n",
    "        self.iter = num_iter\n",
    "        self.lr = lr\n",
    "        # 損失を記録する配列を用意\n",
    "        self.loss = np.zeros(self.iter)\n",
    "        self.val_loss = np.zeros(self.iter)\n",
    "        #predictで使う重み\n",
    "        self.theta =  np.random.rand(2)\n",
    "\n",
    "    def compute_cost(self,X,y):\n",
    "        y_hat= np.dot(self.theta,X.T)\n",
    "        loss = np.sum((y_hat - 2)**2)/(len(X)*2)\n",
    "        return loss\n",
    "    \n",
    "    def  _gradient_descent(self,X,y):\n",
    "            theta = np.random.rand(X.shape[1])\n",
    "           #訓練データの誤差\n",
    "            past_costs = []\n",
    "\n",
    "            #重み\n",
    "            past_thetas = []\n",
    "            #平均二乗和誤差を計算する\n",
    "            loss = self.compute_cost(X,y)\n",
    "\n",
    "            #追加\n",
    "            past_costs.append(loss)\n",
    "\n",
    "            #追加\n",
    "            past_thetas.append(self.theta)\n",
    "\n",
    "            for i in range(self.iter):\n",
    "                #仮定関数\n",
    "                y_hat = np.dot(X, self.theta)\n",
    "\n",
    "                #パラメータの更新式\n",
    "                self.theta =self. theta - (self.lr/len(y)) * np.dot(X.T, y_hat - y)\n",
    "                # 訓練データの誤差を計算する\n",
    "                self.loss = self.compute_cost(X,y)\n",
    "                #訓練データの誤差を格納する\n",
    "                past_costs.append(loss)\n",
    "\n",
    "                past_thetas.append(theta)\n",
    "\n",
    "            self.loss = past_costs\n",
    "            self.theta = past_thetas\n",
    "\n",
    "\n",
    "    \n",
    "    def fit(self, X, y, X_val=None, y_val=None):\n",
    "        \"\"\"\n",
    "        線形回帰を学習する。検証用データが入力された場合はそれに対する損失と精度もイテレーションごとに計算する。\n",
    "\n",
    "        Parameters\n",
    "        ----------\n",
    "        X : 次の形のndarray, shape (n_samples, n_features)\n",
    "            学習用データの特徴量\n",
    "        y : 次の形のndarray, shape (n_samples, )\n",
    "            学習用データの正解値\n",
    "        X_val : 次の形のndarray, shape (n_samples, n_features)\n",
    "            検証用データの特徴量\n",
    "        y_val : 次の形のndarray, shape (n_samples, )\n",
    "            検証用データの正解値\n",
    "        \"\"\"\n",
    "        \n",
    "        self._gradient_descent(X,y)\n",
    "#         if self.verbose:\n",
    "#             #verboseをTrueにした際は学習過程を出力\n",
    "#             print()\n",
    "        \n",
    "        \n",
    "    #返す値は他で使わないのでリターンで返す\n",
    "    def predict(self, X):\n",
    "        \"\"\"\n",
    "        線形回帰を使い推定する。\n",
    "\n",
    "        Parameters\n",
    "        ----------\n",
    "        X : 次の形のndarray, shape (n_samples, n_features)\n",
    "            サンプル\n",
    "\n",
    "        Returns\n",
    "        -------\n",
    "            次の形のndarray, shape (n_samples, 1)\n",
    "            線形回帰による推定結果\n",
    "        \"\"\"\n",
    "    \n",
    "        \n",
    "        return np.dot(self.theta,np.array(X).T)"
   ]
  },
  {
   "cell_type": "code",
   "execution_count": 171,
   "metadata": {},
   "outputs": [
    {
     "name": "stderr",
     "output_type": "stream",
     "text": [
      "/Users/ranmarusato/anaconda/lib/python3.6/site-packages/matplotlib/font_manager.py:1328: UserWarning: findfont: Font family ['IPAexGothic'] not found. Falling back to DejaVu Sans\n",
      "  (prop.get_family(), self.defaultFamily[fontext]))\n"
     ]
    },
    {
     "data": {
      "image/png": "[encoded data removed]",
      "text/plain": [
       "<Figure size 432x288 with 1 Axes>"
      ]
     },
     "metadata": {},
     "output_type": "display_data"
    }
   ],
   "source": [
    "plt.plot(x, y)\n",
    "plt.show()"
   ]
  },
  {
   "cell_type": "code",
   "execution_count": 337,
   "metadata": {},
   "outputs": [
    {
     "data": {
      "text/html": [
       "<div>\n",
       "<style>\n",
       "    .dataframe thead tr:only-child th {\n",
       "        text-align: right;\n",
       "    }\n",
       "\n",
       "    .dataframe thead th {\n",
       "        text-align: left;\n",
       "    }\n",
       "\n",
       "    .dataframe tbody tr th {\n",
       "        vertical-align: top;\n",
       "    }\n",
       "</style>\n",
       "<table border=\"1\" class=\"dataframe\">\n",
       "  <thead>\n",
       "    <tr style=\"text-align: right;\">\n",
       "      <th></th>\n",
       "      <th>SepalLengthCm</th>\n",
       "      <th>SepalWidthCm</th>\n",
       "      <th>PetalLengthCm</th>\n",
       "      <th>PetalWidthCm</th>\n",
       "    </tr>\n",
       "  </thead>\n",
       "  <tbody>\n",
       "    <tr>\n",
       "      <th>50</th>\n",
       "      <td>7.0</td>\n",
       "      <td>3.2</td>\n",
       "      <td>4.7</td>\n",
       "      <td>1.4</td>\n",
       "    </tr>\n",
       "    <tr>\n",
       "      <th>51</th>\n",
       "      <td>6.4</td>\n",
       "      <td>3.2</td>\n",
       "      <td>4.5</td>\n",
       "      <td>1.5</td>\n",
       "    </tr>\n",
       "    <tr>\n",
       "      <th>52</th>\n",
       "      <td>6.9</td>\n",
       "      <td>3.1</td>\n",
       "      <td>4.9</td>\n",
       "      <td>1.5</td>\n",
       "    </tr>\n",
       "    <tr>\n",
       "      <th>53</th>\n",
       "      <td>5.5</td>\n",
       "      <td>2.3</td>\n",
       "      <td>4.0</td>\n",
       "      <td>1.3</td>\n",
       "    </tr>\n",
       "    <tr>\n",
       "      <th>54</th>\n",
       "      <td>6.5</td>\n",
       "      <td>2.8</td>\n",
       "      <td>4.6</td>\n",
       "      <td>1.5</td>\n",
       "    </tr>\n",
       "  </tbody>\n",
       "</table>\n",
       "</div>"
      ],
      "text/plain": [
       "    SepalLengthCm  SepalWidthCm  PetalLengthCm  PetalWidthCm\n",
       "50            7.0           3.2            4.7           1.4\n",
       "51            6.4           3.2            4.5           1.5\n",
       "52            6.9           3.1            4.9           1.5\n",
       "53            5.5           2.3            4.0           1.3\n",
       "54            6.5           2.8            4.6           1.5"
      ]
     },
     "execution_count": 337,
     "metadata": {},
     "output_type": "execute_result"
    }
   ],
   "source": [
    "X.head()"
   ]
  },
  {
   "cell_type": "code",
   "execution_count": 336,
   "metadata": {},
   "outputs": [],
   "source": [
    "X = X.drop('Id',axis=1)"
   ]
  },
  {
   "cell_type": "code",
   "execution_count": 168,
   "metadata": {},
   "outputs": [],
   "source": [
    "x = np.arange(-10,10,0.1)\n",
    "y = sigmoid(x)"
   ]
  },
  {
   "cell_type": "code",
   "execution_count": 170,
   "metadata": {
    "collapsed": true
   },
   "outputs": [],
   "source": [
    "import matplotlib.pyplot as plt\n",
    "import math\n",
    "import seaborn as sns \n",
    "sns.set\n",
    "%matplotlib inline"
   ]
  },
  {
   "cell_type": "code",
   "execution_count": 249,
   "metadata": {
    "scrolled": true
   },
   "outputs": [
    {
     "name": "stdout",
     "output_type": "stream",
     "text": [
      "4.539786870243442e-05\n",
      "0.0001233945759862318\n",
      "0.00033535013046647827\n",
      "0.0009110511944006456\n",
      "0.002472623156634775\n",
      "0.006692850924284857\n",
      "0.017986209962091562\n",
      "0.04742587317756679\n",
      "0.11920292202211757\n",
      "0.2689414213699951\n",
      "0.5\n",
      "0.7310585786300049\n",
      "0.8807970779778823\n",
      "0.9525741268224331\n",
      "0.9820137900379085\n",
      "0.9933071490757153\n",
      "0.9975273768433653\n",
      "0.9990889488055994\n",
      "0.9996646498695336\n",
      "0.9998766054240137\n",
      "0.9999546021312976\n"
     ]
    }
   ],
   "source": [
    "for  i in range(-10,11):\n",
    "    print(sigmoid(i))"
   ]
  },
  {
   "cell_type": "markdown",
   "metadata": {},
   "source": [
    "$ h_θ(x) = g(θ^T x).\\\\ $\n",
    "\n",
    "$ g(z) = \\frac{1}{1+e^{−z}}.\\\\ $\n",
    "\n",
    "$ J(\\theta)=  \\frac{1}{m}  \\sum_{i=1}^{m}[−y^{(i)} log(h_θ(x^{(i)})) − (1−y^{(i)}) log(1−h_θ(x^{(i)}))] +\n",
    "\\frac{λ}{2m}\\sum_{j=1}^n\n",
    "θ^2_j.\\\\ $"
   ]
  },
  {
   "cell_type": "markdown",
   "metadata": {},
   "source": [
    "$ h_θ(x) = g(θ^T x).\\\\ $"
   ]
  },
  {
   "cell_type": "code",
   "execution_count": 399,
   "metadata": {},
   "outputs": [
    {
     "data": {
      "text/plain": [
       "array([0.8810341 , 0.39778789, 0.34284467, 0.51497124])"
      ]
     },
     "execution_count": 399,
     "metadata": {},
     "output_type": "execute_result"
    }
   ],
   "source": [
    "theta"
   ]
  },
  {
   "cell_type": "code",
   "execution_count": 401,
   "metadata": {},
   "outputs": [
    {
     "data": {
      "text/plain": [
       "(100, 4)"
      ]
     },
     "execution_count": 401,
     "metadata": {},
     "output_type": "execute_result"
    }
   ],
   "source": [
    "X.shape"
   ]
  },
  {
   "cell_type": "code",
   "execution_count": null,
   "metadata": {},
   "outputs": [],
   "source": []
  },
  {
   "cell_type": "code",
   "execution_count": 386,
   "metadata": {},
   "outputs": [],
   "source": [
    "def y_hat(X,theta):\n",
    "    #y =  sigmoid(np.dot(theta,　X.T))\n",
    "    #仮定関数は、シグモイド関数の引数にθxを入れたもの\n",
    "    #theta= 4列\n",
    "    #X = 100*4\n",
    "    #(1*4 ) *(4*100)\n",
    "    # 100\n",
    "    y = sigmoid(np.dot(theta,X.T))\n",
    "    return y"
   ]
  },
  {
   "cell_type": "code",
   "execution_count": 453,
   "metadata": {},
   "outputs": [
    {
     "data": {
      "text/plain": [
       "array([0.999943  , 0.99990164, 0.99994256, 0.99959102, 0.99989796,\n",
       "       0.99976318, 0.99990845, 0.99901129, 0.99990047, 0.99955343,\n",
       "       0.99900887, 0.99981664, 0.99968026, 0.9998581 , 0.99966165,\n",
       "       0.99991438, 0.99978452, 0.99969796, 0.99982539, 0.99960326,\n",
       "       0.99988187, 0.99980238, 0.99987628, 0.99983632, 0.99986844,\n",
       "       0.9999027 , 0.99992299, 0.99993785, 0.99984236, 0.99957842,\n",
       "       0.99953344, 0.99949167, 0.99970818, 0.99986802, 0.99974301,\n",
       "       0.99987727, 0.99992663, 0.99982375, 0.99972605, 0.99962229,\n",
       "       0.99966679, 0.99985887, 0.99970657, 0.99905789, 0.99970173,\n",
       "       0.99974479, 0.99974776, 0.99984309, 0.99916124, 0.99972838,\n",
       "       0.99996312, 0.99986512, 0.99997388, 0.99992887, 0.99995645,\n",
       "       0.99998678, 0.99956066, 0.99997682, 0.99994526, 0.99998569,\n",
       "       0.99994332, 0.99992576, 0.99996098, 0.99984322, 0.9998998 ,\n",
       "       0.99995048, 0.99994069, 0.99999192, 0.99998844, 0.99982456,\n",
       "       0.99997221, 0.99984274, 0.99998666, 0.9999021 , 0.99996469,\n",
       "       0.99997509, 0.99989367, 0.99989637, 0.99994193, 0.99996798,\n",
       "       0.99997753, 0.99999167, 0.99994484, 0.99989747, 0.99988256,\n",
       "       0.99998703, 0.9999572 , 0.99993775, 0.99988288, 0.99996447,\n",
       "       0.9999661 , 0.99996447, 0.99986512, 0.99997166, 0.99997126,\n",
       "       0.9999574 , 0.9999027 , 0.9999407 , 0.99994729, 0.99988459])"
      ]
     },
     "execution_count": 453,
     "metadata": {},
     "output_type": "execute_result"
    }
   ],
   "source": [
    "y_hat(X,theta)"
   ]
  },
  {
   "cell_type": "markdown",
   "metadata": {},
   "source": [
    "$ g(z) = \\frac{1}{1+e^{−z}}.\\\\ $"
   ]
  },
  {
   "cell_type": "code",
   "execution_count": 413,
   "metadata": {},
   "outputs": [],
   "source": [
    "def sigmoid(X):\n",
    "    y = 1.0 / (1.0 + np.exp(-X))\n",
    "    return y"
   ]
  },
  {
   "cell_type": "markdown",
   "metadata": {},
   "source": [
    "$ J(\\theta)=  \\frac{1}{m}  \\sum_{i=1}^{m}[−y^{(i)} log(h_θ(x^{(i)})) − (1−y^{(i)}) log(1−h_θ(x^{(i)}))] +\n",
    "\\frac{λ}{2m}\\sum_{j=1}^n\n",
    "θ^2_j.\\\\ $"
   ]
  },
  {
   "cell_type": "code",
   "execution_count": 414,
   "metadata": {},
   "outputs": [
    {
     "data": {
      "text/plain": [
       "100"
      ]
     },
     "execution_count": 414,
     "metadata": {},
     "output_type": "execute_result"
    }
   ],
   "source": [
    "sigmoid(np.dot(theta,X.T)).size"
   ]
  },
  {
   "cell_type": "markdown",
   "metadata": {},
   "source": [
    "# シグマの中身　第一項"
   ]
  },
  {
   "cell_type": "code",
   "execution_count": 388,
   "metadata": {},
   "outputs": [
    {
     "ename": "ValueError",
     "evalue": "shapes (100,) and (200,) not aligned: 100 (dim 0) != 200 (dim 0)",
     "output_type": "error",
     "traceback": [
      "\u001b[0;31m---------------------------------------------------------------------------\u001b[0m",
      "\u001b[0;31mValueError\u001b[0m                                Traceback (most recent call last)",
      "\u001b[0;32m<ipython-input-388-6b2d4a3b0c55>\u001b[0m in \u001b[0;36m<module>\u001b[0;34m()\u001b[0m\n\u001b[0;32m----> 1\u001b[0;31m \u001b[0mnp\u001b[0m\u001b[0;34m.\u001b[0m\u001b[0mdot\u001b[0m\u001b[0;34m(\u001b[0m\u001b[0;34m(\u001b[0m\u001b[0;36m1\u001b[0m\u001b[0;34m-\u001b[0m\u001b[0my\u001b[0m\u001b[0;34m)\u001b[0m\u001b[0;34m,\u001b[0m\u001b[0mnp\u001b[0m\u001b[0;34m.\u001b[0m\u001b[0mlog\u001b[0m\u001b[0;34m(\u001b[0m\u001b[0;36m1\u001b[0m\u001b[0;34m-\u001b[0m\u001b[0my_hat\u001b[0m\u001b[0;34m(\u001b[0m\u001b[0mX\u001b[0m\u001b[0;34m.\u001b[0m\u001b[0mvalues\u001b[0m\u001b[0;34m,\u001b[0m\u001b[0mtheta\u001b[0m\u001b[0;34m)\u001b[0m\u001b[0;34m)\u001b[0m\u001b[0;34m)\u001b[0m\u001b[0;34m\u001b[0m\u001b[0m\n\u001b[0m",
      "\u001b[0;31mValueError\u001b[0m: shapes (100,) and (200,) not aligned: 100 (dim 0) != 200 (dim 0)"
     ]
    }
   ],
   "source": [
    "np.dot((1-y),np.log(1-y_hat(X.values,theta)))"
   ]
  },
  {
   "cell_type": "code",
   "execution_count": 415,
   "metadata": {},
   "outputs": [
    {
     "data": {
      "text/plain": [
       "(100,)"
      ]
     },
     "execution_count": 415,
     "metadata": {},
     "output_type": "execute_result"
    }
   ],
   "source": [
    "np.log(1-y_hat(X.values,theta)).shape"
   ]
  },
  {
   "cell_type": "code",
   "execution_count": 392,
   "metadata": {},
   "outputs": [
    {
     "data": {
      "text/plain": [
       "100"
      ]
     },
     "execution_count": 392,
     "metadata": {},
     "output_type": "execute_result"
    }
   ],
   "source": [
    "(1-y).size"
   ]
  },
  {
   "cell_type": "code",
   "execution_count": 407,
   "metadata": {},
   "outputs": [
    {
     "data": {
      "text/plain": [
       "(200,)"
      ]
     },
     "execution_count": 407,
     "metadata": {},
     "output_type": "execute_result"
    }
   ],
   "source": [
    "y_hat(X.values,theta).shape"
   ]
  },
  {
   "cell_type": "code",
   "execution_count": 416,
   "metadata": {},
   "outputs": [
    {
     "data": {
      "text/plain": [
       "0.0034502875835681628"
      ]
     },
     "execution_count": 416,
     "metadata": {},
     "output_type": "execute_result"
    }
   ],
   "source": [
    "np.dot((-1 * y), np.log(y_hat(X.values, theta)))"
   ]
  },
  {
   "cell_type": "code",
   "execution_count": 443,
   "metadata": {},
   "outputs": [],
   "source": [
    "def compute_cost(X,y,theta,λ= 0.01):\n",
    "    X = np.array(X)\n",
    "    y = np.array(y)\n",
    "    # 第１項\n",
    "    one_one = np.dot((-1 * y), np.log(y_hat(X,theta)))\n",
    "    one_two = np.dot((1-y),np.log(1-  y_hat(X,theta)))\n",
    "    one = 1/len(X)*(one_one- one_two)\n",
    "    two = (λ/2*len(X))*sum(theta**2)\n",
    "    return one+two"
   ]
  },
  {
   "cell_type": "code",
   "execution_count": 442,
   "metadata": {},
   "outputs": [
    {
     "data": {
      "text/plain": [
       "4.896299630187513"
      ]
     },
     "execution_count": 442,
     "metadata": {},
     "output_type": "execute_result"
    }
   ],
   "source": [
    " compute_cost(X,y,theta)"
   ]
  },
  {
   "cell_type": "code",
   "execution_count": 428,
   "metadata": {
    "collapsed": true
   },
   "outputs": [],
   "source": [
    " one_one = np.dot((-1 * y), np.log(y_hat(X,theta)))"
   ]
  },
  {
   "cell_type": "code",
   "execution_count": 429,
   "metadata": {},
   "outputs": [
    {
     "data": {
      "text/plain": [
       "0.0034502875835681628"
      ]
     },
     "execution_count": 429,
     "metadata": {},
     "output_type": "execute_result"
    }
   ],
   "source": [
    " np.dot((-1 * y), np.log(y_hat(X,theta)))"
   ]
  },
  {
   "cell_type": "code",
   "execution_count": 430,
   "metadata": {
    "collapsed": true
   },
   "outputs": [],
   "source": [
    " one_two = np.dot((1-y),np.log(1- sigmoid()))"
   ]
  },
  {
   "cell_type": "code",
   "execution_count": 431,
   "metadata": {},
   "outputs": [
    {
     "data": {
      "text/plain": [
       "array([-296.94971211, -141.67888516, -213.78614606,  -78.23388054])"
      ]
     },
     "execution_count": 431,
     "metadata": {},
     "output_type": "execute_result"
    }
   ],
   "source": [
    "np.dot((1-y),np.log(1- sigmoid(X)))"
   ]
  },
  {
   "cell_type": "code",
   "execution_count": 433,
   "metadata": {},
   "outputs": [
    {
     "data": {
      "text/plain": [
       "(100,)"
      ]
     },
     "execution_count": 433,
     "metadata": {},
     "output_type": "execute_result"
    }
   ],
   "source": [
    "(1-y).shape"
   ]
  },
  {
   "cell_type": "code",
   "execution_count": 440,
   "metadata": {},
   "outputs": [
    {
     "data": {
      "text/plain": [
       "array([ -9.77254667,  -9.22689577,  -9.76473098,  -7.80185008,\n",
       "        -9.19017217,  -8.34820098,  -9.2986304 ,  -6.91910591,\n",
       "        -9.21505761,  -7.71390528,  -6.91666552,  -8.60405275,\n",
       "        -8.0480077 ,  -8.86036453,  -7.99141771,  -9.36563287,\n",
       "        -8.44262805,  -8.10496159,  -8.65297731,  -7.83222012,\n",
       "        -9.04374326,  -8.52915307,  -8.99750406,  -8.71761327,\n",
       "        -8.93602942,  -9.23776235,  -9.47152918,  -9.68602879,\n",
       "        -8.75520505,  -7.77149218,  -7.6701233 ,  -7.5843835 ,\n",
       "        -8.13937668,  -8.93282574,  -8.26646275,  -9.0055612 ,\n",
       "        -9.51997115,  -8.64358244,  -8.20255442,  -7.88137639,\n",
       "        -8.0067514 ,  -8.86585807,  -8.13388397,  -6.96738389,\n",
       "        -8.11752684,  -8.27342642,  -8.28514178,  -8.75984795,\n",
       "        -7.08358515,  -8.21109792, -10.20774792,  -8.91111319,\n",
       "       -10.5529551 ,  -9.55104927, -10.04156473, -11.23345053,\n",
       "        -7.73022841, -10.6720267 ,  -9.8129003 , -11.15427687,\n",
       "        -9.77814991,  -9.50824193, -10.1515199 ,  -8.76068675,\n",
       "        -9.20834291,  -9.91309966,  -9.73273859, -11.72556071,\n",
       "       -11.36828476,  -8.64819367, -10.49073285,  -8.75763572,\n",
       "       -11.22478382,  -9.2315272 , -10.25131809, -10.60040797,\n",
       "        -9.14892654,  -9.17466247,  -9.7538522 , -10.34929432,\n",
       "       -10.70327879, -11.69592012,  -9.80534641,  -9.18538817,\n",
       "        -9.0495639 , -11.25312559, -10.05889763,  -9.68441691,\n",
       "        -9.05228809, -10.24511415, -10.291966  , -10.24525499,\n",
       "        -8.91111319, -10.47119892, -10.45730001, -10.06356092,\n",
       "        -9.2377506 ,  -9.73287943,  -9.85073807,  -9.06703636])"
      ]
     },
     "execution_count": 440,
     "metadata": {},
     "output_type": "execute_result"
    }
   ],
   "source": [
    "np.log(1- y_hat(X,theta))"
   ]
  },
  {
   "cell_type": "code",
   "execution_count": 458,
   "metadata": {},
   "outputs": [],
   "source": [
    "def  gradient_descent(X,y,theta):\n",
    "        theta = np.random.rand(X.shape[1])\n",
    "        X = np.array(X)\n",
    "        y = np.array(y)\n",
    "        lr = 0.0001\n",
    "       #訓練データの誤差\n",
    "        past_costs = []\n",
    "        #重み\n",
    "        past_thetas = []\n",
    "        #平均二乗和誤差を計算する\n",
    "        loss = compute_cost(X,y,theta)\n",
    "        #追加\n",
    "        past_costs.append(loss)\n",
    "        #追加\n",
    "        past_thetas.append(theta)\n",
    "\n",
    "        for i in range(5000):\n",
    "            #仮定関数\n",
    "            y_h=y_hat(X,theta)\n",
    "\n",
    "            #パラメータの更新式\n",
    "            theta = theta - lr *(1/len(y))*(X.T.dot(y_h-y))\n",
    "            cost = (compute_cost(X,y,theta))\n",
    "            # 訓練データの誤差を計算する\n",
    "            loss = compute_cost(X,y,theta)\n",
    "            #訓練データの誤差を格納する\n",
    "            past_costs.append(loss)\n",
    "            past_thetas.append(theta)\n",
    "\n",
    "        loss = past_costs\n",
    "        theta = past_thetas\n",
    "        \n",
    "        return  past_thetas,past_costs\n"
   ]
  },
  {
   "cell_type": "code",
   "execution_count": 459,
   "metadata": {},
   "outputs": [],
   "source": [
    "past_thetas,past_costs = gradient_descent(X,y,theta)"
   ]
  },
  {
   "cell_type": "code",
   "execution_count": 460,
   "metadata": {},
   "outputs": [
    {
     "data": {
      "text/plain": [
       "4.896299630187513"
      ]
     },
     "execution_count": 460,
     "metadata": {},
     "output_type": "execute_result"
    }
   ],
   "source": [
    "compute_cost(X,y,theta)"
   ]
  },
  {
   "cell_type": "code",
   "execution_count": 461,
   "metadata": {},
   "outputs": [
    {
     "data": {
      "text/plain": [
       "<matplotlib.axes._subplots.AxesSubplot at 0x128642828>"
      ]
     },
     "execution_count": 461,
     "metadata": {},
     "output_type": "execute_result"
    },
    {
     "name": "stderr",
     "output_type": "stream",
     "text": [
      "/Users/ranmarusato/anaconda/lib/python3.6/site-packages/matplotlib/font_manager.py:1328: UserWarning: findfont: Font family ['IPAexGothic'] not found. Falling back to DejaVu Sans\n",
      "  (prop.get_family(), self.defaultFamily[fontext]))\n"
     ]
    },
    {
     "data": {
      "image/png": "[encoded data removed]",
      "text/plain": [
       "<Figure size 432x288 with 1 Axes>"
      ]
     },
     "metadata": {},
     "output_type": "display_data"
    }
   ],
   "source": [
    "pd.DataFrame(past_costs).plot.line()"
   ]
  },
  {
   "cell_type": "code",
   "execution_count": 340,
   "metadata": {},
   "outputs": [
    {
     "data": {
      "text/plain": [
       "array([[-7.00091147, -3.23995333, -4.70905416, -1.62041741],\n",
       "       [-6.40166018, -3.23995333, -4.51104774, -1.70141328],\n",
       "       [-6.90100728, -3.14406397, -4.90741899, -1.70141328],\n",
       "       [-5.50407844, -2.39554546, -4.01814993, -1.54100845],\n",
       "       [-6.50150231, -2.85903283, -4.61000165, -1.70141328],\n",
       "       [-5.70334038, -2.85903283, -4.51104774, -1.54100845],\n",
       "       [-6.30183462, -3.33621926, -4.70905416, -1.78390074],\n",
       "       [-4.90741899, -2.48683615, -3.33621926, -1.31326169],\n",
       "       [-6.60135944, -2.95356278, -4.61000165, -1.54100845],\n",
       "       [-5.2055014 , -2.76504356, -3.92003977, -1.62041741],\n",
       "       [-5.00671535, -2.12692801, -3.52975042, -1.31326169],\n",
       "       [-5.9027357 , -3.04858735, -4.21488425, -1.70141328],\n",
       "       [-6.00247569, -2.30508332, -4.01814993, -1.31326169],\n",
       "       [-6.10224036, -2.95356278, -4.70905416, -1.62041741],\n",
       "       [-5.60369104, -2.95356278, -3.62695709, -1.54100845],\n",
       "       [-6.70123015, -3.14406397, -4.41220258, -1.62041741],\n",
       "       [-5.60369104, -3.04858735, -4.51104774, -1.70141328],\n",
       "       [-5.80302298, -2.76504356, -4.11643685, -1.31326169],\n",
       "       [-6.20202737, -2.30508332, -4.51104774, -1.70141328],\n",
       "       [-5.60369104, -2.57888973, -3.92003977, -1.38733533],\n",
       "       [-5.9027357 , -3.23995333, -4.80819607, -1.95297761],\n",
       "       [-6.10224036, -2.85903283, -4.01814993, -1.54100845],\n",
       "       [-6.30183462, -2.57888973, -4.90741899, -1.70141328],\n",
       "       [-6.10224036, -2.85903283, -4.70905416, -1.46328247],\n",
       "       [-6.40166018, -2.95356278, -4.31347733, -1.54100845],\n",
       "       [-6.60135944, -3.04858735, -4.41220258, -1.62041741],\n",
       "       [-6.80111316, -2.85903283, -4.80819607, -1.62041741],\n",
       "       [-6.70123015, -3.04858735, -5.00671535, -1.86778603],\n",
       "       [-6.00247569, -2.95356278, -4.51104774, -1.70141328],\n",
       "       [-5.70334038, -2.67164469, -3.52975042, -1.31326169],\n",
       "       [-5.50407844, -2.48683615, -3.82212422, -1.38733533],\n",
       "       [-5.50407844, -2.48683615, -3.72442285, -1.31326169],\n",
       "       [-5.80302298, -2.76504356, -3.92003977, -1.46328247],\n",
       "       [-6.00247569, -2.76504356, -5.10607824, -1.78390074],\n",
       "       [-5.40450641, -3.04858735, -4.51104774, -1.70141328],\n",
       "       [-6.00247569, -3.43282847, -4.51104774, -1.78390074],\n",
       "       [-6.70123015, -3.14406397, -4.70905416, -1.70141328],\n",
       "       [-6.30183462, -2.39554546, -4.41220258, -1.54100845],\n",
       "       [-5.60369104, -3.04858735, -4.11643685, -1.54100845],\n",
       "       [-5.50407844, -2.57888973, -4.01814993, -1.54100845],\n",
       "       [-5.50407844, -2.67164469, -4.41220258, -1.46328247],\n",
       "       [-6.10224036, -3.04858735, -4.61000165, -1.62041741],\n",
       "       [-5.80302298, -2.67164469, -4.01814993, -1.46328247],\n",
       "       [-5.00671535, -2.39554546, -3.33621926, -1.31326169],\n",
       "       [-5.60369104, -2.76504356, -4.21488425, -1.54100845],\n",
       "       [-5.70334038, -3.04858735, -4.21488425, -1.46328247],\n",
       "       [-5.70334038, -2.95356278, -4.21488425, -1.54100845],\n",
       "       [-6.20202737, -2.95356278, -4.31347733, -1.54100845],\n",
       "       [-5.10607824, -2.57888973, -3.04858735, -1.38733533],\n",
       "       [-5.70334038, -2.85903283, -4.11643685, -1.54100845],\n",
       "       [-6.30183462, -3.33621926, -6.00247569, -2.57888973],\n",
       "       [-5.80302298, -2.76504356, -5.10607824, -2.03938676],\n",
       "       [-7.10082476, -3.04858735, -5.9027357 , -2.21551952],\n",
       "       [-6.30183462, -2.95356278, -5.60369104, -1.95297761],\n",
       "       [-6.50150231, -3.04858735, -5.80302298, -2.30508332],\n",
       "       [-7.60050033, -3.04858735, -6.60135944, -2.21551952],\n",
       "       [-4.90741899, -2.57888973, -4.51104774, -1.86778603],\n",
       "       [-7.30067531, -2.95356278, -6.30183462, -1.95297761],\n",
       "       [-6.70123015, -2.57888973, -5.80302298, -1.95297761],\n",
       "       [-7.20074631, -3.62695709, -6.10224036, -2.57888973],\n",
       "       [-6.50150231, -3.23995333, -5.10607824, -2.12692801],\n",
       "       [-6.40166018, -2.76504356, -5.30497918, -2.03938676],\n",
       "       [-6.80111316, -3.04858735, -5.50407844, -2.21551952],\n",
       "       [-5.70334038, -2.57888973, -5.00671535, -2.12692801],\n",
       "       [-5.80302298, -2.85903283, -5.10607824, -2.48683615],\n",
       "       [-6.40166018, -3.23995333, -5.30497918, -2.39554546],\n",
       "       [-6.50150231, -3.04858735, -5.50407844, -1.95297761],\n",
       "       [-7.70045272, -3.82212422, -6.70123015, -2.30508332],\n",
       "       [-7.70045272, -2.67164469, -6.90100728, -2.39554546],\n",
       "       [-6.00247569, -2.30508332, -5.00671535, -1.70141328],\n",
       "       [-6.90100728, -3.23995333, -5.70334038, -2.39554546],\n",
       "       [-5.60369104, -2.85903283, -4.90741899, -2.12692801],\n",
       "       [-7.70045272, -2.85903283, -6.70123015, -2.12692801],\n",
       "       [-6.30183462, -2.76504356, -4.90741899, -1.95297761],\n",
       "       [-6.70123015, -3.33621926, -5.70334038, -2.21551952],\n",
       "       [-7.20074631, -3.23995333, -6.00247569, -1.95297761],\n",
       "       [-6.20202737, -2.85903283, -4.80819607, -1.95297761],\n",
       "       [-6.10224036, -3.04858735, -4.90741899, -1.95297761],\n",
       "       [-6.40166018, -2.85903283, -5.60369104, -2.21551952],\n",
       "       [-7.20074631, -3.04858735, -5.80302298, -1.78390074],\n",
       "       [-7.40061107, -2.85903283, -6.10224036, -2.03938676],\n",
       "       [-7.90037067, -3.82212422, -6.40166018, -2.12692801],\n",
       "       [-6.40166018, -2.85903283, -5.60369104, -2.30508332],\n",
       "       [-6.30183462, -2.85903283, -5.10607824, -1.70141328],\n",
       "       [-6.10224036, -2.67164469, -5.60369104, -1.62041741],\n",
       "       [-7.70045272, -3.04858735, -6.10224036, -2.39554546],\n",
       "       [-6.30183462, -3.43282847, -5.60369104, -2.48683615],\n",
       "       [-6.40166018, -3.14406397, -5.50407844, -1.95297761],\n",
       "       [-6.00247569, -3.04858735, -4.80819607, -1.95297761],\n",
       "       [-6.90100728, -3.14406397, -5.40450641, -2.21551952],\n",
       "       [-6.70123015, -3.14406397, -5.60369104, -2.48683615],\n",
       "       [-6.90100728, -3.14406397, -5.10607824, -2.39554546],\n",
       "       [-5.80302298, -2.76504356, -5.10607824, -2.03938676],\n",
       "       [-6.80111316, -3.23995333, -5.9027357 , -2.39554546],\n",
       "       [-6.70123015, -3.33621926, -5.70334038, -2.57888973],\n",
       "       [-6.70123015, -3.04858735, -5.2055014 , -2.39554546],\n",
       "       [-6.30183462, -2.57888973, -5.00671535, -2.03938676],\n",
       "       [-6.50150231, -3.04858735, -5.2055014 , -2.12692801],\n",
       "       [-6.20202737, -3.43282847, -5.40450641, -2.39554546],\n",
       "       [-5.9027357 , -3.04858735, -5.10607824, -1.95297761]])"
      ]
     },
     "execution_count": 340,
     "metadata": {},
     "output_type": "execute_result"
    }
   ],
   "source": [
    "np.log(1- sigmoid(X.values))"
   ]
  },
  {
   "cell_type": "code",
   "execution_count": 268,
   "metadata": {},
   "outputs": [
    {
     "name": "stderr",
     "output_type": "stream",
     "text": [
      "/Users/ranmarusato/anaconda/lib/python3.6/site-packages/ipykernel_launcher.py:1: RuntimeWarning: divide by zero encountered in log\n",
      "  \"\"\"Entry point for launching an IPython kernel.\n"
     ]
    },
    {
     "data": {
      "text/plain": [
       "array([          nan, -296.94971211, -141.67888516, -213.78614606,\n",
       "        -78.23388054])"
      ]
     },
     "execution_count": 268,
     "metadata": {},
     "output_type": "execute_result"
    }
   ],
   "source": [
    "np.dot((1-y),np.log(1- sigmoid(X)))"
   ]
  },
  {
   "cell_type": "code",
   "execution_count": 229,
   "metadata": {},
   "outputs": [
    {
     "name": "stderr",
     "output_type": "stream",
     "text": [
      "/Users/ranmarusato/anaconda/lib/python3.6/site-packages/ipykernel_launcher.py:1: RuntimeWarning: divide by zero encountered in log\n",
      "  \"\"\"Entry point for launching an IPython kernel.\n"
     ]
    },
    {
     "data": {
      "text/plain": [
       "array([-246.28073029,  -99.03271723,  -59.20899129,  -90.47130099,\n",
       "        -39.8373877 ])"
      ]
     },
     "execution_count": 229,
     "metadata": {},
     "output_type": "execute_result"
    }
   ],
   "source": [
    "np.dot(-y,np.log(X))  - np.dot((1-y),np.log(1- sigmoid(X)))"
   ]
  },
  {
   "cell_type": "code",
   "execution_count": 231,
   "metadata": {},
   "outputs": [
    {
     "name": "stderr",
     "output_type": "stream",
     "text": [
      "/Users/ranmarusato/anaconda/lib/python3.6/site-packages/ipykernel_launcher.py:1: RuntimeWarning: divide by zero encountered in log\n",
      "  \"\"\"Entry point for launching an IPython kernel.\n"
     ]
    },
    {
     "data": {
      "text/plain": [
       "nan"
      ]
     },
     "execution_count": 231,
     "metadata": {},
     "output_type": "execute_result"
    }
   ],
   "source": [
    "(np.dot(-y,np.log(X))  - np.dot((1-y),np.log(1- sigmoid(X))))"
   ]
  },
  {
   "cell_type": "code",
   "execution_count": 224,
   "metadata": {},
   "outputs": [
    {
     "name": "stderr",
     "output_type": "stream",
     "text": [
      "/Users/ranmarusato/anaconda/lib/python3.6/site-packages/ipykernel_launcher.py:1: RuntimeWarning: divide by zero encountered in log\n",
      "  \"\"\"Entry point for launching an IPython kernel.\n",
      "/Users/ranmarusato/anaconda/lib/python3.6/site-packages/pandas/core/indexes/base.py:2984: RuntimeWarning: '<' not supported between instances of 'str' and 'int', sort order is undefined for incomparable objects\n",
      "  return this.join(other, how=how, return_indexers=return_indexers)\n"
     ]
    },
    {
     "ename": "TypeError",
     "evalue": "Required argument 'b' (pos 2) not found",
     "output_type": "error",
     "traceback": [
      "\u001b[0;31m---------------------------------------------------------------------------\u001b[0m",
      "\u001b[0;31mTypeError\u001b[0m                                 Traceback (most recent call last)",
      "\u001b[0;32m<ipython-input-224-495f16dfb81b>\u001b[0m in \u001b[0;36m<module>\u001b[0;34m()\u001b[0m\n\u001b[0;32m----> 1\u001b[0;31m \u001b[0;36m1\u001b[0m\u001b[0;34m/\u001b[0m\u001b[0mlen\u001b[0m\u001b[0;34m(\u001b[0m\u001b[0mX\u001b[0m\u001b[0;34m)\u001b[0m\u001b[0;34m*\u001b[0m\u001b[0mnp\u001b[0m\u001b[0;34m.\u001b[0m\u001b[0msum\u001b[0m\u001b[0;34m(\u001b[0m\u001b[0mnp\u001b[0m\u001b[0;34m.\u001b[0m\u001b[0mdot\u001b[0m\u001b[0;34m(\u001b[0m\u001b[0;34m-\u001b[0m\u001b[0my\u001b[0m\u001b[0;34m,\u001b[0m\u001b[0mnp\u001b[0m\u001b[0;34m.\u001b[0m\u001b[0mlog\u001b[0m\u001b[0;34m(\u001b[0m\u001b[0mX\u001b[0m\u001b[0;34m)\u001b[0m\u001b[0;34m)\u001b[0m  \u001b[0;34m-\u001b[0m \u001b[0mnp\u001b[0m\u001b[0;34m.\u001b[0m\u001b[0mdot\u001b[0m\u001b[0;34m(\u001b[0m\u001b[0;34m(\u001b[0m\u001b[0;36m1\u001b[0m\u001b[0;34m-\u001b[0m\u001b[0my\u001b[0m\u001b[0;34m)\u001b[0m\u001b[0;34m*\u001b[0m\u001b[0mnp\u001b[0m\u001b[0;34m.\u001b[0m\u001b[0mlog\u001b[0m\u001b[0;34m(\u001b[0m\u001b[0;36m1\u001b[0m\u001b[0;34m-\u001b[0m \u001b[0msigmoid\u001b[0m\u001b[0;34m(\u001b[0m\u001b[0mX\u001b[0m\u001b[0;34m)\u001b[0m\u001b[0;34m)\u001b[0m\u001b[0;34m)\u001b[0m\u001b[0;34m)\u001b[0m\u001b[0;34m\u001b[0m\u001b[0m\n\u001b[0m",
      "\u001b[0;31mTypeError\u001b[0m: Required argument 'b' (pos 2) not found"
     ]
    }
   ],
   "source": [
    "1/len(X)*np.sum(np.dot(-y,np.log(X))  - np.dot((1-y)*np.log(1- sigmoid(X))))"
   ]
  },
  {
   "cell_type": "code",
   "execution_count": 205,
   "metadata": {},
   "outputs": [],
   "source": [
    "X = iris.drop('Species',axis=1)\n",
    "y = iris['Species']\n",
    "theta = np.random.rand(X.shape[1])"
   ]
  },
  {
   "cell_type": "code",
   "execution_count": 200,
   "metadata": {
    "collapsed": true
   },
   "outputs": [],
   "source": [
    "mapping = {'Iris-versicolor':0,'Iris-virginica':1}"
   ]
  },
  {
   "cell_type": "code",
   "execution_count": 203,
   "metadata": {},
   "outputs": [],
   "source": [
    "iris.Species = iris.Species.map(mapping)"
   ]
  },
  {
   "cell_type": "code",
   "execution_count": 234,
   "metadata": {},
   "outputs": [
    {
     "name": "stderr",
     "output_type": "stream",
     "text": [
      "/Users/ranmarusato/anaconda/lib/python3.6/site-packages/ipykernel_launcher.py:1: RuntimeWarning: divide by zero encountered in log\n",
      "  \"\"\"Entry point for launching an IPython kernel.\n"
     ]
    }
   ],
   "source": [
    "a = np.dot(-y,np.log(X))  - np.dot((1-y),np.log(1- sigmoid(X)))"
   ]
  },
  {
   "cell_type": "code",
   "execution_count": 471,
   "metadata": {},
   "outputs": [],
   "source": [
    "def predict(X):\n",
    "    return np.dot(past_thetas[-1],X.T)\n",
    "    "
   ]
  },
  {
   "cell_type": "code",
   "execution_count": 491,
   "metadata": {},
   "outputs": [],
   "source": [
    "def predict_probs(X,theta):\n",
    "    pred = y_hat(X,theta)\n",
    "    return pred\n",
    "\n",
    "\n",
    "def predict( X,theta,threshold=0.5):\n",
    "    pred = y_hat(X,theta) >= 0.5\n",
    "    return pred*1"
   ]
  },
  {
   "cell_type": "code",
   "execution_count": 496,
   "metadata": {},
   "outputs": [],
   "source": [
    "# 決定境界\n",
    "# http://umashika5555.hatenablog.com/entry/2017/06/25/070826"
   ]
  },
  {
   "cell_type": "code",
   "execution_count": 493,
   "metadata": {},
   "outputs": [
    {
     "data": {
      "text/plain": [
       "array([1, 1, 1, 1, 1, 1, 1, 1, 1, 1, 1, 1, 1, 1, 1, 1, 1, 1, 1, 1, 1, 1,\n",
       "       1, 1, 1, 1, 1, 1, 1, 1, 1, 1, 1, 1, 1, 1, 1, 1, 1, 1, 1, 1, 1, 1,\n",
       "       1, 1, 1, 1, 1, 1, 1, 1, 1, 1, 1, 1, 1, 1, 1, 1, 1, 1, 1, 1, 1, 1,\n",
       "       1, 1, 1, 1, 1, 1, 1, 1, 1, 1, 1, 1, 1, 1, 1, 1, 1, 1, 1, 1, 1, 1,\n",
       "       1, 1, 1, 1, 1, 1, 1, 1, 1, 1, 1, 1])"
      ]
     },
     "execution_count": 493,
     "metadata": {},
     "output_type": "execute_result"
    }
   ],
   "source": []
  },
  {
   "cell_type": "code",
   "execution_count": null,
   "metadata": {
    "collapsed": true
   },
   "outputs": [],
   "source": []
  }
 ],
 "metadata": {
  "kernelspec": {
   "display_name": "Python 3",
   "language": "python",
   "name": "python3"
  },
  "language_info": {
   "codemirror_mode": {
    "name": "ipython",
    "version": 3
   },
   "file_extension": ".py",
   "mimetype": "text/x-python",
   "name": "python",
   "nbconvert_exporter": "python",
   "pygments_lexer": "ipython3",
   "version": "3.6.1"
  }
 },
 "nbformat": 4,
 "nbformat_minor": 2
}
