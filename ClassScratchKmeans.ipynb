{
 "cells": [
  {
   "cell_type": "markdown",
   "metadata": {},
   "source": [
    "# データセットの用意"
   ]
  },
  {
   "cell_type": "code",
   "execution_count": 3,
   "metadata": {},
   "outputs": [
    {
     "name": "stderr",
     "output_type": "stream",
     "text": [
      "/Users/ranmarusato/anaconda/lib/python3.6/site-packages/matplotlib/__init__.py:1067: UserWarning: Duplicate key in file \"/Users/ranmarusato/.matplotlib/matplotlibrc\", line #629\n",
      "  (fname, cnt))\n"
     ]
    }
   ],
   "source": [
    "from sklearn.datasets import make_blobs\n",
    "import numpy as np\n",
    "import seaborn as sns\n",
    "import japanize_matplotlib\n",
    "import pandas as pd\n",
    "sns.set\n",
    "X, _ = make_blobs(n_samples=100, n_features=2, centers=4, cluster_std=0.5, shuffle=True, random_state=0)"
   ]
  },
  {
   "cell_type": "code",
   "execution_count": 4,
   "metadata": {},
   "outputs": [
    {
     "data": {
      "image/png": "[encoded data removed]",
      "text/plain": [
       "<Figure size 360x360 with 1 Axes>"
      ]
     },
     "metadata": {},
     "output_type": "display_data"
    }
   ],
   "source": [
    "import matplotlib.pyplot as plt\n",
    "%matplotlib inline\n",
    "plt.figure(figsize =(5,5))\n",
    "plt.scatter(X[:,0], X[:,1], marker='o', s=50)\n",
    "\n",
    "plt.axis('equal')\n",
    "plt.show()"
   ]
  },
  {
   "cell_type": "markdown",
   "metadata": {},
   "source": [
    "# kemeansクラス用意"
   ]
  },
  {
   "cell_type": "code",
   "execution_count": 64,
   "metadata": {},
   "outputs": [],
   "source": [
    "class ScratchKmeans():\n",
    "    \n",
    "    #パラメータの定義\n",
    "    \n",
    "    #アトリビュート\n",
    "    #SSE_LIST \n",
    "    def __init__(self, k,data):\n",
    "        self.k = k\n",
    "        self.max_iter = 300\n",
    "        self.centroids  = np.zeros(self.k)\n",
    "        self.pred = np.full(len(data), None)\n",
    "        self.SSE_LIST = []\n",
    "        \n",
    "    def fit(self, data):\n",
    "        y = np.full(data.shape[0], None)\n",
    "\n",
    "        count = 0\n",
    "        label_list = np.unique(range(self.k))\n",
    "        #重心の初期値のインデックス。（ランダムに４つ選ぶ）\n",
    "        centroid_index = np.random.choice(data.shape[0], self.k, replace=False)\n",
    "        # 重心の初期の座標\n",
    "        centroids = data[centroid_index]\n",
    "        while(count <self.max_iter):\n",
    "            for i in range(len(y)):\n",
    "                #numpy配列のインデックスは０から始まるので-1\n",
    "                v = data[i]    \n",
    "                min_norm=10**10\n",
    "                \n",
    "                for k,cent in enumerate (centroids):\n",
    "                    norm = np.linalg.norm(cent - v)\n",
    "                    #それまでの距離より小さかったら更新\n",
    "                    if min_norm  > norm:\n",
    "                        min_k = k\n",
    "                        y[i] = min_k\n",
    "                        #距離が最小の値を更新\n",
    "                        min_norm = norm  \n",
    "                        \n",
    "            \n",
    "                        \n",
    "            for label in label_list:\n",
    "                #ラベルのインデックスを取得\n",
    "                index = np.where(y==label)\n",
    "                #取得したインデックスをXに対応する形でスライス\n",
    "                #それx,y軸それぞれを合計を計算\n",
    "                x_sum = data[index,0].sum()\n",
    "                y_sum = data[index,1].sum()\n",
    "                #各ラベルの要素数を取得\n",
    "                num = data[index,0].shape[1]   \n",
    "                #x,y座標それぞれの重心を算出\n",
    "                x_c = x_sum / num \n",
    "                y_c = y_sum/ num\n",
    "                #重心の座標が変わっていなかったら処理をやめる\n",
    "                if centroids[label]  == np.array([x_c, y_c]):\n",
    "                    break\n",
    "                #重心の座標を更新\n",
    "                centroids[label] =np.array([x_c, y_c])\n",
    "                \n",
    "            count +=1\n",
    "        return y,centroids\n",
    "\n",
    "    def calc_sse(self, X):\n",
    "        count = 0\n",
    "       \n",
    "        #k回SSEを計算する\n",
    "        while( count <= 10):\n",
    "\n",
    "            for k  in range(1, 11):\n",
    "                pred ,centroids = fit(X,k)   \n",
    "                #結合できるようにリシェイプ\n",
    "                pred = np.reshape(pred,(X.shape[0],1))\n",
    "                #結合して変数に格納\n",
    "                combined = np.hstack((pred,X)).astype(float)\n",
    "                #SSEの初期化\n",
    "                SSE = 0\n",
    "            #各k番目のSSEを計算\n",
    "            #各クラスターごとの中心点との２乗の誤差を足しあげる\n",
    "                for cluster in range(k):\n",
    "                    SSE += sum((combined[combined [:,0]==cluster][:,1] - centroids[cluster,0])**2 + (combined [combined[:,0]==cluster][:,2] - centroids[cluster,1])**2)\n",
    "            #k番目のSSEを格納\n",
    "                self.SSE_LIST.append(SSE)\n",
    "                \n",
    "                count +=1\n",
    "        #sseが最小の場合を返す\n",
    "        return min(self.SSE_LIST)\n",
    "    \n",
    "    \n",
    "    def show_elbow(self):\n",
    "        left = range(1,k)\n",
    "        plt.title('エルボー図')\n",
    "        plt.ylabel('SSE')\n",
    "        plt.xlabel('クラスタ数')\n",
    "        plt.plot(left, self.SSE_LIST)"
   ]
  },
  {
   "cell_type": "code",
   "execution_count": 65,
   "metadata": {
    "collapsed": true
   },
   "outputs": [],
   "source": [
    "km = ScratchKmeans(k =4,data=X)"
   ]
  },
  {
   "cell_type": "code",
   "execution_count": 66,
   "metadata": {},
   "outputs": [
    {
     "data": {
      "text/plain": [
       "(27.94409389432265,)"
      ]
     },
     "execution_count": 66,
     "metadata": {},
     "output_type": "execute_result"
    }
   ],
   "source": [
    "km.calc_sse(X)"
   ]
  },
  {
   "cell_type": "code",
   "execution_count": null,
   "metadata": {
    "collapsed": true
   },
   "outputs": [],
   "source": []
  }
 ],
 "metadata": {
  "kernelspec": {
   "display_name": "Python 3",
   "language": "python",
   "name": "python3"
  },
  "language_info": {
   "codemirror_mode": {
    "name": "ipython",
    "version": 3
   },
   "file_extension": ".py",
   "mimetype": "text/x-python",
   "name": "python",
   "nbconvert_exporter": "python",
   "pygments_lexer": "ipython3",
   "version": "3.6.1"
  }
 },
 "nbformat": 4,
 "nbformat_minor": 2
}
