{
 "cells": [
  {
   "cell_type": "markdown",
   "metadata": {},
   "source": [
    "# 決定木とは何か\n",
    "決定きとは段階的にデータを分割していき、木のような分析結果を出力するもの。\n",
    "ざっくり言うとある特徴量のある値を境に目的変数を分岐させるようにする手法。\n",
    "\n",
    "決定木の特徴としては、解釈が容易で、妥当性を判断しやすいのが決定木分析の強み。\n",
    "データが分割されていく流れをなんとなく把握することが目的なことが多い。\n",
    "数値データやカテゴリーデータが混在しても、利用可能でかつデータを分割する指標として\n",
    "特徴量を使うので、データのスケーリングなどが必要ない。\n",
    "ただ、決定木分析は訓練データに対して過剰適合してしまいがち。\n",
    "そのため汎化性能の向上を目的とする対策が必要となる。\n",
    "\n",
    "# ロジスティック回帰などとの比較\n",
    "判別や回帰問題の手法に着目する時に、モデル選択の評価として重要なのは、「予測精度」と、「中身のわかりやすさ」の２点。\n",
    "分析の目的に応じて、手法を選択する\n",
    "線形回帰：説明変数の予測値への寄与を大雑把に知りたい場合\n",
    "SVM :予測の正解さを求めたい時\n",
    "CART(ランダムフォレスト):予測精度が実用的で、因果関係の類推も行いたい場合。\n",
    "\n",
    "\n",
    "# ジニ不純度とは何か\n",
    "$ I(t) = 1-\\sum_{i=1}^{K}P^2(C_i|t) = 1-\\sum_{i=1}^{K}(\\frac{N_{t,i}}{N_{t,all}})$ \n",
    "P*Pの部分について。\n",
    "この部分は同じことが起る事象　= 隔たり具合　と考えることで、この値が小さいほど少ないことを表していて、大きいほど隔たりがある。逆に、１からこの値を引くと、「P_1とP_2の組み合わせになる確率と定義できるから、不純（ミスマッチ）のを示す尺度になる。\n",
    "つまり、ジニ係数が低いほど、不純度が低くなる。\n",
    "\n",
    "# 決定木は情報利得をどのように使うことで学習するか\n",
    "決定木では、トレーニングサンプルのグループであるノードを質問を繰り返して、いくことで分割していく。\n",
    "そこで、分割前のノードを親ノード、分割後のノードを子ノードとする。\n",
    "親ノードと子ノードの不純度計算して、その差分の情報利得が最大になるように子ノードを分けていく。\n"
   ]
  },
  {
   "cell_type": "markdown",
   "metadata": {},
   "source": [
    "# データセットの用意"
   ]
  },
  {
   "cell_type": "code",
   "execution_count": 14,
   "metadata": {
    "collapsed": true
   },
   "outputs": [],
   "source": [
    "import numpy as np\n",
    "import pandas as pd\n",
    "import warnings\n",
    "warnings.filterwarnings('ignore')\n",
    "X = np.array([[-0.44699 , -2.8073  ],[-1.4621  , -2.4586  ],\n",
    "       [ 0.10645 ,  1.9242  ],[-3.5944  , -4.0112  ],\n",
    "       [-0.9888  ,  4.5718  ],[-3.1625  , -3.9606  ],\n",
    "       [ 0.56421 ,  0.72888 ],[-0.60216 ,  8.4636  ],\n",
    "       [-0.61251 , -0.75345 ],[-0.73535 , -2.2718  ],\n",
    "       [-0.80647 , -2.2135  ],[ 0.86291 ,  2.3946  ],\n",
    "       [-3.1108  ,  0.15394 ],[-2.9362  ,  2.5462  ],\n",
    "       [-0.57242 , -2.9915  ],[ 1.4771  ,  3.4896  ],\n",
    "       [ 0.58619 ,  0.37158 ],[ 0.6017  ,  4.3439  ],\n",
    "       [-2.1086  ,  8.3428  ],[-4.1013  , -4.353   ],\n",
    "       [-1.9948  , -1.3927  ],[ 0.35084 , -0.031994],\n",
    "       [ 0.96765 ,  7.8929  ],[-1.281   , 15.6824  ],\n",
    "       [ 0.96765 , 10.083   ],[ 1.3763  ,  1.3347  ],\n",
    "       [-2.234   , -2.5323  ],[-2.9452  , -1.8219  ],\n",
    "       [ 0.14654 , -0.28733 ],[ 0.5461  ,  5.8245  ],\n",
    "       [-0.65259 ,  9.3444  ],[ 0.59912 ,  5.3524  ],\n",
    "       [ 0.50214 , -0.31818 ],[-3.0603  , -3.6461  ],\n",
    "       [-6.6797  ,  0.67661 ],[-2.353   , -0.72261 ],\n",
    "       [ 1.1319  ,  2.4023  ],[-0.12243 ,  9.0162  ],\n",
    "       [-2.5677  , 13.1779  ],[ 0.057313,  5.4681  ]])\n",
    "y = np.array([0, 0, 0, 0, 0, 0, 0, 0, 0, 0, 0, 0, 0, 0, 0, 0, 0, 0, 0, 0, 1, 1,\n",
    "       1, 1, 1, 1, 1, 1, 1, 1, 1, 1, 1, 1, 1, 1, 1, 1, 1, 1])"
   ]
  },
  {
   "cell_type": "markdown",
   "metadata": {},
   "source": [
    "# データセットの描画"
   ]
  },
  {
   "cell_type": "code",
   "execution_count": 15,
   "metadata": {},
   "outputs": [
    {
     "data": {
      "text/plain": [
       "<matplotlib.collections.PathCollection at 0x1288595c0>"
      ]
     },
     "execution_count": 15,
     "metadata": {},
     "output_type": "execute_result"
    },
    {
     "data": {
      "image/png": "[encoded data removed]",
      "text/plain": [
       "<Figure size 432x288 with 1 Axes>"
      ]
     },
     "metadata": {},
     "output_type": "display_data"
    }
   ],
   "source": [
    "import matplotlib.pyplot as plt\n",
    "%matplotlib inline\n",
    "plt.scatter(X[:,0], X[:,1], s=50, c=y, marker='o')"
   ]
  },
  {
   "cell_type": "markdown",
   "metadata": {},
   "source": [
    "# クラスを定義"
   ]
  },
  {
   "cell_type": "code",
   "execution_count": 16,
   "metadata": {
    "collapsed": true
   },
   "outputs": [],
   "source": [
    "class Scratch_DecisionTree:\n",
    "    \n",
    "    #メンバ変数を定義\n",
    "    def __init__(self,depth=1,gini=0,gini_min=999):\n",
    "        #深さ\n",
    "        self.depth =depth   \n",
    "        #ジニ不純度の最小値\n",
    "        self.gini_min = gini_min\n",
    "        self.best_f = None\n",
    "        #ジニ不純度\n",
    "        self.best_thrs = None\n",
    "        self.sample_num = len(X)\n",
    "    def gini_score(self,X,y,f_id, threshold):\n",
    "#         sample_num = X.shape[0]\n",
    "        gini = 0\n",
    "        y_split = [y[X[:,f_id] >= threshold],y[X[:,f_id] < threshold]]\n",
    "       #閾値を超えたグループとそうでないグループで場合分け\n",
    "        for group in y_split:\n",
    "            score = 0\n",
    "            #グループでユニークな値（正解ラベルを取得）\n",
    "            classes = np.unique(group)\n",
    "            #Cartで全てのその特徴量で、全ての値を閾値にしてジニ不純度を計算\n",
    "            #正解ラベルごとの確率をだすので\n",
    "            #ユニークな正解ラベルをそれぞれのループで回す\n",
    "            for cls in classes:\n",
    "                #確率を計算\n",
    "                p = np.sum(group == cls)/len(group)\n",
    "                #ジニ不純度計算式の一部\n",
    "                score += p * p\n",
    "            #ジニ不純度計算式\n",
    "            gini += (1- score) * (len(group)/self.sample_num)\n",
    "        \n",
    "        return gini\n",
    "    def search_best_split(self,X, y): \n",
    "        #特徴量の数\n",
    "        features = X.shape[1]\n",
    "        gini = None\n",
    "        #特徴量ごとにループ\n",
    "        for f_id in range(features):\n",
    "            #各特徴量の値を取得\n",
    "            values = X[:, f_id]\n",
    "            #各値を閾値にする\n",
    "            for threshold in values:\n",
    "             #ノードに流れてくるデータと、それに紐づいたクラスラベル(y)\n",
    "            #を渡すことで、変数giniが最小となる時の閾値と説明変数を取得\n",
    "                gini = self.gini_score(X,y,f_id,threshold)\n",
    "             #特徴と閾値を決定する\n",
    "            #これまでの最小値の方が大きければ、gini_minを更新\n",
    "                if self.gini_min > gini:\n",
    "                    \n",
    "                    self.gini_min = gini\n",
    "#                     print(self.gini_min)\n",
    "                    self.best_thrs =  threshold\n",
    "                    self.best_f = f_id\n",
    "            \n",
    "    #ノードを分割する関数\n",
    "    def split(self,X,y):\n",
    "        count = 0 \n",
    "        while (count < self.depth):\n",
    "            gini_min, best_thrs, best_f = self.search_best_split(X,y)\n",
    "            #ある特徴量の閾値を超えたかそうでないかで分割して、ブーリアンインデックスで取得\n",
    "            id_left = X[:, self.best_f] >= self.best_thrs\n",
    "            id_right = X[:, self.best_f] < self.best_thrs\n",
    "\n",
    "            #分割するデータを定義\n",
    "            self.left = X[id_left]\n",
    "            self.right =  X[id_right]\n",
    "            \n",
    "            #分割回数を記録\n",
    "            count +=1\n",
    "#             print(count)\n",
    "\n",
    "    def predict(self,X):\n",
    "        pred = np.zeros(len(X))\n",
    "        #敷値を超えたindexを取得\n",
    "        index_label0 = np.where(X[:,self.best_f] >= self.best_thrs)\n",
    "        index_label1 = np.where(X[:,self.best_f] < self.best_thrs)\n",
    "\n",
    "        pred[index_label0] = 0\n",
    "        pred[index_label1] = 1\n",
    "\n",
    "        return pred.astype(int)\n",
    "    \n",
    "        def predict(self, data):\n",
    "            if data[:,self.feature] > self.threshold:\n",
    "                return self.left.predict(data)\n",
    "            else:\n",
    "                return self.right.predict(data)\n",
    "\n",
    "        "
   ]
  },
  {
   "cell_type": "markdown",
   "metadata": {
    "collapsed": true
   },
   "source": [
    "# インスタンスを生成"
   ]
  },
  {
   "cell_type": "code",
   "execution_count": 17,
   "metadata": {
    "collapsed": true
   },
   "outputs": [],
   "source": [
    "model =Scratch_DecisionTree()"
   ]
  },
  {
   "cell_type": "markdown",
   "metadata": {},
   "source": [
    "# 学習"
   ]
  },
  {
   "cell_type": "code",
   "execution_count": 18,
   "metadata": {
    "collapsed": true
   },
   "outputs": [],
   "source": [
    "model.search_best_split(X,y)"
   ]
  },
  {
   "cell_type": "markdown",
   "metadata": {},
   "source": [
    "#  予測"
   ]
  },
  {
   "cell_type": "code",
   "execution_count": 19,
   "metadata": {},
   "outputs": [
    {
     "data": {
      "text/plain": [
       "array([1, 1, 1, 1, 1, 1, 1, 0, 1, 1, 1, 1, 1, 1, 1, 1, 1, 1, 0, 1, 1, 1,\n",
       "       0, 0, 0, 1, 1, 1, 1, 0, 0, 0, 1, 1, 1, 1, 1, 0, 0, 0])"
      ]
     },
     "execution_count": 19,
     "metadata": {},
     "output_type": "execute_result"
    }
   ],
   "source": [
    "model.predict(X)"
   ]
  },
  {
   "cell_type": "code",
   "execution_count": 20,
   "metadata": {
    "collapsed": true
   },
   "outputs": [],
   "source": [
    "pred = model.predict(X)"
   ]
  },
  {
   "cell_type": "markdown",
   "metadata": {},
   "source": [
    "# 評価"
   ]
  },
  {
   "cell_type": "code",
   "execution_count": 21,
   "metadata": {
    "collapsed": true
   },
   "outputs": [],
   "source": [
    "from sklearn.metrics import confusion_matrix,accuracy_score\n",
    "from sklearn.metrics import precision_score\n",
    "from sklearn.metrics import recall_score\n",
    "from sklearn.metrics import f1_score\n"
   ]
  },
  {
   "cell_type": "code",
   "execution_count": 22,
   "metadata": {},
   "outputs": [
    {
     "data": {
      "text/plain": [
       "0.325"
      ]
     },
     "execution_count": 22,
     "metadata": {},
     "output_type": "execute_result"
    }
   ],
   "source": [
    "accuracy_score(y,pred)"
   ]
  },
  {
   "cell_type": "code",
   "execution_count": 23,
   "metadata": {},
   "outputs": [
    {
     "data": {
      "text/plain": [
       "0.55"
      ]
     },
     "execution_count": 23,
     "metadata": {},
     "output_type": "execute_result"
    }
   ],
   "source": [
    "recall_score(y,pred)"
   ]
  },
  {
   "cell_type": "code",
   "execution_count": 24,
   "metadata": {},
   "outputs": [
    {
     "data": {
      "text/plain": [
       "0.4489795918367347"
      ]
     },
     "execution_count": 24,
     "metadata": {},
     "output_type": "execute_result"
    }
   ],
   "source": [
    "f1_score(y,pred)"
   ]
  },
  {
   "cell_type": "code",
   "execution_count": 25,
   "metadata": {},
   "outputs": [
    {
     "data": {
      "text/plain": [
       "0.3793103448275862"
      ]
     },
     "execution_count": 25,
     "metadata": {},
     "output_type": "execute_result"
    }
   ],
   "source": [
    "precision_score(y,pred)"
   ]
  },
  {
   "cell_type": "markdown",
   "metadata": {},
   "source": [
    "# 閾値をプロット"
   ]
  },
  {
   "cell_type": "code",
   "execution_count": 27,
   "metadata": {},
   "outputs": [
    {
     "data": {
      "image/png": "[encoded data removed]",
      "text/plain": [
       "<Figure size 432x288 with 1 Axes>"
      ]
     },
     "metadata": {},
     "output_type": "display_data"
    }
   ],
   "source": [
    "import matplotlib.pyplot as plt\n",
    "plt.scatter(X[:,0], X[:,1], s=80, c=y, marker='o')\n",
    "\n",
    "step = 0.1\n",
    "mesh_f0, mesh_f1  = np.meshgrid(np.arange(np.min(X[:,0])-0.5, np.max(X[:,0])+0.5, step), np.arange(np.min(X[:,1])-0.5, np.max(X[:,1])+0.5, step))\n",
    "mesh = np.c_[np.ravel(mesh_f0),np.ravel(mesh_f1)]\n",
    "pred = model.predict(mesh).reshape(mesh_f0.shape)\n",
    "plt.contour(mesh_f0, mesh_f1, pred, 1)\n",
    "plt.show()"
   ]
  }
 ],
 "metadata": {
  "kernelspec": {
   "display_name": "Python 3",
   "language": "python",
   "name": "python3"
  },
  "language_info": {
   "codemirror_mode": {
    "name": "ipython",
    "version": 3
   },
   "file_extension": ".py",
   "mimetype": "text/x-python",
   "name": "python",
   "nbconvert_exporter": "python",
   "pygments_lexer": "ipython3",
   "version": "3.6.1"
  }
 },
 "nbformat": 4,
 "nbformat_minor": 2
}
