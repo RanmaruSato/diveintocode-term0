{
 "cells": [
  {
   "cell_type": "markdown",
   "metadata": {},
   "source": [
    "# 教師あり学習（分類問題、回帰問題）\n",
    "\n",
    "正解ラベル付きのトレーニングデータからモデルを学習し、未知のデータに対して予測を行う\n",
    "\n",
    "教師あり学習には分類問題と、回帰問題の２つがある。\n",
    "\n",
    "分類問題とは、カテゴリ別に分けてあるデータを学習し、未知のデータのカテゴリ(離散値)を予測する。このコンテンツではこの分類問題に対するアルゴリズムの理解や簡単な問題の実装を行う。\n",
    "\n",
    "回帰問題とは、分類問題と違って、こちらは連続値を予測をする。\n",
    "\n",
    "# 教師なし学習\n",
    "\n",
    "正解ラベルのついていないデータや構造が不明なデータに対し、データの構造や関係性を機械が見出すことを指す。\n",
    "\n",
    "\n",
    "\n",
    "# フィーチャースケーリング\n",
    "\n",
    "再急降下法では最小二乗法の最小値を求める必要がある。そのとき特徴量に対して、ある幅で最小値に近づいていく(収束する)必要があるが、その特徴量の範囲がそれぞれ異なると時間がかかってしまいまう。そのため、特徴量の範囲を調整することをfeature scaling(フィーチャースケーリング)と言い、それによって処理時間を短くすることができる。\n",
    "\n",
    "例えば、「特徴数１(x1)：大きさ」の場合、範囲が「1-3000」だったとして、「特徴数２(x2)：部屋数」の場合は、範囲が「1-3」だとしたら、同じ幅で最小値に収束していくには範囲が大きく異なるため、時間がかかってしまう。。正規化の種類として、**Min-Max normalization**と**z-score normalization(標準化)**がある。\n",
    "\n",
    "## Min-Max normalization\n",
    "\n",
    "Min-Max normalizationは最小値を０、最大値を１に変換する正規化の手法。\n",
    "\n",
    "この正規化条件は、データの分布が一様分布であるもの。\n",
    "\n",
    "$x_{min-max}^{i} = \\frac{ x^i - min }{ max - min }$\n",
    "\n",
    "\n",
    "\n",
    "これを以上の例にあてはめると\n",
    "\n",
    "$x_1 = \\frac{ 大きさ(1～3000) }{ 3000-1 },　  x_2 = \\frac{ 部屋数(1～3) }{ 3-1 }$\n",
    "\n",
    "\n",
    "\n",
    "以上の様な変換を行うことで、$0 \\leq {x_1} \\leq 1 ,　  0 \\leq x_2 \\leq 1$\n",
    "\n",
    "## z-score normalization(標準化)\n",
    "\n",
    "標準化は、元のデータの平均を０、標準偏差を１に変換する正規化の手法。\n",
    "\n",
    "$x_{z-score}^{i} = \\frac{x^i - \\mu}{\\sigma}$\n",
    "\n",
    "\n",
    "\n",
    "## 以上の使い分け\n",
    "\n",
    "データを得るための仮想的な分布の形状が異なる。\n",
    "\n",
    "Z-scoreはガウス分布を、Min-Maxは一様分布を仮定している。\n",
    "\n",
    "ガウス分布は、釣鐘型の形をしていて、平均と分散で分布全体を特徴付けることができる。\n",
    "\n",
    "また、分布の中心に近い値が観測されやすく、遠い値が観測されにくい。\n",
    "\n",
    "ガウス分布と異なり、一様分布では分布に含まれる各値が等しい確率で出現することを想定している。サンプルの中心からどんなに離れた値で合っても、それが観察される確率がある程度あるので、サンプルを得る過程でのエラーを検出できない。\n",
    "\n",
    "標準化は外れ値のあるデータの対して有効。\n",
    "\n",
    "# メリット\n",
    "\n",
    "データを一定の方法で変形し、例えば身長と体重みたいな次元が違うものに対しても、なんとかして同じような単位で取り扱えるようにして、計算や比較しやすくする。\n",
    "\n",
    "\n",
    "\n",
    "# $h_\\theta(x) =  \\theta_0 x_0 + \\theta_1 x_1 + ... +\\theta_n x_n   (x_0 = 1)\\\\ $\n",
    "\n",
    "# $θ_0$の役割\n",
    "\n",
    "\n",
    "誤差\n",
    "\n",
    "\n",
    "# 学習率はどの様な値から選択すべきか\n",
    "\n",
    "学習率を大きくすると、最適な値の周りで振動して、損失関数が増加する。\n",
    "![](https://camo.qiitausercontent.com/2a618584f669abf195e2bb2e775a2fa0808632b3/68747470733a2f2f71696974612d696d6167652d73746f72652e73332e616d617a6f6e6177732e636f6d2f302f3137323235342f37666361646166622d386239342d663939622d326537612d6262613837656237336237382e706e67)  \n",
    "このような場合は、学習率を徐々に下げて調整していく。\n",
    "また学習率を小さくすると、計算時間がかかる。\n",
    "最小の計算時間を追求するのも重要\n",
    "\n",
    "\n",
    "\n",
    "\n",
    "\n",
    "# 学習曲線\n",
    "\n",
    "\n",
    "\n",
    "\n",
    "\n",
    "\n",
    "\n",
    "\n",
    "\n",
    "# 正規方程式 \n",
    " 勾配法では、反復を繰り返しながら、大域的最適を求めようとしていたが、正規方程式を使えば解析的に  $\\theta$を解くことが出来る。\n",
    "・何をしているのかというと、要は接線の傾きが0の$\\theta$を求めている\n",
    "→例1：1次元$(\\theta \\in \\mathbb{R})$の場合、\n",
    "$J(\\theta )=a \\theta ^2 + b \\theta +c$というコスト関数だった場合、\n",
    "$\\frac{d}{d \\theta}J(\\theta ) =0$\n",
    "となる$\\theta$を求めればいい\n",
    "\n",
    "→例2：n+1次元$(\\theta \\in \\mathbb{R}^{n+1})$の場合、(mはデータ数、nは変数の数)\n",
    "$J(\\theta )=\\frac{1}{2m} \\sum_{i=1}^{m} \\left(h_\\theta (x^{i})-y^{i} \\right)^2\n",
    "\\frac{\\partial }{\\partial \\theta _j} J(\\theta )=0 (for every j)$\n",
    "となる$\\theta _0 , \\theta _1, \\ldots , \\theta _n$を求めればいい\n",
    "\n",
    "・これを行列で表現してみる\n",
    "・m個の訓練データ$(x^{(1)},y^{(1)}), \\ldots ,(x^{(m)},y^{(m)})$、n個の変数（特性）が合った場合、\n",
    "$x^{(i)}=\\left[\\begin{array}{c} x_0^{(i)} \\\\ x_1^{(i)} \\\\ \\vdots \\\\ x_n^{(i)} \\\\ \\end{array} \\right] \\in \\mathbb{R}^{n+1}\n",
    "※x_0^{(i)}=1$であることを忘れずに\n",
    "各訓練データは上記のように示せ、それを転置(Transpose)しながら配置すると、下記のようになる\n",
    "$X=\\left[\\begin{array}{ccc} - & (x^{(1)})^T & - \\\\ - & (x^{(2)})^T & - \\\\  & \\vdots &  \\\\ - & (x^{(m)})^T & - \\\\ \\end{array} \\right]$\n",
    "※この時、Xはdesign matrixとも呼ばれる\n",
    "$\\theta = (X^T X)^{-1} X^T y$\n",
    "で各$\\theta$の値が求められる\n",
    "・この正規方程式で求める場合、スケーリングは考えなくても大丈夫\n",
    "\n",
    "・これだけ聞くと正規方程式が最強に見えてくるが、ケースによっては勾配法の方が良い場合がある\n",
    "・m個の訓練データ、n個の変数があった場合、それぞれ以下の特徴がある\n",
    "\n",
    "勾配法の特徴\n",
    "・学習率を選択する必要がある\n",
    "・多くの反復が必要\n",
    "・nが大きくても上手く機能する\n",
    "\n",
    "正規方程式の特徴\n",
    "・学習率を選択する必要がない\n",
    "・反復は不要\n",
    "・$ (X^T X)^{-1} $を計算する必要がある\n",
    "→nxnの計算になり、大体$O(n^3)$の計算量になる\n",
    "・nが大きいと計算に時間がかかってしまう\n",
    "\n",
    "\n",
    "\n",
    "# 更新式の導出\n",
    "\n",
    "更新式$\\theta_j := \\theta_j - \\alpha \\frac{1}{m} \\sum_{i=1}^{m}[(h_\\theta(x^{(i)} - y^{(i)} )x_{j}^{(i)}]$\n",
    "\n",
    "\n",
    "\n",
    "\n",
    "\n",
    "この式から導出$\\theta_j := \\theta_j - \\frac{\\partial}{\\partial \\theta_j}J(\\theta) \\\\$\n",
    "\n",
    "\n",
    "\n",
    "\n",
    "\n",
    "\n",
    "\n",
    "# 局所最適解の問題\n",
    "\n",
    "\n",
    "\n",
    "\n",
    "ロス関数が平均２乗和なので、下に凸のグラフになり大域的最適解を求めることができる。\n",
    "\n",
    "\n",
    "\n",
    "\n",
    "\n",
    "\n",
    "\n"
   ]
  },
  {
   "cell_type": "code",
   "execution_count": 12,
   "metadata": {},
   "outputs": [],
   "source": [
    "import numpy as np\n",
    "import pandas as pd\n",
    "import matplotlib.pyplot as plt"
   ]
  },
  {
   "cell_type": "code",
   "execution_count": 95,
   "metadata": {
    "collapsed": true
   },
   "outputs": [],
   "source": [
    "class ScratchLinearRegression():\n",
    "    \"\"\"\n",
    "    線形回帰\n",
    "    ＊コンストラクタ（__init__）のパラメータはここに書いておくと分かりやすい\n",
    "\n",
    "    Parameters\n",
    "    ----------\n",
    "    num_iter : int\n",
    "      イテレーション数\n",
    "    lr : float\n",
    "      学習率\n",
    "    no_bias : bool\n",
    "      バイアス項を入れない場合はTrue\n",
    "    verbose : bool\n",
    "      学習過程を出力する場合はTrue\n",
    "\n",
    "    Attributes\n",
    "    ----------\n",
    "    self.coef_ : 次の形のndarray, shape (n_features,)\n",
    "      パラメータ\n",
    "    self.loss : 次の形のndarray, shape (self.iter,)\n",
    "      学習用データに対する損失の記録\n",
    "    self.val_loss : 次の形のndarray, shape (self.iter,)\n",
    "      検証用データに対する損失の記録\n",
    "\n",
    "    \"\"\"\n",
    "    def __init__(self, num_iter, lr, bias):\n",
    "        #メソッド内で共有したい変数をおlく\n",
    "        # ハイパーパラメータを属性として記録\n",
    "        self.iter = num_iter\n",
    "        self.lr = lr\n",
    "        self.bias = bias\n",
    "\n",
    "        # 損失を記録する配列を用意\n",
    "        self.loss = []\n",
    "        self.theta = None\n",
    "\n",
    "    def compute_cost(self, X, y):\n",
    "        y_hat= np.dot(X, self.theta.T)\n",
    "        loss = np.sum((y_hat - y)**2)/(len(X)*2)\n",
    " \n",
    "        return loss\n",
    "    \n",
    "    def  gradient_descent(self, X, y):\n",
    "            self.theta = np.random.rand(X.shape[1])\n",
    "            self.loss.append(self.compute_cost(X, y))\n",
    "            for i in range(self.iter):\n",
    "                #仮定関数\n",
    "                y_hat = np.dot(X,self.theta.T)\n",
    "                \n",
    "                self.theta = self.theta - self.lr/len(y) * np.dot(X.T, y_hat - y)\n",
    "                # 訓練データの誤差を計算する\n",
    "                self.loss.append(self.compute_cost(X, y))\n",
    "                \n",
    "                \n",
    "            return   self.loss\n",
    "\n",
    "    \n",
    "    def fit(self, X, y, X_val=None, y_val=None):\n",
    "        \"\"\"\n",
    "        線形回帰を学習する。検証用データが入力された場合はそれに対する損失と精度もイテレーションごとに計算する。\n",
    "\n",
    "        Parameters\n",
    "        ----------\n",
    "        X : 次の形のndarray, shape (n_samples, n_features)\n",
    "            学習用データの特徴量\n",
    "        y : 次の形のndarray, shape (n_samples, )\n",
    "            学習用データの正解値\n",
    "        X_val : 次の形のndarray, shape (n_samples, n_features)\n",
    "            検証用データの特徴量\n",
    "        y_val : 次の形のndarray, shape (n_samples, )\n",
    "            検証用データの正解値\n",
    "        \"\"\"\n",
    "        \n",
    "        self.gradient_descent(X,y)\n",
    "        \n",
    "        \n",
    "    #返す値は他で使わないのでリターンで返す\n",
    "    def predict(self, X):\n",
    "        \"\"\"\n",
    "        線形回帰を使い推定する。\n",
    "\n",
    "        Parameters\n",
    "        ----------\n",
    "        X : 次の形のndarray, shape (n_samples, n_features)\n",
    "            サンプル\n",
    "\n",
    "        Returns\n",
    "        -------\n",
    "            次の形のndarray, shape (n_samples, 1)\n",
    "            線形回帰による推定結果\n",
    "        \"\"\"\n",
    "    \n",
    "        # バイアス項に合わせて整形\n",
    "        if(not(self.bias)):\n",
    "            X = np.insert(X, 0, 1, axis=1)\n",
    "\n",
    "\n",
    "        return np.dot(self.theta[-1], np.array(X).T)"
   ]
  },
  {
   "cell_type": "markdown",
   "metadata": {},
   "source": [
    "# データの読み込み"
   ]
  },
  {
   "cell_type": "code",
   "execution_count": 97,
   "metadata": {
    "collapsed": true
   },
   "outputs": [],
   "source": [
    "train = pd.read_csv('../train.csv')\n",
    "X = train.loc[:,['GrLivArea','YearBuilt']]\n",
    "y = train['SalePrice']"
   ]
  },
  {
   "cell_type": "markdown",
   "metadata": {},
   "source": [
    "# 線形回帰のインスタンスを生成"
   ]
  },
  {
   "cell_type": "code",
   "execution_count": 96,
   "metadata": {},
   "outputs": [],
   "source": [
    "model = ScratchLinearRegression(num_iter=2000, lr=0.001,bias = False)"
   ]
  },
  {
   "cell_type": "markdown",
   "metadata": {},
   "source": [
    "#  データを標準化"
   ]
  },
  {
   "cell_type": "code",
   "execution_count": 98,
   "metadata": {
    "collapsed": true
   },
   "outputs": [],
   "source": [
    "from sklearn.preprocessing import StandardScaler"
   ]
  },
  {
   "cell_type": "code",
   "execution_count": 99,
   "metadata": {
    "collapsed": true
   },
   "outputs": [],
   "source": [
    "sc = StandardScaler()\n",
    "sc.fit(X)\n",
    "X= sc.transform(X)"
   ]
  },
  {
   "cell_type": "code",
   "execution_count": 100,
   "metadata": {},
   "outputs": [],
   "source": [
    "a = model.gradient_descent(X,y)"
   ]
  },
  {
   "cell_type": "code",
   "execution_count": 101,
   "metadata": {},
   "outputs": [
    {
     "data": {
      "text/plain": [
       "array([[ 29729.45421006,  29729.45421006,  29729.45421006, ...,\n",
       "         29729.45421006,  29729.45421006,  29729.45421006],\n",
       "       [ 11009.81102365, -14344.81587047,  15311.04237176, ...,\n",
       "         46664.7550935 , -24758.32334484, -14684.38676637],\n",
       "       [ 31245.47172216,   4659.60767831,  29276.14845965, ...,\n",
       "        -29803.54941557, -20941.59473429,  -6171.67026548]])"
      ]
     },
     "execution_count": 101,
     "metadata": {},
     "output_type": "execute_result"
    }
   ],
   "source": [
    "model.predict(X)"
   ]
  },
  {
   "cell_type": "markdown",
   "metadata": {},
   "source": [
    "#  lossが減っているか確認"
   ]
  },
  {
   "cell_type": "code",
   "execution_count": 102,
   "metadata": {},
   "outputs": [
    {
     "name": "stderr",
     "output_type": "stream",
     "text": [
      "/Users/ranmarusato/anaconda/lib/python3.6/site-packages/matplotlib/font_manager.py:1328: UserWarning: findfont: Font family ['IPAMincho'] not found. Falling back to DejaVu Sans\n",
      "  (prop.get_family(), self.defaultFamily[fontext]))\n"
     ]
    },
    {
     "data": {
      "image/png": "[encoded data removed]",
      "text/plain": [
       "<Figure size 432x288 with 1 Axes>"
      ]
     },
     "metadata": {},
     "output_type": "display_data"
    }
   ],
   "source": [
    "pd.DataFrame(a).plot.line()\n",
    "plt.show()"
   ]
  }
 ],
 "metadata": {
  "kernelspec": {
   "display_name": "Python 3",
   "language": "python",
   "name": "python3"
  },
  "language_info": {
   "codemirror_mode": {
    "name": "ipython",
    "version": 3
   },
   "file_extension": ".py",
   "mimetype": "text/x-python",
   "name": "python",
   "nbconvert_exporter": "python",
   "pygments_lexer": "ipython3",
   "version": "3.6.1"
  }
 },
 "nbformat": 4,
 "nbformat_minor": 2
}
