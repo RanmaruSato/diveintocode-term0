{
 "cells": [
  {
   "cell_type": "markdown",
   "metadata": {},
   "source": [
    "# ボストン住宅価格線形回帰"
   ]
  },
  {
   "cell_type": "markdown",
   "metadata": {},
   "source": [
    "## 線形回帰とは何か"
   ]
  },
  {
   "cell_type": "markdown",
   "metadata": {},
   "source": [
    "線形回帰とは何か。\n",
    "具体的に言うと？\n",
    "分類と何か違うのか"
   ]
  },
  {
   "cell_type": "markdown",
   "metadata": {},
   "source": [
    "回帰分析とは、予測したいデータを、すでにわかっているデータとの関係性を元に推定するアプローチ。\n",
    "例えば、毎分２L水がたまるタンクがあったとすると\n",
    "V(L)を水の容量、t(m)を時間とした時に\n",
    "V=4tというモデルができる。\n",
    "ここで線形であるというのはtが１次（２乗になっていない）ということを表す.\n",
    "また、目的変数が連続値ではなく離散値の場合は分類と呼ばれる。"
   ]
  },
  {
   "cell_type": "markdown",
   "metadata": {},
   "source": [
    "## ライブラリのインポート"
   ]
  },
  {
   "cell_type": "code",
   "execution_count": 379,
   "metadata": {
    "collapsed": true
   },
   "outputs": [],
   "source": [
    "import pandas as pd \n",
    "import numpy as np\n",
    "import matplotlib.pyplot as plt\n",
    "from sklearn.linear_model import LinearRegression\n",
    "import seaborn as sns\n",
    "from sklearn import datasets\n",
    "% matplotlib inline"
   ]
  },
  {
   "cell_type": "markdown",
   "metadata": {},
   "source": [
    " ## データを取得する\n",
    " sklearnのload_boston()メソッドを使用して、データを取得しましょう。"
   ]
  },
  {
   "cell_type": "code",
   "execution_count": 380,
   "metadata": {
    "collapsed": true
   },
   "outputs": [],
   "source": [
    "from sklearn.datasets import load_boston\n",
    "boston = load_boston()\n"
   ]
  },
  {
   "cell_type": "markdown",
   "metadata": {},
   "source": [
    "## 取得データをDataFrameにする\n",
    "pd.DataFrameを使用して、データを説明変数と目的変数に分けましょう。\n",
    "\n",
    "今回の課題では、説明変数がload_boston().dataで、目的変数は、load_boston().targetより取得できます。\n",
    "\n",
    "※load_boston()には、データを取得した際に代入したインスタンスが入ります。"
   ]
  },
  {
   "cell_type": "code",
   "execution_count": 381,
   "metadata": {
    "collapsed": true
   },
   "outputs": [],
   "source": [
    "X = boston.data\n",
    "y = boston.target"
   ]
  },
  {
   "cell_type": "code",
   "execution_count": 382,
   "metadata": {
    "scrolled": true
   },
   "outputs": [
    {
     "name": "stdout",
     "output_type": "stream",
     "text": [
      "Boston House Prices dataset\n",
      "===========================\n",
      "\n",
      "Notes\n",
      "------\n",
      "Data Set Characteristics:  \n",
      "\n",
      "    :Number of Instances: 506 \n",
      "\n",
      "    :Number of Attributes: 13 numeric/categorical predictive\n",
      "    \n",
      "    :Median Value (attribute 14) is usually the target\n",
      "\n",
      "    :Attribute Information (in order):\n",
      "        - CRIM     per capita crime rate by town\n",
      "        - ZN       proportion of residential land zoned for lots over 25,000 sq.ft.\n",
      "        - INDUS    proportion of non-retail business acres per town\n",
      "        - CHAS     Charles River dummy variable (= 1 if tract bounds river; 0 otherwise)\n",
      "        - NOX      nitric oxides concentration (parts per 10 million)\n",
      "        - RM       average number of rooms per dwelling\n",
      "        - AGE      proportion of owner-occupied units built prior to 1940\n",
      "        - DIS      weighted distances to five Boston employment centres\n",
      "        - RAD      index of accessibility to radial highways\n",
      "        - TAX      full-value property-tax rate per $10,000\n",
      "        - PTRATIO  pupil-teacher ratio by town\n",
      "        - B        1000(Bk - 0.63)^2 where Bk is the proportion of blacks by town\n",
      "        - LSTAT    % lower status of the population\n",
      "        - MEDV     Median value of owner-occupied homes in $1000's\n",
      "\n",
      "    :Missing Attribute Values: None\n",
      "\n",
      "    :Creator: Harrison, D. and Rubinfeld, D.L.\n",
      "\n",
      "This is a copy of UCI ML housing dataset.\n",
      "http://archive.ics.uci.edu/ml/datasets/Housing\n",
      "\n",
      "\n",
      "This dataset was taken from the StatLib library which is maintained at Carnegie Mellon University.\n",
      "\n",
      "The Boston house-price data of Harrison, D. and Rubinfeld, D.L. 'Hedonic\n",
      "prices and the demand for clean air', J. Environ. Economics & Management,\n",
      "vol.5, 81-102, 1978.   Used in Belsley, Kuh & Welsch, 'Regression diagnostics\n",
      "...', Wiley, 1980.   N.B. Various transformations are used in the table on\n",
      "pages 244-261 of the latter.\n",
      "\n",
      "The Boston house-price data has been used in many machine learning papers that address regression\n",
      "problems.   \n",
      "     \n",
      "**References**\n",
      "\n",
      "   - Belsley, Kuh & Welsch, 'Regression diagnostics: Identifying Influential Data and Sources of Collinearity', Wiley, 1980. 244-261.\n",
      "   - Quinlan,R. (1993). Combining Instance-Based and Model-Based Learning. In Proceedings on the Tenth International Conference of Machine Learning, 236-243, University of Massachusetts, Amherst. Morgan Kaufmann.\n",
      "   - many more! (see http://archive.ics.uci.edu/ml/datasets/Housing)\n",
      "\n"
     ]
    }
   ],
   "source": [
    "#データセットの説明を読む\n",
    "print(boston.DESCR)"
   ]
  },
  {
   "cell_type": "code",
   "execution_count": 383,
   "metadata": {
    "collapsed": true
   },
   "outputs": [],
   "source": [
    "X = pd.DataFrame(boston.data,columns=boston.feature_names)\n",
    "y= pd.DataFrame(boston.target)"
   ]
  },
  {
   "cell_type": "code",
   "execution_count": 384,
   "metadata": {},
   "outputs": [
    {
     "data": {
      "text/html": [
       "<div>\n",
       "<style>\n",
       "    .dataframe thead tr:only-child th {\n",
       "        text-align: right;\n",
       "    }\n",
       "\n",
       "    .dataframe thead th {\n",
       "        text-align: left;\n",
       "    }\n",
       "\n",
       "    .dataframe tbody tr th {\n",
       "        vertical-align: top;\n",
       "    }\n",
       "</style>\n",
       "<table border=\"1\" class=\"dataframe\">\n",
       "  <thead>\n",
       "    <tr style=\"text-align: right;\">\n",
       "      <th></th>\n",
       "      <th>CRIM</th>\n",
       "      <th>ZN</th>\n",
       "      <th>INDUS</th>\n",
       "      <th>CHAS</th>\n",
       "      <th>NOX</th>\n",
       "      <th>RM</th>\n",
       "      <th>AGE</th>\n",
       "      <th>DIS</th>\n",
       "      <th>RAD</th>\n",
       "      <th>TAX</th>\n",
       "      <th>PTRATIO</th>\n",
       "      <th>B</th>\n",
       "      <th>LSTAT</th>\n",
       "    </tr>\n",
       "  </thead>\n",
       "  <tbody>\n",
       "    <tr>\n",
       "      <th>0</th>\n",
       "      <td>0.00632</td>\n",
       "      <td>18.0</td>\n",
       "      <td>2.31</td>\n",
       "      <td>0.0</td>\n",
       "      <td>0.538</td>\n",
       "      <td>6.575</td>\n",
       "      <td>65.2</td>\n",
       "      <td>4.0900</td>\n",
       "      <td>1.0</td>\n",
       "      <td>296.0</td>\n",
       "      <td>15.3</td>\n",
       "      <td>396.90</td>\n",
       "      <td>4.98</td>\n",
       "    </tr>\n",
       "    <tr>\n",
       "      <th>1</th>\n",
       "      <td>0.02731</td>\n",
       "      <td>0.0</td>\n",
       "      <td>7.07</td>\n",
       "      <td>0.0</td>\n",
       "      <td>0.469</td>\n",
       "      <td>6.421</td>\n",
       "      <td>78.9</td>\n",
       "      <td>4.9671</td>\n",
       "      <td>2.0</td>\n",
       "      <td>242.0</td>\n",
       "      <td>17.8</td>\n",
       "      <td>396.90</td>\n",
       "      <td>9.14</td>\n",
       "    </tr>\n",
       "    <tr>\n",
       "      <th>2</th>\n",
       "      <td>0.02729</td>\n",
       "      <td>0.0</td>\n",
       "      <td>7.07</td>\n",
       "      <td>0.0</td>\n",
       "      <td>0.469</td>\n",
       "      <td>7.185</td>\n",
       "      <td>61.1</td>\n",
       "      <td>4.9671</td>\n",
       "      <td>2.0</td>\n",
       "      <td>242.0</td>\n",
       "      <td>17.8</td>\n",
       "      <td>392.83</td>\n",
       "      <td>4.03</td>\n",
       "    </tr>\n",
       "    <tr>\n",
       "      <th>3</th>\n",
       "      <td>0.03237</td>\n",
       "      <td>0.0</td>\n",
       "      <td>2.18</td>\n",
       "      <td>0.0</td>\n",
       "      <td>0.458</td>\n",
       "      <td>6.998</td>\n",
       "      <td>45.8</td>\n",
       "      <td>6.0622</td>\n",
       "      <td>3.0</td>\n",
       "      <td>222.0</td>\n",
       "      <td>18.7</td>\n",
       "      <td>394.63</td>\n",
       "      <td>2.94</td>\n",
       "    </tr>\n",
       "    <tr>\n",
       "      <th>4</th>\n",
       "      <td>0.06905</td>\n",
       "      <td>0.0</td>\n",
       "      <td>2.18</td>\n",
       "      <td>0.0</td>\n",
       "      <td>0.458</td>\n",
       "      <td>7.147</td>\n",
       "      <td>54.2</td>\n",
       "      <td>6.0622</td>\n",
       "      <td>3.0</td>\n",
       "      <td>222.0</td>\n",
       "      <td>18.7</td>\n",
       "      <td>396.90</td>\n",
       "      <td>5.33</td>\n",
       "    </tr>\n",
       "  </tbody>\n",
       "</table>\n",
       "</div>"
      ],
      "text/plain": [
       "      CRIM    ZN  INDUS  CHAS    NOX     RM   AGE     DIS  RAD    TAX  \\\n",
       "0  0.00632  18.0   2.31   0.0  0.538  6.575  65.2  4.0900  1.0  296.0   \n",
       "1  0.02731   0.0   7.07   0.0  0.469  6.421  78.9  4.9671  2.0  242.0   \n",
       "2  0.02729   0.0   7.07   0.0  0.469  7.185  61.1  4.9671  2.0  242.0   \n",
       "3  0.03237   0.0   2.18   0.0  0.458  6.998  45.8  6.0622  3.0  222.0   \n",
       "4  0.06905   0.0   2.18   0.0  0.458  7.147  54.2  6.0622  3.0  222.0   \n",
       "\n",
       "   PTRATIO       B  LSTAT  \n",
       "0     15.3  396.90   4.98  \n",
       "1     17.8  396.90   9.14  \n",
       "2     17.8  392.83   4.03  \n",
       "3     18.7  394.63   2.94  \n",
       "4     18.7  396.90   5.33  "
      ]
     },
     "execution_count": 384,
     "metadata": {},
     "output_type": "execute_result"
    }
   ],
   "source": [
    "X.head()"
   ]
  },
  {
   "cell_type": "markdown",
   "metadata": {},
   "source": [
    "## 説明変数を'LSTAT'のみにする\n",
    " ### ←全部の特徴で検証してみました\n",
    "## テストデータに分割する\n",
    "sklearnのsklearn.model_selection.train_test_splitを使用して、データセットのデータを8対2(テスト)に分けましょう。\n",
    "※データの形状を確認する\n",
    "きちんと分割されているかshapeメソッドを使用して確認すると良いでしょう。\n",
    "## 学習\n",
    "LinearRegression()を使用してインスタンスを作成し、fitメソッドを使用して学習を行いましょう\n",
    "## 決定係数\n",
    "scoreメソッドを使用して、決定係数を求めましょう"
   ]
  },
  {
   "cell_type": "code",
   "execution_count": 385,
   "metadata": {},
   "outputs": [
    {
     "data": {
      "text/plain": [
       "Index(['CRIM', 'ZN', 'INDUS', 'CHAS', 'NOX', 'RM', 'AGE', 'DIS', 'RAD', 'TAX',\n",
       "       'PTRATIO', 'B', 'LSTAT'],\n",
       "      dtype='object')"
      ]
     },
     "execution_count": 385,
     "metadata": {},
     "output_type": "execute_result"
    }
   ],
   "source": [
    "X.columns"
   ]
  },
  {
   "cell_type": "code",
   "execution_count": 386,
   "metadata": {
    "collapsed": true
   },
   "outputs": [],
   "source": [
    "features_list = ['CRIM', 'ZN', 'INDUS', 'CHAS', 'NOX', 'RM', 'AGE', 'DIS', 'RAD',\n",
    "       'TAX', 'PTRATIO', 'B', 'LSTAT']"
   ]
  },
  {
   "cell_type": "code",
   "execution_count": 387,
   "metadata": {},
   "outputs": [
    {
     "name": "stdout",
     "output_type": "stream",
     "text": [
      "一次式における CRIMの決定係数は0.16639537211980848\n",
      "------------------------------------------------------------------------\n",
      "一次式における ZNの決定係数は0.16795610271641104\n",
      "------------------------------------------------------------------------\n",
      "一次式における INDUSの決定係数は0.2756821153366341\n",
      "------------------------------------------------------------------------\n",
      "一次式における CHASの決定係数は0.03154893785540236\n",
      "------------------------------------------------------------------------\n",
      "一次式における NOXの決定係数は0.2112013354442649\n",
      "------------------------------------------------------------------------\n",
      "一次式における RMの決定係数は0.4970800097843844\n",
      "------------------------------------------------------------------------\n",
      "一次式における AGEの決定係数は0.17085002205933963\n",
      "------------------------------------------------------------------------\n",
      "一次式における DISの決定係数は0.07896827357780933\n",
      "------------------------------------------------------------------------\n",
      "一次式における RADの決定係数は0.1807379443793754\n",
      "------------------------------------------------------------------------\n",
      "一次式における TAXの決定係数は0.26114634774153367\n",
      "------------------------------------------------------------------------\n",
      "一次式における PTRATIOの決定係数は0.3176066965343226\n",
      "------------------------------------------------------------------------\n",
      "一次式における Bの決定係数は0.1254757417691994\n",
      "------------------------------------------------------------------------\n",
      "一次式における LSTATの決定係数は0.571031588576562\n",
      "------------------------------------------------------------------------\n"
     ]
    }
   ],
   "source": [
    "from sklearn.linear_model import LinearRegression\n",
    "for feature in features_list :\n",
    "    feature_data=X[feature]\n",
    "    from sklearn.model_selection import train_test_split\n",
    "    (X_train, X_test,\n",
    "     y_train, y_test) = train_test_split(\n",
    "        feature_data, y, test_size=0.2, random_state=0,\n",
    "    )\n",
    "\n",
    "    #インスタンスの作成\n",
    "    model= LinearRegression()\n",
    "    #学習\n",
    "    #fit(x,y) xが対象データ、yが正解データ\n",
    "    #４０４行のデータを、404×1のデータに変換\n",
    "    # #https://deepage.net/features/numpy-newaxis.html\n",
    "    #https://deepage.net/features/numpy-reshape.html\n",
    "    #Numpyに配列に次元を追加する方法は主に２つある\n",
    "    #Numpy配列のスライシングnp.newaxisを指定することで、使われた次元に要素数１の新たな軸axisを追加\n",
    "    #することになる。np.newaxisをNoneで代用することも可能だが可読性の観点からnp.newaxisを使う\n",
    "    model.fit(X_train[:,np.newaxis],y_train)\n",
    "    score=model.score(X_train[:,np.newaxis],y_train)\n",
    "    print(\"一次式における {}の決定係数は{}\".format(feature ,score))\n",
    "    print('------------------------------------------------------------------------')"
   ]
  },
  {
   "cell_type": "markdown",
   "metadata": {},
   "source": [
    "## 2,3,4次式の回帰\n",
    "PolynomialFeatures()とfit_transform()メソッドを使用して、2,3,4次式の回帰に挑戦しましょう。ここでも学習を行い、決定係数を求めましょう。"
   ]
  },
  {
   "cell_type": "code",
   "execution_count": 388,
   "metadata": {},
   "outputs": [
    {
     "name": "stdout",
     "output_type": "stream",
     "text": [
      "2次式における CRIMの決定係数は0.060727008422610584\n",
      "3次式における CRIMの決定係数は0.046805071251852404\n",
      "4次式における CRIMの決定係数は0.029078068673772828\n",
      "-------------------------------------------------------------------------\n",
      "2次式における ZNの決定係数は-0.04782028287286155\n",
      "3次式における ZNの決定係数は-0.024193650231187913\n",
      "4次式における ZNの決定係数は-0.024535754669651633\n",
      "-------------------------------------------------------------------------\n",
      "2次式における INDUSの決定係数は0.00890578926036345\n",
      "3次式における INDUSの決定係数は-0.013902247840995585\n",
      "4次式における INDUSの決定係数は-0.009802723396888924\n",
      "-------------------------------------------------------------------------\n",
      "2次式における CHASの決定係数は0.025489641189190726\n",
      "3次式における CHASの決定係数は0.02549492612726334\n",
      "4次式における CHASの決定係数は0.025497788505434493\n",
      "-------------------------------------------------------------------------\n",
      "2次式における NOXの決定係数は0.05631534187843634\n",
      "3次式における NOXの決定係数は0.07085272234828188\n",
      "4次式における NOXの決定係数は0.07180315933274706\n",
      "-------------------------------------------------------------------------\n",
      "2次式における RMの決定係数は0.5112919807602372\n",
      "3次式における RMの決定係数は0.5109108986119315\n",
      "4次式における RMの決定係数は0.4896878025114012\n",
      "-------------------------------------------------------------------------\n",
      "2次式における AGEの決定係数は-0.028435255686762417\n",
      "3次式における AGEの決定係数は-0.025173992296483094\n",
      "4次式における AGEの決定係数は-0.02708786519015005\n",
      "-------------------------------------------------------------------------\n",
      "2次式における DISの決定係数は-0.021685022708758828\n",
      "3次式における DISの決定係数は-0.03728074408406212\n",
      "4次式における DISの決定係数は-0.04158424591728993\n",
      "-------------------------------------------------------------------------\n",
      "2次式における RADの決定係数は0.01815116986655585\n",
      "3次式における RADの決定係数は0.06323287252730025\n",
      "4次式における RADの決定係数は0.08241820686820656\n",
      "-------------------------------------------------------------------------\n",
      "2次式における TAXの決定係数は0.038000673223564374\n",
      "3次式における TAXの決定係数は0.03340689472613312\n",
      "4次式における TAXの決定係数は0.033567307842807814\n",
      "-------------------------------------------------------------------------\n",
      "2次式における PTRATIOの決定係数は2.1678371793232287e-06\n",
      "3次式における PTRATIOの決定係数は0.015221210872360946\n",
      "4次式における PTRATIOの決定係数は0.04678719329849146\n",
      "-------------------------------------------------------------------------\n",
      "2次式における Bの決定係数は0.022682734252081338\n",
      "3次式における Bの決定係数は0.021133610181869655\n",
      "4次式における Bの決定係数は0.03847286406828099\n",
      "-------------------------------------------------------------------------\n",
      "2次式における LSTATの決定係数は0.5229324163738781\n",
      "3次式における LSTATの決定係数は0.5428594395609442\n",
      "4次式における LSTATの決定係数は0.5737991665087627\n",
      "-------------------------------------------------------------------------\n"
     ]
    }
   ],
   "source": [
    "from sklearn.preprocessing import PolynomialFeatures\n",
    "for feature in features_list :\n",
    "    feature_data=X[feature]\n",
    "    from sklearn.model_selection import train_test_split\n",
    "    (X_train, X_test,\n",
    "     y_train, y_test) = train_test_split(\n",
    "        feature_data, y, test_size=0.2, random_state=0,\n",
    "    )\n",
    "    #インスタンスを作成\n",
    "    degree_2=PolynomialFeatures(degree=2)\n",
    "    degree_3=PolynomialFeatures(degree=3)\n",
    "    degree_4=PolynomialFeatures(degree=4)\n",
    "\n",
    "    x_train_2=degree_2.fit_transform(X_train[:,np.newaxis])\n",
    "    x_train_3=degree_3.fit_transform(X_train[:,np.newaxis])\n",
    "    x_train_4=degree_4.fit_transform(X_train[:,np.newaxis])\n",
    "    \n",
    "    #2~4次元の線形回帰のインスタンスを作成\n",
    "    model_2d =  LinearRegression()\n",
    "    model_3d =  LinearRegression()\n",
    "    model_4d =  LinearRegression()\n",
    "    #学習\n",
    "    model_2d.fit(x_train_2,y_train)\n",
    "    model_3d.fit(x_train_3,y_train)\n",
    "    model_4d.fit(x_train_4,y_train)\n",
    "    x_test_2 = degree_2.fit_transform(X_test[:,np.newaxis])\n",
    "    x_test_3 = degree_3.fit_transform(X_test[:,np.newaxis])\n",
    "    x_test_4 = degree_4.fit_transform(X_test[:,np.newaxis])\n",
    "\n",
    "    score_2d = model_2d.score(x_test_2,y_test)\n",
    "    score_3d = model_3d.score(x_test_3,y_test)\n",
    "    score_4d = model_4d.score(x_test_4,y_test)\n",
    "    print(\"2次式における {}の決定係数は{}\".format(feature ,score_2d))\n",
    "    print(\"3次式における {}の決定係数は{}\".format(feature ,score_3d))\n",
    "    print(\"4次式における {}の決定係数は{}\".format(feature ,score_4d))\n",
    "    print('-------------------------------------------------------------------------')"
   ]
  },
  {
   "cell_type": "markdown",
   "metadata": {},
   "source": [
    "## 単回帰と重回帰の違いについて記述せよ"
   ]
  },
  {
   "cell_type": "markdown",
   "metadata": {},
   "source": [
    "重回帰分析とは 単回帰分析が、1つの目的変数を1つの説明変数で予測したのに対し、重回帰分析は1つの目的変数を複数の説明変数で予測しようというもの。\n",
    "一般的に重回帰分析は誤差を小さくすることができ、予測の精度をあげることができる。一方で、モデルの説明変数を必要以上に増やせば増やすほど、学習データのシグナルだけでなく、ノイズにまでフィットしてしまう。"
   ]
  },
  {
   "cell_type": "markdown",
   "metadata": {},
   "source": [
    "## 決定係数とは何か記述せよ\n",
    "重回帰分析の結果を読み取る指標のひとつ「決定係数」。１に近いほど分析の精度が高いことを表す。しかし、決定係数だけに気を取られていると分析結果を読み違えてしまうこともある。\n",
    "この数字は「回帰分析をした結果が目的変数のばらつき（分散）をどれくらい説明しているか」によって定義される。\n",
    "決定係数を求めるためには、実際のデータと推定された回帰式から「全変動」「回帰変動」「残差変動」の３つを求める必要がある。ここでは実際のデータを$(x_i,y_i)$、回帰式から推定されたデータを$(x_i,\\hat{y}_i)$、データ全体から求められる平均値を$(\\bar{x},\\bar{y})$とする。\n",
    "- 「全変動」：実際のデータとデータ全体の平均値との差を表す。（下の図の緑の部分）\n",
    "- 「回帰変動」：推定された回帰式から得られた予測値とデータ全体の平均値の差を表す。\n",
    "- 「残差変動」：実際のデータと推定された回帰式から得られた予測値との差を表す。"
   ]
  },
  {
   "cell_type": "markdown",
   "metadata": {},
   "source": [
    "![決定係数](http://bellcurve.jp/statistics/wp-body/wp-content/uploads/2017/01/795316b92fc766b0181f6fef074f03fa-16.png)"
   ]
  },
  {
   "cell_type": "markdown",
   "metadata": {},
   "source": [
    "これらの変動を二乗和として算出する。\n",
    "決定係数は説明変数が目的変数をどれくらい説明しているか、つまり「回帰変動が全変動に対してどれだけ多いか＝残差変動が全変動に対してどれだけ少ないか」を表すものである。したがって決定係数は、回帰変動を全変動で割ることになる"
   ]
  },
  {
   "cell_type": "markdown",
   "metadata": {},
   "source": [
    "![決定係数](http://ifs.nog.cc/gucchi24.hp.infoseek.co.jp/MRA1.files/image056.jpg)"
   ]
  },
  {
   "cell_type": "markdown",
   "metadata": {},
   "source": [
    "## 決定係数をいかなる場合も信じても良いか記述せよ(決定係数が高ければ、汎用性があるモデルと言えるか)\n",
    "決定係数が正しく評価できない例を答えよ\n",
    "ヒント\n",
    "\n",
    "データ数の視点から記述してみましょう。\n",
    "\n",
    "参考\n",
    "\n",
    "http://xica.net/magellan/marketing-idea/stats/about-coefficient-of-determination/\n",
    "\n"
   ]
  },
  {
   "cell_type": "markdown",
   "metadata": {},
   "source": [
    "決定係数が高ければなんでもいいという訳ではない。\n",
    "\n",
    "データ数の観点から、大きなサイズの母集団から無作為に抽出された、サンプルを使用して回帰分析を行い、そこで得られた回帰係数を元に決定係数を算出する場合、このケースでの決定係数はサンプルに対しての精度が高くなるよう求められたものである。つまり、母集団とサンプルとの性質に乖離があると、母集団の文脈にそぐう結果が算出されない可能性がある。\n",
    "また、決定係数は説明変数を追加するにしたがって単調に増加し１に近くづく性質がある。つまり、被説明変数と直接関係のない変数を説明変数として追加しても決定係数が上がる。。\n",
    "決定係数はあくまで、予測の当てはまりの良さを示す指標で分析の目的や仮説とは関係のない変数を無秩序の分析に加えてしまうとモデルの解釈が難しくなる。\n",
    "\n",
    "このような問題を解消するために、「自由度調整済み決定係数」が使用される。値を修正するために、サンプル数と説明変数の個数から求められる自由度という概念を使用しているためにこのような名前がついている。\n",
    "統計的には母集団の性質を求めるのが通常なので、説明変数が多い場合は決定係数ではなく、自由度調整済み決定係数の値をより重要視すべきとされている。\n",
    "\n",
    "https://www-cc.gakushuin.ac.jp/~20130021/ecmr/chapter3.pdf\n",
    "http://ryotamugiyama.com/2018/07/02/rsquared/"
   ]
  },
  {
   "cell_type": "markdown",
   "metadata": {},
   "source": [
    "## 次数が大きくなるとどうなるか記述せよ\n",
    "説明変数をxとして、次数を増やしていくとどのように数式が変化していくか記述せよ（1次式 ax + b）\n",
    "次数を増やすとどのようなメリットが考えられるか,\n",
    "次数を増やすとどのようなデメリットが考えられるか"
   ]
  },
  {
   "cell_type": "markdown",
   "metadata": {},
   "source": [
    "説明変数を増やすことで、表現力が上がり決定係数は１に単調増加しながら近く。\n",
    "しかし、目的変数との関係の薄い説明変数に含まれるノイズも取り入れて学習してしまうため過学習しやすくなる。\n"
   ]
  },
  {
   "cell_type": "markdown",
   "metadata": {},
   "source": [
    "## 重回帰\n",
    "今回は、LSTATのみを使用したが、他の特徴量も使用して学習させましょう。重回帰を使用して、0.71以上の決定係数出れば合格です。\n",
    "\n",
    "ヒント\n",
    "\n",
    "すべての特徴量を使用せず、相関が強い特徴量のみを使用してみましょう。\n",
    "次数を変更してみましょう。"
   ]
  },
  {
   "cell_type": "code",
   "execution_count": 331,
   "metadata": {
    "collapsed": true
   },
   "outputs": [],
   "source": [
    "X = boston.data\n",
    "X = pd.DataFrame(boston.data,columns=boston.feature_names)\n",
    "y= pd.DataFrame(boston.target)"
   ]
  },
  {
   "cell_type": "code",
   "execution_count": 338,
   "metadata": {},
   "outputs": [
    {
     "data": {
      "text/plain": [
       "(506, 13)"
      ]
     },
     "execution_count": 338,
     "metadata": {},
     "output_type": "execute_result"
    }
   ],
   "source": [
    "X = boston.data\n",
    "X.shape"
   ]
  },
  {
   "cell_type": "code",
   "execution_count": 339,
   "metadata": {
    "collapsed": true
   },
   "outputs": [],
   "source": [
    "correlation_matrix = np.corrcoef(X.transpose())"
   ]
  },
  {
   "cell_type": "code",
   "execution_count": 340,
   "metadata": {
    "collapsed": true
   },
   "outputs": [],
   "source": [
    "dataset = datasets.load_boston()\n",
    "features = dataset.data\n",
    "feature_names = dataset.feature_names"
   ]
  },
  {
   "cell_type": "code",
   "execution_count": 341,
   "metadata": {
    "scrolled": true
   },
   "outputs": [
    {
     "name": "stderr",
     "output_type": "stream",
     "text": [
      "/Users/ranmarusato/anaconda/lib/python3.6/site-packages/seaborn/matrix.py:143: FutureWarning: elementwise comparison failed; returning scalar instead, but in the future will perform elementwise comparison\n",
      "  if xticklabels == []:\n",
      "/Users/ranmarusato/anaconda/lib/python3.6/site-packages/seaborn/matrix.py:151: FutureWarning: elementwise comparison failed; returning scalar instead, but in the future will perform elementwise comparison\n",
      "  if yticklabels == []:\n"
     ]
    },
    {
     "data": {
      "image/png": "[encoded data removed]",
      "text/plain": [
       "<Figure size 432x288 with 2 Axes>"
      ]
     },
     "metadata": {},
     "output_type": "display_data"
    }
   ],
   "source": [
    "sns.heatmap_mstrix = np.corrcoef(X.transpose())\n",
    "# 相関行列のヒートマップを描く\n",
    "sns.heatmap(correlation_matrix, annot=True,\n",
    "            xticklabels=feature_names,\n",
    "            yticklabels=feature_names)\n",
    "\n",
    "# グラフを表示する\n",
    "plt.show()"
   ]
  },
  {
   "cell_type": "code",
   "execution_count": 365,
   "metadata": {},
   "outputs": [
    {
     "name": "stdout",
     "output_type": "stream",
     "text": [
      "二次式における住宅価格への決定係数は0.6841920735857199\n",
      "三次式における住宅価格への決定係数は0.7113550921911396\n",
      "四次式における住宅価格への決定係数は0.6376893527952786\n"
     ]
    }
   ],
   "source": [
    "X=pd.DataFrame(boston.data,columns=boston.feature_names)\n",
    "y = pd.DataFrame(boston.target)\n",
    "\n",
    "X=X.loc[:, ['LSTAT','RM','RAD']]\n",
    "#X=X['LSTAT']['RAD'].values\n",
    "\n",
    "from sklearn.model_selection import train_test_split\n",
    "X_train, X_test, y_train, y_test = train_test_split(X,y,test_size=0.2,random_state=0)\n",
    "\n",
    "degree_2 = PolynomialFeatures(degree=2)\n",
    "degree_3 = PolynomialFeatures(degree=3)\n",
    "degree_4 = PolynomialFeatures(degree=4)\n",
    "\n",
    "x_train_2 = degree_2.fit_transform(X_train)\n",
    "x_train_3 = degree_3.fit_transform(X_train)\n",
    "x_train_4 = degree_4.fit_transform(X_train)\n",
    "\n",
    "lin_2d = LinearRegression()\n",
    "lin_3d = LinearRegression()\n",
    "lin_4d = LinearRegression()\n",
    "\n",
    "lin_2d.fit(x_train_2,y_train)\n",
    "lin_3d.fit(x_train_3,y_train)\n",
    "lin_4d.fit(x_train_4,y_train)\n",
    "\n",
    "x_test_2 = degree_2.fit_transform(X_test)\n",
    "x_test_3 = degree_3.fit_transform(X_test)\n",
    "x_test_4 = degree_4.fit_transform(X_test)\n",
    "\n",
    "score_2d = lin_2d.score(x_test_2,y_test)\n",
    "score_3d = lin_3d.score(x_test_3,y_test)\n",
    "score_4d = lin_4d.score(x_test_4,y_test)\n",
    "\n",
    "print(\"二次式における住宅価格への決定係数は{}\".format(score_2d))\n",
    "print(\"三次式における住宅価格への決定係数は{}\".format(score_3d))\n",
    "print(\"四次式における住宅価格への決定係数は{}\".format(score_4d))"
   ]
  },
  {
   "cell_type": "markdown",
   "metadata": {},
   "source": [
    "## 説明変数'LSTAT','RM','RAD'の３次式で0.71を超えた"
   ]
  },
  {
   "cell_type": "markdown",
   "metadata": {},
   "source": [
    "## 重回帰について記述せよ"
   ]
  },
  {
   "cell_type": "markdown",
   "metadata": {},
   "source": [
    "複数の特徴量を使う回帰を重回帰という。 特徴量を増やせば、誤差関数の誤差が小さくなり、決定係数の値をより高めることが可能で、予測の精度をより向上させることができるというメリットがある。 ただデメリットとしては次数を増やすことによって決定係数の数値がかなり悪くなってしまうことがある。説明変数を増やし、次数をあげると精度と表現力が向上する一方で過学習がおこってしまうというデメリットがある。"
   ]
  }
 ],
 "metadata": {
  "kernelspec": {
   "display_name": "Python 3",
   "language": "python",
   "name": "python3"
  },
  "language_info": {
   "codemirror_mode": {
    "name": "ipython",
    "version": 3
   },
   "file_extension": ".py",
   "mimetype": "text/x-python",
   "name": "python",
   "nbconvert_exporter": "python",
   "pygments_lexer": "ipython3",
   "version": "3.6.1"
  }
 },
 "nbformat": 4,
 "nbformat_minor": 2
}
