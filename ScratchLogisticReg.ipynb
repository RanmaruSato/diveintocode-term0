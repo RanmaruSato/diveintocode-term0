{
 "cells": [
  {
   "cell_type": "markdown",
   "metadata": {},
   "source": [
    "# ロジスティック回帰とは \n",
    "ロジスティック回帰 は線形分離可能なデータの境界線を学習によって見つけてデータの分類を行なう手法。\n",
    "特徴としては境界線が直線になること。そのため、二項分類などクラスの少ないデータに用いられる。 また、データがクラスに分類される確率も計算することが可す。これらの特徴から主に「天気予報の降水確率」など、分類される確率を知りたい時に用いられる。\n",
    "\n",
    "\n",
    "# 交差エントロピー関数とは  \n",
    "情報の最小単位を1bitとして、情報量は確率の関数として,f(p)とあらわせるとする。\n",
    "独立な事象１と２が起きた時の確率Pは、それぞれ\n",
    "P = P1* P2であらわせる。\n",
    "この時の情報量は\n",
    "f(P)=f(P1)*f(P2)とすると、左辺の単位はビット、右辺の単位は（ビット）^2となって一致しなくなる。\n",
    "そこで\n",
    "f(P) = f(P1)+f(P2)となると単位が一致する。\n",
    "つまり、事象１と事象２が起きた時の情報量は事象１が起きたという情報と、事象２が起きたという情報の和であらわせるべきということ。\n",
    "つまり、f(P₁* P₂)＝f(P₁)＋f(P₂）という性質を持つことになる。\n",
    "これは、log(P₁×P₂)=log(P₁)＋log(P₂）という対数関数の性質である。\n",
    "f (p) = log(p)と表したいが、これだとpが小さくなるとf(p)が小さくねったしまう。\n",
    "確率が小さい事象が起きた時の情報量が大きいと考える方が自然なので\n",
    "f(p)＝-log(p)とマイナスをつける。情報エントロピーは何かデータを得た時の驚き具合と表現される。\n",
    "これが自己情報量とあらわせる。\n",
    "通常のエントロピーとはp×log(p)のようにlogの中身と外側に同じ変数が使われているのが普通のエントロピーである。\n",
    "それに対して、交差エントロピーとは、t×log(y)のようにlogの中身と外側に異なる変数が使われているものである。\n",
    "交差エントロピーとは、情報量の期待値であり、確率*実現値で定義できる。\n",
    "\n",
    "つまり、\n",
    "$ { \\displaystyle\n",
    "\\begin{eqnarray*}\n",
    "交差エントロピー&=&期待値 \\\\\n",
    " &=&\\sum_{x} 確率 * 実現値 \\\\\n",
    " &=&\\sum_{x} 確率 * 情報量 \\\\\n",
    " &=&\\sum_{x} p(x)*(-\\log q(x)) \\\\\n",
    " &=&-\\sum_{x} p(x)\\log q(x)\n",
    "\\end{eqnarray*}\n",
    "}\n",
    "$\n",
    "２値分類の誤差関数は、$ {\\log L = -\\sum_{i=1}^N \\left(y^{(i)}\\log f_\\theta(x^{(i)})+(1-y^{(i)})\\log(1-f_\\theta(x^{(i)}))\\right) $\n",
    "\n",
    "# シグモイド関数とは\n",
    "$ \\displaystyle f(x) = \\frac{1}{1+\\exp (-x)} $\n",
    "以上の関数は 0 < f(x) < 1の範囲となる。\n",
    "この関数に入力させることで、確率と同じような性質を与えることができる。\n",
    "# 正則化とは  \n",
    "学習をする際に、偏りすぎたデータにまで必要以上に対応してしまうと、過学習の状態に陥ることがある。\n",
    "過学習の状態は、与えた学習データに対して、小さな誤差となるモデルが構築できている。ただし、ごく一部の例外的なデータに過度に対応したモデルとなっているために、構築した学習モデルを未知データに適用すると必ずしも適切な予測値を返さない状態となる。\n",
    "学習データの中のごく一部の例外的なデータに過度に適用したモデルが構築されている状態ということで過学習という。\n",
    "そのため、極端な重みのデータに対してペナルティを与える正則化が用いられる。正則化とは、モデルを学習する際に、複雑さが増すことに対するペナルティを設け、このペナルティを訓練誤差に加えた量がもっとも小さくなる学習モデルを求めるように汎化性能を高めようとするもの。\n",
    "機械学習では、L1正則化とL2正則化が一般的に使用される。\n",
    "L1正則化は、ペナルティとして、学習モデルのパラメーターの絶対値の総和に用いるもので、L2正則化は、ペナルティとして学習モデルのパラメータの２乗の総和を用いるもので、以下のような特徴を持つ。\n",
    "- L1正則化　特定のデータの重みを0にする事で、不要なデータを削除する\n",
    "- L2正則化　データの大きさに応じて0に近づけて、滑らかなモデルとする\n",
    "\n",
    "# ロジスティック回帰では平均二乗誤差ではなく交差エントロピー誤差を使う理由  \n",
    "凸最適化をするため。"
   ]
  },
  {
   "cell_type": "code",
   "execution_count": 109,
   "metadata": {},
   "outputs": [],
   "source": [
    "#http://aidiary.hatenablog.com/entry/20140415/1397570262"
   ]
  },
  {
   "cell_type": "code",
   "execution_count": 344,
   "metadata": {},
   "outputs": [],
   "source": [
    "import numpy as np\n",
    "import pandas as pd\n",
    "import matplotlib.pyplot as plt\n",
    "import seaborn as sns\n",
    "% matplotlib inline"
   ]
  },
  {
   "cell_type": "code",
   "execution_count": 367,
   "metadata": {},
   "outputs": [],
   "source": [
    "def sigmoid(X):\n",
    "    y = 1.0 / (1.0 + np.exp(-X))\n",
    "    return y      \n",
    "\n",
    "def y_hat(X,theta):\n",
    "    #y =  sigmoid(np.dot(theta,　X.T))\n",
    "    #仮定関数は、シグモイド関数の引数にθxを入れたもの\n",
    "    #theta= 4列\n",
    "    #X = 100*4\n",
    "    #(1*4 ) *(4*100)\n",
    "    # 100\n",
    "    y = sigmoid(np.dot(theta,X.T))\n",
    "    return y\n",
    "\n",
    "def compute_cost(X,y,theta,λ= 0.01):\n",
    "    #numpy配列は計算が早いのでここで変換\n",
    "    X = np.array(X)\n",
    "    y = np.array(y)\n",
    "    #第１項\n",
    "    one_one = np.dot((-1 * y), np.log(y_hat(X,theta)))\n",
    "    one_two = np.dot((1-y),np.log(1-  y_hat(X,theta)))\n",
    "    one = 1/len(X)*(one_one- one_two)\n",
    "    #第２項\n",
    "    two = (λ/2*len(X))*sum(theta**2)\n",
    "    return one+two\n",
    "\n",
    "\n",
    "def  gradient_descent(X,y,theta):\n",
    "\n",
    "        X = np.array(X)\n",
    "        y = np.array(y)\n",
    "        lr = 0.0001\n",
    "       #訓練データの誤差\n",
    "        past_costs = []\n",
    "        #重み\n",
    "        past_thetas = []\n",
    "        #平均二乗和誤差を計算する\n",
    "        loss = compute_cost(X,y,theta)\n",
    "        #追加\n",
    "        past_costs.append(loss)\n",
    "        #追加\n",
    "        past_thetas.append(theta)\n",
    "\n",
    "        for i in range(5000):\n",
    "            #仮定関数\n",
    "            y_h=y_hat(X,theta)\n",
    "\n",
    "            #パラメータの更新式\n",
    "            theta = theta - lr *(1/len(y))*(X.T.dot(y_h-y))\n",
    "            # 訓練データの誤差を計算する\n",
    "            loss = compute_cost(X,y,theta)\n",
    "            #訓練データの誤差を格納する\n",
    "            past_costs.append(loss)\n",
    "            past_thetas.append(theta)\n",
    "\n",
    "        loss = past_costs\n",
    "        theta = past_thetas\n",
    "\n",
    "        return  past_thetas,past_costs\n",
    "    \n",
    "def predict_probs(X,theta):\n",
    "    return  y_hat(X,past_thetas[-1])\n",
    "\n",
    "\n",
    "def predict(X,theta,threshold=0.5):\n",
    "    pred = y_hat(X,theta)\n",
    "    for i in range(pred.size):\n",
    "        if pred[i]>= 0.5:\n",
    "            pred[i] = 1\n",
    "        elif pred[i] < 0.5:\n",
    "            pred[i] = 0\n",
    "    return pred.astype('int')\n",
    "\n",
    "def plot_loss_curve(past_costs):\n",
    "    pd.DataFrame(past_costs).rename(columns={0:'Train'}).plot.line()\n",
    "    plt.title('LossCurve')\n",
    "    plt.show()"
   ]
  },
  {
   "cell_type": "code",
   "execution_count": 41,
   "metadata": {},
   "outputs": [],
   "source": [
    "iris = pd.read_csv('../iris.csv')"
   ]
  },
  {
   "cell_type": "code",
   "execution_count": 42,
   "metadata": {
    "collapsed": true
   },
   "outputs": [],
   "source": [
    "index = (iris['Species'][iris['Species']=='Iris-versicolor'].index)\n",
    "index = index.append( iris['Species'][iris['Species']=='Iris-virginica'].index)\n",
    "iris = iris.iloc[index]"
   ]
  },
  {
   "cell_type": "code",
   "execution_count": 43,
   "metadata": {
    "collapsed": true
   },
   "outputs": [],
   "source": [
    "mapping = {'Iris-versicolor':0,'Iris-virginica':1}\n",
    "iris.Species = iris.Species.map(mapping)"
   ]
  },
  {
   "cell_type": "code",
   "execution_count": 44,
   "metadata": {
    "collapsed": true
   },
   "outputs": [],
   "source": [
    "X = iris.drop(['Id','Species'],axis=1)"
   ]
  },
  {
   "cell_type": "code",
   "execution_count": 45,
   "metadata": {
    "collapsed": true
   },
   "outputs": [],
   "source": [
    "y = iris.Species\n",
    "theta = np.random.rand(4)"
   ]
  },
  {
   "cell_type": "code",
   "execution_count": 47,
   "metadata": {},
   "outputs": [],
   "source": [
    " past_thetas,past_costs = gradient_descent(X,y,theta)"
   ]
  },
  {
   "cell_type": "code",
   "execution_count": null,
   "metadata": {
    "collapsed": true
   },
   "outputs": [],
   "source": [
    "def plot_loss_curve(past_costs):\n",
    "    pd.DataFrame(past_costs).rename(columns={0:'Train'}).plot.line()\n",
    "    plt.title('LossCurve')\n",
    "    plt.show()"
   ]
  },
  {
   "cell_type": "code",
   "execution_count": 361,
   "metadata": {},
   "outputs": [
    {
     "name": "stderr",
     "output_type": "stream",
     "text": [
      "/Users/ranmarusato/anaconda/lib/python3.6/site-packages/matplotlib/font_manager.py:1328: UserWarning: findfont: Font family ['IPAexGothic'] not found. Falling back to DejaVu Sans\n",
      "  (prop.get_family(), self.defaultFamily[fontext]))\n"
     ]
    },
    {
     "data": {
      "image/png": "[encoded data removed]",
      "text/plain": [
       "<Figure size 432x288 with 1 Axes>"
      ]
     },
     "metadata": {},
     "output_type": "display_data"
    }
   ],
   "source": [
    "pd.DataFrame(past_costs).rename(columns={0:'Train'}).plot.line()\n",
    "plt.title('Loss')\n",
    "plt.show()"
   ]
  },
  {
   "cell_type": "code",
   "execution_count": 80,
   "metadata": {
    "collapsed": true
   },
   "outputs": [],
   "source": [
    "#正解率\n",
    "def accuracy_rate(y, t):\n",
    "    #データ型の確認の条件式\n",
    "    return np.sum(y == t)/y.shape[0]"
   ]
  },
  {
   "cell_type": "code",
   "execution_count": 63,
   "metadata": {},
   "outputs": [
    {
     "data": {
      "text/plain": [
       "array([0.48262847, 0.53073288, 0.4961828 , 0.5030165 , 0.50339156,\n",
       "       0.51532509, 0.55479786, 0.49936049, 0.47298556, 0.55586976,\n",
       "       0.47121726, 0.54838482, 0.42630514, 0.51350789, 0.53299324,\n",
       "       0.49530326, 0.5614785 , 0.46218295, 0.48777081, 0.47873499,\n",
       "       0.59897184, 0.49845231, 0.49540412, 0.47762101, 0.4857745 ,\n",
       "       0.49517348, 0.47091382, 0.53099346, 0.53553547, 0.46679988,\n",
       "       0.47939906, 0.46495887, 0.49426306, 0.53536135, 0.57171949,\n",
       "       0.5769745 , 0.50819839, 0.45822861, 0.53435488, 0.51369904,\n",
       "       0.50058425, 0.51963906, 0.48812705, 0.48880622, 0.51757793,\n",
       "       0.5131168 , 0.5230416 , 0.49619709, 0.51194099, 0.51850154,\n",
       "       0.67455354, 0.59067594, 0.56379997, 0.55680759, 0.60969237,\n",
       "       0.53247281, 0.60073366, 0.49935698, 0.51323621, 0.64613985,\n",
       "       0.59598778, 0.55855112, 0.58221604, 0.60088975, 0.66680148,\n",
       "       0.64259396, 0.55257055, 0.58373883, 0.53405782, 0.49421986,\n",
       "       0.61530248, 0.62182983, 0.50054337, 0.55174722, 0.60120422,\n",
       "       0.52296795, 0.56294856, 0.57775244, 0.59130532, 0.48333226,\n",
       "       0.50567172, 0.54580298, 0.6059903 , 0.50984157, 0.49032826,\n",
       "       0.56152926, 0.66859139, 0.56298534, 0.58360414, 0.58311558,\n",
       "       0.6351314 , 0.61475998, 0.59067594, 0.61872715, 0.65813239,\n",
       "       0.61881436, 0.55550361, 0.58488295, 0.66103493, 0.58635054])"
      ]
     },
     "execution_count": 63,
     "metadata": {},
     "output_type": "execute_result"
    }
   ],
   "source": [
    "predict_probs(X,past_thetas[-1])"
   ]
  },
  {
   "cell_type": "code",
   "execution_count": 345,
   "metadata": {},
   "outputs": [],
   "source": [
    "pred = predict(X,past_thetas[-1])"
   ]
  },
  {
   "cell_type": "code",
   "execution_count": 346,
   "metadata": {},
   "outputs": [
    {
     "data": {
      "text/plain": [
       "array([0, 1, 0, 1, 1, 1, 1, 0, 0, 1, 0, 1, 0, 1, 1, 0, 1, 0, 0, 0, 1, 0,\n",
       "       0, 0, 0, 0, 0, 1, 1, 0, 0, 0, 0, 1, 1, 1, 1, 0, 1, 1, 1, 1, 0, 0,\n",
       "       1, 1, 1, 0, 1, 1, 1, 1, 1, 1, 1, 1, 1, 0, 1, 1, 1, 1, 1, 1, 1, 1,\n",
       "       1, 1, 1, 0, 1, 1, 1, 1, 1, 1, 1, 1, 1, 0, 1, 1, 1, 1, 0, 1, 1, 1,\n",
       "       1, 1, 1, 1, 1, 1, 1, 1, 1, 1, 1, 1])"
      ]
     },
     "execution_count": 346,
     "metadata": {},
     "output_type": "execute_result"
    }
   ],
   "source": [
    "pred "
   ]
  },
  {
   "cell_type": "markdown",
   "metadata": {},
   "source": [
    "# 各評価指標の算出"
   ]
  },
  {
   "cell_type": "code",
   "execution_count": 347,
   "metadata": {},
   "outputs": [
    {
     "data": {
      "text/plain": [
       "Int64Index([50, 52, 57, 58, 60, 62, 65, 67, 68, 69, 71, 72, 73, 74, 75, 76, 79,\n",
       "            80, 81, 82, 87, 92, 93, 97],\n",
       "           dtype='int64')"
      ]
     },
     "execution_count": 347,
     "metadata": {},
     "output_type": "execute_result"
    }
   ],
   "source": [
    "y[pred==y].index &y[pred==0].index"
   ]
  },
  {
   "cell_type": "code",
   "execution_count": 274,
   "metadata": {},
   "outputs": [],
   "source": [
    "#TruePositive\n",
    "TP = len(y[pred==y].index &y[pred==0].index)"
   ]
  },
  {
   "cell_type": "code",
   "execution_count": 348,
   "metadata": {},
   "outputs": [
    {
     "data": {
      "text/plain": [
       "Int64Index([100, 101, 102, 103, 104, 105, 106, 108, 109, 110, 111, 112, 113,\n",
       "            114, 115, 116, 117, 118, 120, 121, 122, 123, 124, 125, 126, 127,\n",
       "            128, 130, 131, 132, 133, 135, 136, 137, 138, 139, 140, 141, 142,\n",
       "            143, 144, 145, 146, 147, 148, 149],\n",
       "           dtype='int64')"
      ]
     },
     "execution_count": 348,
     "metadata": {},
     "output_type": "execute_result"
    }
   ],
   "source": [
    "y[pred==y].index &y[pred==1].index"
   ]
  },
  {
   "cell_type": "code",
   "execution_count": 275,
   "metadata": {},
   "outputs": [],
   "source": [
    "#FalsePositive\n",
    "TN = len(y[pred==y].index &y[pred==1].index)"
   ]
  },
  {
   "cell_type": "code",
   "execution_count": 349,
   "metadata": {},
   "outputs": [
    {
     "data": {
      "text/plain": [
       "Int64Index([107, 119, 129, 134], dtype='int64')"
      ]
     },
     "execution_count": 349,
     "metadata": {},
     "output_type": "execute_result"
    }
   ],
   "source": [
    "y[pred!=y].index &y[pred==0].index"
   ]
  },
  {
   "cell_type": "code",
   "execution_count": 276,
   "metadata": {
    "collapsed": true
   },
   "outputs": [],
   "source": [
    "FP = len(y[pred!=y].index &y[pred==0].index)"
   ]
  },
  {
   "cell_type": "code",
   "execution_count": 350,
   "metadata": {},
   "outputs": [
    {
     "data": {
      "text/plain": [
       "Int64Index([51, 53, 54, 55, 56, 59, 61, 63, 64, 66, 70, 77, 78, 83, 84, 85, 86,\n",
       "            88, 89, 90, 91, 94, 95, 96, 98, 99],\n",
       "           dtype='int64')"
      ]
     },
     "execution_count": 350,
     "metadata": {},
     "output_type": "execute_result"
    }
   ],
   "source": [
    "y[pred!=y].index &y[pred==1].index"
   ]
  },
  {
   "cell_type": "code",
   "execution_count": 277,
   "metadata": {
    "collapsed": true
   },
   "outputs": [],
   "source": [
    "FN = len(y[pred!=y].index &y[pred==1].index)"
   ]
  },
  {
   "cell_type": "code",
   "execution_count": 353,
   "metadata": {},
   "outputs": [
    {
     "data": {
      "text/plain": [
       "100"
      ]
     },
     "execution_count": 353,
     "metadata": {},
     "output_type": "execute_result"
    }
   ],
   "source": [
    "len(y)"
   ]
  },
  {
   "cell_type": "markdown",
   "metadata": {},
   "source": [
    "# 指標の抜け漏れがないか確認"
   ]
  },
  {
   "cell_type": "code",
   "execution_count": 354,
   "metadata": {},
   "outputs": [
    {
     "data": {
      "text/plain": [
       "True"
      ]
     },
     "execution_count": 354,
     "metadata": {},
     "output_type": "execute_result"
    }
   ],
   "source": [
    "len(y) == TP+TN+FP+FN"
   ]
  },
  {
   "cell_type": "markdown",
   "metadata": {},
   "source": [
    "# Acuraccy"
   ]
  },
  {
   "cell_type": "code",
   "execution_count": 280,
   "metadata": {},
   "outputs": [],
   "source": [
    "def accuracy(y, pred):\n",
    "    #TruePositive\n",
    "    TP = len(y[pred==y].index &y[pred==0].index)\n",
    "    #TrueNegative\n",
    "    TN = len(y[pred==y].index &y[pred==1].index)\n",
    "    #False Positive\n",
    "    FP = len(y[pred!=y].index &y[pred==0].index)\n",
    "    #Flase Negative\n",
    "    FN = len(y[pred!=y].index &y[pred==1].index)\n",
    "    \n",
    "    accuracy = (TP + TN )/(TP+TN+FP+FN)\n",
    "    return accuracy\n",
    "    "
   ]
  },
  {
   "cell_type": "markdown",
   "metadata": {},
   "source": [
    "# Recall"
   ]
  },
  {
   "cell_type": "code",
   "execution_count": 296,
   "metadata": {
    "collapsed": true
   },
   "outputs": [],
   "source": [
    "def recall(y, pred):\n",
    "    TP = len(y[pred==y].index &y[pred==0].index)\n",
    "    #TrueNegative\n",
    "    TN = len(y[pred==y].index &y[pred==1].index)\n",
    "    #False Positive\n",
    "    FP = len(y[pred!=y].index &y[pred==0].index)\n",
    "    #Flase Negative\n",
    "    FN = len(y[pred!=y].index &y[pred==1].index)\n",
    "    \n",
    "    recall = TP /(TP+FN)\n",
    "    return recall"
   ]
  },
  {
   "cell_type": "code",
   "execution_count": 297,
   "metadata": {},
   "outputs": [
    {
     "data": {
      "text/plain": [
       "0.48"
      ]
     },
     "execution_count": 297,
     "metadata": {},
     "output_type": "execute_result"
    }
   ],
   "source": [
    "recall(y,pred)"
   ]
  },
  {
   "cell_type": "markdown",
   "metadata": {},
   "source": [
    "# Precision"
   ]
  },
  {
   "cell_type": "code",
   "execution_count": 320,
   "metadata": {},
   "outputs": [],
   "source": [
    "def precision(y, pred):\n",
    "    TP = len(y[pred==y].index &y[pred==0].index)\n",
    "    #TrueNegative\n",
    "    TN = len(y[pred==y].index &y[pred==1].index)\n",
    "    #False Positive\n",
    "    FP = len(y[pred!=y].index &y[pred==0].index)\n",
    "    #Flase Negative\n",
    "    FN = len(y[pred!=y].index &y[pred==1].index)\n",
    "    precision = float(TP /(TP+FP ))\n",
    "#     precison = TP /(TP+FP)\n",
    "    return precision"
   ]
  },
  {
   "cell_type": "code",
   "execution_count": 321,
   "metadata": {},
   "outputs": [
    {
     "data": {
      "text/plain": [
       "0.8571428571428571"
      ]
     },
     "execution_count": 321,
     "metadata": {},
     "output_type": "execute_result"
    }
   ],
   "source": [
    "precision(y, pred)"
   ]
  },
  {
   "cell_type": "markdown",
   "metadata": {},
   "source": [
    "# F-1"
   ]
  },
  {
   "cell_type": "code",
   "execution_count": 322,
   "metadata": {
    "collapsed": true
   },
   "outputs": [],
   "source": [
    "def f_1(y,pred):\n",
    "    f_1 = (2*recall(y,pred)*precision(y,pred))/(recall(y,pred)*precision(y,pred))\n",
    "    return f_1"
   ]
  },
  {
   "cell_type": "markdown",
   "metadata": {},
   "source": [
    "# クラス化"
   ]
  },
  {
   "cell_type": "code",
   "execution_count": 337,
   "metadata": {
    "collapsed": true
   },
   "outputs": [],
   "source": [
    "class Metric():\n",
    "    def __init__(self, y,pred):\n",
    "        #教師データ\n",
    "        self.y = y\n",
    "        # 予測値\n",
    "        self.pred = pred\n",
    "        #TruePositive\n",
    "        self.TP = len(y[pred==y].index &y[pred==0].index)\n",
    "        #TrueNegative\n",
    "        self.TN = len(y[pred==y].index &y[pred==1].index)\n",
    "        #FalsePositive\n",
    "        self.FP  = len(y[pred!=y].index &y[pred==0].index)\n",
    "        #FalseNegative\n",
    "        self.FN = len(y[pred!=y].index &y[pred==1].index)\n",
    "        \n",
    "    def accuracy(self):\n",
    "        accuracy = (self.TP + self.TN )/(self.TP+self.TN+self.FP+self.FN)\n",
    "        return accuracy\n",
    "    \n",
    "    def recall(self):\n",
    "        recall = self.TP /(self.TP+self.FN)\n",
    "        return recall\n",
    "    \n",
    "    def precision(self):\n",
    "        precision = float(self.TP /(self.TP+self.FP ))\n",
    "        return precision\n",
    "    \n",
    "    def f_1(self):\n",
    "        f_1 = (2*self.recall()*self.precision())/(self.recall()*self.precision())\n",
    "        return f_1"
   ]
  },
  {
   "cell_type": "markdown",
   "metadata": {},
   "source": [
    "# 通るか確認"
   ]
  },
  {
   "cell_type": "code",
   "execution_count": 338,
   "metadata": {},
   "outputs": [],
   "source": [
    "metric = Metric(y,pred)"
   ]
  },
  {
   "cell_type": "code",
   "execution_count": 339,
   "metadata": {},
   "outputs": [
    {
     "data": {
      "text/plain": [
       "0.7"
      ]
     },
     "execution_count": 339,
     "metadata": {},
     "output_type": "execute_result"
    }
   ],
   "source": [
    "metric.accuracy()"
   ]
  },
  {
   "cell_type": "code",
   "execution_count": 340,
   "metadata": {},
   "outputs": [
    {
     "data": {
      "text/plain": [
       "0.48"
      ]
     },
     "execution_count": 340,
     "metadata": {},
     "output_type": "execute_result"
    }
   ],
   "source": [
    "metric.recall()"
   ]
  },
  {
   "cell_type": "code",
   "execution_count": 341,
   "metadata": {},
   "outputs": [
    {
     "data": {
      "text/plain": [
       "0.8571428571428571"
      ]
     },
     "execution_count": 341,
     "metadata": {},
     "output_type": "execute_result"
    }
   ],
   "source": [
    "metric.precision()"
   ]
  },
  {
   "cell_type": "code",
   "execution_count": 342,
   "metadata": {},
   "outputs": [
    {
     "data": {
      "text/plain": [
       "2.0"
      ]
     },
     "execution_count": 342,
     "metadata": {},
     "output_type": "execute_result"
    }
   ],
   "source": [
    "metric.f_1()"
   ]
  },
  {
   "cell_type": "code",
   "execution_count": 368,
   "metadata": {
    "collapsed": true
   },
   "outputs": [],
   "source": [
    "import numpy as np\n",
    "import pandas as pd\n",
    "class ScratchLogisticRegression():\n",
    "    \"\"\"\n",
    "    線形回帰\n",
    "    ＊コンストラクタ（__init__）のパラメータはここに書いておくと分かりやすい\n",
    "\n",
    "    Parameters\n",
    "    ----------\n",
    "    num_iter : int\n",
    "      イテレーション数\n",
    "    lr : float\n",
    "      学習率\n",
    "    no_bias : bool\n",
    "      バイアス項を入れない場合はTrue\n",
    "    verbose : bool\n",
    "      学習過程を出力する場合はTrue\n",
    "\n",
    "    Attributes\n",
    "    ----------\n",
    "    self.coef_ : 次の形のndarray, shape (n_features,)\n",
    "      パラメータ\n",
    "    self.loss : 次の形のndarray, shape (self.iter,)\n",
    "      学習用データに対する損失の記録\n",
    "    self.val_loss : 次の形のndarray, shape (self.iter,)\n",
    "      検証用データに対する損失の記録\n",
    "\n",
    "    \"\"\"\n",
    "#     num_iter = 3000\n",
    "#     lr= 0.01\n",
    "\n",
    "    def __init__(self, num_iter, lr):\n",
    "        #メソッド内で共有したい変数をおlく\n",
    "        # ハイパーパラメータを属性として記録\n",
    "        self.iter = num_iter\n",
    "        self.lr = lr\n",
    "#         self.bias = bias\n",
    "#         self.verbose = verbose\n",
    "        # 損失を記録する配列を用意\n",
    "        self.loss = np.zeros(self.iter)\n",
    "        self.val_loss = np.zeros(self.iter)\n",
    "        #predictで使う重み\n",
    "        self.theta =  np.random.rand(4)\n",
    "\n",
    "    def sigmoid(self,X):\n",
    "        y = 1.0 / (1.0 + np.exp(-X))\n",
    "        return y      \n",
    "\n",
    "    def y_hat(self,X):\n",
    "        #y =  sigmoid(np.dot(theta,　X.T))\n",
    "        #仮定関数は、シグモイド関数の引数にθxを入れたもの\n",
    "        #theta= 4列\n",
    "        #X = 100*4\n",
    "        #(1*4 ) *(4*100)\n",
    "        # 100\n",
    "        y = self.sigmoid(np.dot(self.theta,X.T))\n",
    "        return y\n",
    "\n",
    "    def compute_cost(self,X,y,λ= 0.01):\n",
    "        X = np.array(X)\n",
    "        y = np.array(y)\n",
    "        # 第１項\n",
    "        one_one = np.dot((-1 * y), np.log(self.y_hat(X)))\n",
    "        one_two = np.dot((1-y),np.log(1-  self.y_hat(X)))\n",
    "        one = 1/len(X)*(one_one- one_two)\n",
    "        two = (λ/2*len(X))*sum(self.theta**2)\n",
    "        return one+two\n",
    "\n",
    "            \n",
    "    def  gradient_descent(self,X,y):\n",
    "\n",
    "            X = np.array(X)\n",
    "            y = np.array(y)\n",
    "            lr = 0.0001\n",
    "           #訓練データの誤差\n",
    "            past_costs = []\n",
    "            #重み\n",
    "            past_thetas = []\n",
    "            #平均二乗和誤差を計算する\n",
    "            loss = self.compute_cost(X,y)\n",
    "            #追加\n",
    "            past_costs.append(self.loss)\n",
    "            #追加\n",
    "            past_thetas.append(self.theta)\n",
    "\n",
    "            for i in range(5000):\n",
    "                #仮定関数\n",
    "                y_h=self.y_hat(X)\n",
    "\n",
    "                #パラメータの更新式\n",
    "                self.theta = self.theta - lr *(1/len(y))*(X.T.dot(y_h-y))\n",
    "                cost = (self.compute_cost(X,y))\n",
    "                # 訓練データの誤差を計算する\n",
    "                loss = self.compute_cost(X,y)\n",
    "                #訓練データの誤差を格納する\n",
    "                past_costs.append(loss)\n",
    "                past_thetas.append(self.theta)\n",
    "\n",
    "            self.loss = past_costs\n",
    "            self.theta = past_thetas\n",
    "\n",
    "            return  past_thetas,past_costs\n",
    "\n",
    "\n",
    "    \n",
    "    def fit(self, X, y, X_val=None, y_val=None):\n",
    "        \"\"\"\n",
    "        線形回帰を学習する。検証用データが入力された場合はそれに対する損失と精度もイテレーションごとに計算する。\n",
    "\n",
    "        Parameters\n",
    "        ----------\n",
    "        X : 次の形のndarray, shape (n_samples, n_features)\n",
    "            学習用データの特徴量\n",
    "        y : 次の形のndarray, shape (n_samples, )\n",
    "            学習用データの正解値\n",
    "        X_val : 次の形のndarray, shape (n_samples, n_features)\n",
    "            検証用データの特徴量\n",
    "        y_val : 次の形のndarray, shape (n_samples, )\n",
    "            検証用データの正解値\n",
    "        \"\"\"\n",
    "        \n",
    "        self.gradient_descent(X,y)\n",
    "#         if self.verbose:\n",
    "#             #verboseをTrueにした際は学習過程を出力\n",
    "#             print()\n",
    "        \n",
    "        \n",
    "    #返す値は他で使わないのでリターンで返す\n",
    "    def predict_probs(self,X):\n",
    "        return np.dot(self.theta[-1],X.T)\n",
    "\n",
    "\n",
    "    def predict(self,X,threshold=0.5):\n",
    "        pred = y_hat(X,theta)\n",
    "        for i in range(pred.size):\n",
    "            if pred[i]>= threshold:\n",
    "                pred[i] = 1\n",
    "            elif pred[i] < threshold:\n",
    "                pred[i] = 0\n",
    "        return pred.astype('int')\n",
    "    \n",
    "    def plot_loss_curve(self):\n",
    "        pd.DataFrame(self.theta).rename(columns={0:'Train'}).plot.line()\n",
    "        plt.title('LossCurve')\n",
    "        plt.show()"
   ]
  },
  {
   "cell_type": "markdown",
   "metadata": {},
   "source": [
    "# Pickleで重みを保存\n",
    "機械学習の学習済みモデルを回す方法。\n",
    "\n"
   ]
  },
  {
   "cell_type": "code",
   "execution_count": null,
   "metadata": {
    "collapsed": true
   },
   "outputs": [],
   "source": []
  },
  {
   "cell_type": "code",
   "execution_count": null,
   "metadata": {
    "collapsed": true
   },
   "outputs": [],
   "source": []
  }
 ],
 "metadata": {
  "kernelspec": {
   "display_name": "Python 3",
   "language": "python",
   "name": "python3"
  },
  "language_info": {
   "codemirror_mode": {
    "name": "ipython",
    "version": 3
   },
   "file_extension": ".py",
   "mimetype": "text/x-python",
   "name": "python",
   "nbconvert_exporter": "python",
   "pygments_lexer": "ipython3",
   "version": "3.6.1"
  }
 },
 "nbformat": 4,
 "nbformat_minor": 2
}
