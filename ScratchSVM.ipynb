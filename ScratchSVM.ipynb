{
 "cells": [
  {
   "cell_type": "markdown",
   "metadata": {},
   "source": [
    "- SVMとは\n",
    "サポートベクトルhとは、予測に必要となる一部のデータのことで、このデータを定めるために\n",
    "マージン最大化と呼ばれる考え方を使う。\n",
    "マージンとは、判別する境界と、データとの距離をさす。\n",
    "![](https://logics-of-blue.com/wp-content/uploads/2017/07/svm-7-intro.jpg)\n",
    "境界の近くにあるデータは、言い換えると「A 種かB種か微妙」な位置にあるデータとみなせる。\n",
    "そこで、教会とデータとの距離（マージン）を大きくすることで誤判別を防ぐ。\n",
    "\n",
    "- 線形回帰とロジスティック回帰との比較\n",
    "　判別分析において、それぞれに適した分布が異なる。\n",
    " ロジスティック回帰では、２つのデータ群はだいたい別れているが、集まっていない。\n",
    " このだいたいという表現を確率を使って表現する。\n",
    " サポートベクターマシーンとロジスティック回帰の違いは、片方のデータの現れ方が0.5以上の領域がないとエラーとなる。\n",
    "- ハードマージンsvmと、ソフトマージンsvmの違い\n",
    "ハードマージンは、全ての訓練データがf(x)で分類可能であるという家庭のもと、分類を行う。\n",
    "しかし、そのようなデータは原人つ的ではなく、一部の訓練データにノイズが乗ったりして、正しく分類できないことがほとんど。\n",
    "そのようなデータセットを分類する場合、ソフトマージンと呼ばれる手法をsvm上で行う。\n",
    "どんなに境界に近いデータ点であっても、全てのデータ点は境界とはユーグリッド距離で１以上離れていなくてはならない。\n",
    "現実的にはこの制約は厳しすぎるので、${y_i(\\boldsymbol{w^{\\mathrm{T}}x_i}+b) \\geq 1-ξ_i \\ \\ \\ (i \\in \\{1...n\\}), \\ \\ \\ ξ_i \\geq 0 }$\n",
    "以上のように制約条件を緩和する、ξiξiは正の整数なので、制約条件の右辺が１以下となります。これはデータ点が境界に近づくことが許されることを表しています。また右辺は負の値にもなり得るので、データ点が境界の反対側に食い込むことすら許容します。この制約緩和をソフトマージンという。\n",
    "![](https://camo.qiitausercontent.com/6a66ceea00c2f02fd3e75d10cc203e17afdf320a/68747470733a2f2f71696974612d696d6167652d73746f72652e73332e616d617a6f6e6177732e636f6d2f302f33343732312f30376365373964612d373739322d333939362d613739352d3935373961663130376339382e706e67)\n",
    "- 　svmの学習時と推定時の計算時間の役割\n",
    "学習時にfor文で多重の処理をしているので時間がかかる。\n",
    "389.28628396987915s\n",
    "0.0004050731658935547s\n",
    "-  scikit-learnのGridSearchCVの役割\n",
    " 機械学習のモデルのハイパーパラメータをチューニングする仕組みとして、GridSearchCVが用意されている。\n",
    " "
   ]
  },
  {
   "cell_type": "code",
   "execution_count": 6,
   "metadata": {
    "collapsed": true
   },
   "outputs": [],
   "source": [
    "import numpy as np\n",
    "\n",
    "np.random.seed(seed=0)\n",
    "n_samples = 500\n",
    "f0= [-1, 2]\n",
    "f1 = [2, -1]\n",
    "cov = [[1.0,0.8], [0.8, 1.0]]\n",
    "\n",
    "f0 = np.random.multivariate_normal(f0, cov, int(n_samples/2))\n",
    "f1 = np.random.multivariate_normal(f1, cov, int(n_samples/2))\n",
    "\n",
    "X = np.concatenate((f0, f1))\n",
    "y = np.concatenate((np.ones((int(n_samples/2))), np.ones((int(n_samples/2))) *(-1))).astype(np.int)\n",
    "\n",
    "random_index = np.random.permutation(np.arange(n_samples))\n",
    "X = X[random_index]\n",
    "y = y[random_index]"
   ]
  },
  {
   "cell_type": "code",
   "execution_count": 56,
   "metadata": {},
   "outputs": [],
   "source": [
    "import numpy as np\n",
    "import matplotlib.pyplot as plt\n",
    "\n",
    "#SVMのクラス\n",
    "class  ScratchSVM:\n",
    "    \n",
    "  #初期値の設定\n",
    "    def __init__(self,threshold=1e-5,ite=100\n",
    "                 ,lr=0.03):\n",
    "        self.threshold = threshold\n",
    "        # 更新回数\n",
    "        self.ite = ite\n",
    "        # 学習率\n",
    "        self.lr = lr\n",
    "        # self.NにXの行数を代入\n",
    "        self.N = np.shape(X)[0]\n",
    "        #ラグランジュ乗数の初期化\n",
    "        self.λ = np.ones((len(X),1))\n",
    "        \n",
    "     # SVMの学習部分のメソッド  \n",
    "    def fit(self,X,y):\n",
    "      # 最急降下法開始\n",
    "        count = 0\n",
    "        # 指定した更新回数分ループする\n",
    "        while(count < self.ite):\n",
    "            for i in range(self.N):\n",
    "                ans = 0\n",
    "                for j in range(self.N):\n",
    "                  # 最急降下法の更新式の一部\n",
    "                  ans += self.λ[j]*y[i]*y[j]*np.dot(X[i].T,X[j])\n",
    "                # 最急降下法の更新式\n",
    "                self.λ[i] += self.lr * (1-ans)\n",
    "                # ラグランジュ乗数は0以上なので負の値をとると、0を代入する。\n",
    "                if self.λ[i] < 0:\n",
    "                    self.λ[i] = 0\n",
    "            count +=1\n",
    "            print(count)\n",
    "        #閾値より大きいラグランジュ乗数をサポートベクトルとして取り出す\n",
    "        self.sv =  np.where(self.λ>1e-5)[0]\n",
    "        return self.λ,self.sv \n",
    "    def predict(self,X):\n",
    "        pred = 0\n",
    "        for n in self.sv:\n",
    "            pred += np.dot(X,X[n].T)*self.λ[n]\n",
    "#         y_0 = pred[pred > 0] \n",
    "#         y_1 = pred[pred < 0] \n",
    "\n",
    "        pred = pred.astype(int)\n",
    "        return pred"
   ]
  },
  {
   "cell_type": "code",
   "execution_count": 57,
   "metadata": {},
   "outputs": [],
   "source": [
    "model = ScratchSVM()"
   ]
  },
  {
   "cell_type": "code",
   "execution_count": 63,
   "metadata": {},
   "outputs": [
    {
     "name": "stdout",
     "output_type": "stream",
     "text": [
      "1\n",
      "2\n",
      "3\n",
      "4\n",
      "5\n",
      "6\n",
      "7\n",
      "8\n",
      "9\n",
      "10\n",
      "11\n",
      "12\n",
      "13\n",
      "14\n",
      "15\n",
      "16\n",
      "17\n",
      "18\n",
      "19\n",
      "20\n",
      "21\n",
      "22\n",
      "23\n",
      "24\n",
      "25\n",
      "26\n",
      "27\n",
      "28\n",
      "29\n",
      "30\n",
      "31\n",
      "32\n",
      "33\n",
      "34\n",
      "35\n",
      "36\n",
      "37\n",
      "38\n",
      "39\n",
      "40\n",
      "41\n",
      "42\n",
      "43\n",
      "44\n",
      "45\n",
      "46\n",
      "47\n",
      "48\n",
      "49\n",
      "50\n",
      "51\n",
      "52\n",
      "53\n",
      "54\n",
      "55\n",
      "56\n",
      "57\n",
      "58\n",
      "59\n",
      "60\n",
      "61\n",
      "62\n",
      "63\n",
      "64\n",
      "65\n",
      "66\n",
      "67\n",
      "68\n",
      "69\n",
      "70\n",
      "71\n",
      "72\n",
      "73\n",
      "74\n",
      "75\n",
      "76\n",
      "77\n",
      "78\n",
      "79\n",
      "80\n",
      "81\n",
      "82\n",
      "83\n",
      "84\n",
      "85\n",
      "86\n",
      "87\n",
      "88\n",
      "89\n",
      "90\n",
      "91\n",
      "92\n",
      "93\n",
      "94\n",
      "95\n",
      "96\n",
      "97\n",
      "98\n",
      "99\n",
      "100\n",
      "time : 389.28628396987915s\n"
     ]
    }
   ],
   "source": [
    "import time\n",
    "t0 = time.time()\n",
    "model.fit(X,y)\n",
    "t1 = time.time()\n",
    "print('time : {}s'.format(t1-t0))"
   ]
  },
  {
   "cell_type": "code",
   "execution_count": 65,
   "metadata": {},
   "outputs": [
    {
     "name": "stdout",
     "output_type": "stream",
     "text": [
      "time : 0.0004050731658935547s\n"
     ]
    }
   ],
   "source": [
    "\n",
    "t0 = time.time()\n",
    "model.predict(X)\n",
    "t1 = time.time()\n",
    "print('time : {}s'.format(t1-t0))"
   ]
  },
  {
   "cell_type": "code",
   "execution_count": 58,
   "metadata": {},
   "outputs": [
    {
     "name": "stdout",
     "output_type": "stream",
     "text": [
      "1\n",
      "2\n",
      "3\n",
      "4\n",
      "5\n",
      "6\n",
      "7\n",
      "8\n",
      "9\n",
      "10\n",
      "11\n",
      "12\n",
      "13\n",
      "14\n",
      "15\n",
      "16\n",
      "17\n",
      "18\n",
      "19\n",
      "20\n",
      "21\n",
      "22\n",
      "23\n",
      "24\n",
      "25\n",
      "26\n",
      "27\n",
      "28\n",
      "29\n",
      "30\n",
      "31\n",
      "32\n",
      "33\n",
      "34\n",
      "35\n",
      "36\n",
      "37\n",
      "38\n",
      "39\n",
      "40\n",
      "41\n",
      "42\n",
      "43\n",
      "44\n",
      "45\n",
      "46\n",
      "47\n",
      "48\n",
      "49\n",
      "50\n",
      "51\n",
      "52\n",
      "53\n",
      "54\n",
      "55\n",
      "56\n",
      "57\n",
      "58\n",
      "59\n",
      "60\n",
      "61\n",
      "62\n",
      "63\n",
      "64\n",
      "65\n",
      "66\n",
      "67\n",
      "68\n",
      "69\n",
      "70\n",
      "71\n",
      "72\n",
      "73\n",
      "74\n",
      "75\n",
      "76\n",
      "77\n",
      "78\n",
      "79\n",
      "80\n",
      "81\n",
      "82\n",
      "83\n",
      "84\n",
      "85\n",
      "86\n",
      "87\n",
      "88\n",
      "89\n",
      "90\n",
      "91\n",
      "92\n",
      "93\n",
      "94\n",
      "95\n",
      "96\n",
      "97\n",
      "98\n",
      "99\n",
      "100\n"
     ]
    }
   ],
   "source": [
    "λ, sv = model.fit(X,y)\n"
   ]
  },
  {
   "cell_type": "code",
   "execution_count": 59,
   "metadata": {},
   "outputs": [
    {
     "data": {
      "text/plain": [
       "array([121, 123, 162, 326, 336, 499])"
      ]
     },
     "execution_count": 59,
     "metadata": {},
     "output_type": "execute_result"
    }
   ],
   "source": [
    "sv"
   ]
  },
  {
   "cell_type": "code",
   "execution_count": 60,
   "metadata": {},
   "outputs": [
    {
     "name": "stderr",
     "output_type": "stream",
     "text": [
      "/Users/ranmarusato/anaconda/lib/python3.6/site-packages/matplotlib/font_manager.py:1328: UserWarning: findfont: Font family ['IPAMincho'] not found. Falling back to DejaVu Sans\n",
      "  (prop.get_family(), self.defaultFamily[fontext]))\n"
     ]
    },
    {
     "data": {
      "image/png": "[encoded data removed]",
      "text/plain": [
       "<Figure size 432x288 with 1 Axes>"
      ]
     },
     "metadata": {},
     "output_type": "display_data"
    }
   ],
   "source": [
    "plt.scatter(X[:,0], X[:,1], s=80, c='b', marker='o')\n",
    "for n in sv:\n",
    "    plt.scatter(X[n,0], X[n,1], s=80, c='r', marker='o')\n",
    "    \n",
    "#サポートベクターも同様にプロット\n",
    "\n",
    "step = 0.1\n",
    "mesh_f0, mesh_f1  = np.meshgrid(np.arange(np.min(X[:,0])-0.5, np.max(X[:,0])+0.5, step), np.arange(np.min(X[:,1])-0.5, np.max(X[:,1])+0.5, step))\n",
    "mesh = np.c_[np.ravel(mesh_f0),np.ravel(mesh_f1)]\n",
    "pred = model.predict(mesh).reshape(mesh_f0.shape)\n",
    "plt.contour(mesh_f0, mesh_f1, pred, 1)\n",
    "plt.show()"
   ]
  },
  {
   "cell_type": "code",
   "execution_count": null,
   "metadata": {
    "collapsed": true
   },
   "outputs": [],
   "source": []
  },
  {
   "cell_type": "code",
   "execution_count": null,
   "metadata": {
    "collapsed": true
   },
   "outputs": [],
   "source": []
  },
  {
   "cell_type": "code",
   "execution_count": null,
   "metadata": {
    "collapsed": true
   },
   "outputs": [],
   "source": []
  },
  {
   "cell_type": "code",
   "execution_count": null,
   "metadata": {
    "collapsed": true
   },
   "outputs": [],
   "source": []
  },
  {
   "cell_type": "code",
   "execution_count": 3,
   "metadata": {
    "collapsed": true
   },
   "outputs": [],
   "source": [
    "#wの乱数の発生\n",
    "import numpy as np\n",
    "w = np.random.rand(2)"
   ]
  },
  {
   "cell_type": "code",
   "execution_count": 6,
   "metadata": {
    "scrolled": true
   },
   "outputs": [
    {
     "data": {
      "text/plain": [
       "array([-1,  1,  1,  1,  1,  1, -1, -1, -1, -1, -1,  1,  1, -1,  1,  1,  1,\n",
       "       -1, -1,  1,  1,  1, -1, -1,  1, -1,  1, -1,  1, -1,  1,  1,  1, -1,\n",
       "        1,  1,  1,  1, -1, -1,  1, -1, -1,  1, -1, -1,  1,  1,  1, -1, -1,\n",
       "        1,  1,  1,  1, -1,  1,  1,  1, -1, -1,  1,  1,  1, -1,  1, -1, -1,\n",
       "       -1, -1, -1,  1, -1,  1,  1,  1, -1, -1,  1,  1,  1,  1,  1, -1,  1,\n",
       "       -1, -1,  1,  1, -1, -1,  1,  1, -1,  1,  1,  1, -1,  1, -1, -1, -1,\n",
       "        1, -1,  1,  1, -1, -1,  1, -1, -1, -1,  1, -1,  1, -1, -1,  1,  1,\n",
       "        1,  1,  1, -1,  1,  1, -1, -1, -1, -1,  1,  1,  1,  1, -1, -1,  1,\n",
       "       -1,  1, -1, -1, -1,  1,  1,  1,  1,  1, -1,  1,  1, -1, -1, -1, -1,\n",
       "        1,  1,  1, -1,  1, -1, -1,  1,  1,  1,  1, -1, -1,  1, -1, -1, -1,\n",
       "       -1, -1, -1,  1,  1,  1, -1, -1,  1, -1, -1,  1, -1, -1,  1, -1, -1,\n",
       "        1,  1, -1,  1, -1, -1, -1,  1, -1, -1, -1, -1, -1,  1, -1,  1, -1,\n",
       "       -1, -1,  1,  1,  1, -1, -1,  1,  1, -1, -1,  1, -1, -1,  1,  1, -1,\n",
       "        1,  1, -1,  1,  1,  1, -1, -1, -1, -1, -1, -1, -1, -1,  1,  1, -1,\n",
       "        1, -1,  1, -1,  1, -1, -1,  1, -1, -1,  1, -1,  1,  1, -1,  1,  1,\n",
       "        1, -1,  1, -1,  1, -1, -1, -1,  1,  1,  1,  1,  1, -1,  1, -1, -1,\n",
       "        1,  1,  1,  1,  1, -1,  1, -1, -1,  1,  1,  1,  1, -1,  1,  1, -1,\n",
       "       -1, -1,  1,  1,  1,  1, -1, -1, -1, -1,  1,  1,  1, -1, -1,  1,  1,\n",
       "       -1, -1,  1,  1,  1,  1,  1,  1, -1, -1,  1, -1, -1,  1,  1,  1, -1,\n",
       "        1, -1,  1, -1,  1,  1,  1,  1,  1,  1, -1, -1,  1,  1, -1, -1, -1,\n",
       "        1,  1,  1, -1,  1, -1,  1,  1,  1, -1,  1, -1,  1, -1, -1,  1, -1,\n",
       "       -1, -1, -1, -1, -1, -1, -1, -1, -1, -1,  1,  1,  1,  1, -1,  1,  1,\n",
       "        1,  1,  1, -1, -1, -1,  1, -1, -1,  1,  1, -1, -1,  1,  1, -1, -1,\n",
       "       -1,  1,  1,  1,  1, -1,  1,  1,  1, -1, -1,  1, -1,  1,  1, -1,  1,\n",
       "       -1,  1, -1,  1,  1, -1,  1,  1,  1,  1, -1,  1, -1, -1, -1, -1,  1,\n",
       "       -1, -1, -1, -1, -1,  1, -1, -1, -1, -1, -1,  1, -1,  1, -1,  1,  1,\n",
       "        1, -1,  1, -1, -1,  1,  1, -1, -1, -1, -1, -1, -1,  1, -1, -1, -1,\n",
       "        1, -1, -1,  1,  1, -1,  1, -1, -1,  1, -1,  1,  1, -1, -1,  1,  1,\n",
       "       -1,  1, -1, -1,  1, -1,  1, -1,  1, -1, -1, -1, -1, -1,  1,  1, -1,\n",
       "       -1, -1, -1,  1,  1,  1, -1])"
      ]
     },
     "execution_count": 6,
     "metadata": {},
     "output_type": "execute_result"
    }
   ],
   "source": []
  },
  {
   "cell_type": "code",
   "execution_count": 8,
   "metadata": {
    "collapsed": true
   },
   "outputs": [],
   "source": [
    "# SVMの学習部分のメソッド\n",
    "def train_svm(self,X,t):\n",
    "  # 最急降下法開始\n",
    "\n",
    "    # kernelを計算\n",
    "    count = 0\n",
    "\n",
    "    # 指定した更新回数分ループする\n",
    "    while(count < self.loop):\n",
    "        for i in range(self.N):\n",
    "            ans = 0\n",
    "            for j in range(self.N):\n",
    "              # 最急降下法の更新式の一部\n",
    "              ans += self.λ[j]*y[i]*y[j]*np.dot(X[i].T,X[j])\n",
    "            # 最急降下法の更新式\n",
    "            self.λ[i] += self.lr * (1-ans)\n",
    "            # ラグランジュ乗数は0以上なので負の値をとると、0を代入する。\n",
    "            if λ[i] < 0:\n",
    "                λ[i] = 0\n",
    "            count += 1\n",
    "    #閾値より大きいラグランジュ乗数をサポートベクトルとして取り出す\n",
    "    self.sv =  np.where(λ>1e-5)[0]\n",
    "    \n",
    "def preditc(self,X):\n",
    "    pred = 0\n",
    "    for n in self.sv:\n",
    "        pred += np.dot(X,X[n].T)*λ[n]*y[n]\n",
    "    pred[pred > 0] =1\n",
    "    pred[pred < 0] =-1\n",
    "    pred = pred.astype(int)\n",
    "    return pred\n",
    "        \n",
    "  # 最急降下法終了\n",
    "    # しきい値以上の値となったラグランジュ乗数をサポートベクトルとして取り出す\n",
    "#     self.sv = np.where(λ>self.threshold)[0]\n",
    "#     # サポートベクトルの数\n",
    "#     self.nsupport = len(self.sv)\n",
    "#     print self.nsupport,\"support vector found\"\n",
    "\n",
    "#     # それぞれサポートベクトルのデータのみを格納していく\n",
    "#     self.X = X[self.sv,:]\n",
    "#     self.λ = λ[self.sv]\n",
    "#     self.y = t[self.sv]\n",
    "\n",
    "#     # wの計算式\n",
    "#     self.w = np.array([0.,0.])\n",
    "#     for i in range(self.nsupport):\n",
    "#       self.w += self.λ[i]*self.y[i]*self.X[i]\n",
    "\n",
    "#     # θの計算式\n",
    "#     self.b = np.sum(self.y)\n",
    "#     for n in range(self.nsupport):\n",
    "#       self.b -= np.sum(self.λ*self.t*np.reshape(self.K[self.sv[n],self.sv],(self.nsupport,1)))\n",
    "#     self.b /= len(self.λ)\n"
   ]
  },
  {
   "cell_type": "code",
   "execution_count": null,
   "metadata": {
    "collapsed": true
   },
   "outputs": [],
   "source": [
    "count = 0\n",
    "while(count< 100):\n",
    "    for i in range(len(X)):\n",
    "        ans = 0\n",
    "        for j in range(len(X)):\n",
    "          # 最急降下法の更新式の一部\n",
    "            ans += λ[j]*y[i]*y[j]*np.dot(X[i].T,X[j])\n",
    "        # 最急降下法の更新式 (lr:学習率)\n",
    "        λ[i] += lr * (1-ans)\n",
    "        # ラグランジュ乗数は0以上なので負の値をとると、0を代入する。\n",
    "        if λ[i] < 0:\n",
    "            λ[i] = 0\n",
    "    count +=1\n"
   ]
  }
 ],
 "metadata": {
  "kernelspec": {
   "display_name": "Python 3",
   "language": "python",
   "name": "python3"
  },
  "language_info": {
   "codemirror_mode": {
    "name": "ipython",
    "version": 3
   },
   "file_extension": ".py",
   "mimetype": "text/x-python",
   "name": "python",
   "nbconvert_exporter": "python",
   "pygments_lexer": "ipython3",
   "version": "3.6.1"
  }
 },
 "nbformat": 4,
 "nbformat_minor": 2
}
